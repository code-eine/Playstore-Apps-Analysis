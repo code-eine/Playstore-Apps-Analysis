{
 "cells": [
  {
   "cell_type": "markdown",
   "metadata": {},
   "source": [
    "# Google Play Store Apps Analysis"
   ]
  },
  {
   "cell_type": "code",
   "execution_count": 12,
   "metadata": {
    "execution": {
     "iopub.execute_input": "2022-01-08T20:55:50.238843Z",
     "iopub.status.busy": "2022-01-08T20:55:50.238581Z",
     "iopub.status.idle": "2022-01-08T20:55:50.246383Z",
     "shell.execute_reply": "2022-01-08T20:55:50.245581Z",
     "shell.execute_reply.started": "2022-01-08T20:55:50.238816Z"
    }
   },
   "outputs": [],
   "source": [
    "# importing the required libraries\n",
    "\n",
    "import pandas as pd\n",
    "import numpy as np\n",
    "import matplotlib.pyplot as plt\n",
    "import seaborn as sns\n",
    "%matplotlib inline\n",
    "\n",
    "sns.set_style('darkgrid')\n",
    "plt.rcParams['font.size'] =14 \n",
    "plt.rcParams['figure.figsize'] = (9, 5)\n",
    "plt.rcParams['figure.facecolor'] = '#00000000'"
   ]
  },
  {
   "cell_type": "code",
   "execution_count": 13,
   "metadata": {
    "execution": {
     "iopub.execute_input": "2022-01-08T20:55:50.248289Z",
     "iopub.status.busy": "2022-01-08T20:55:50.248021Z",
     "iopub.status.idle": "2022-01-08T20:55:50.263386Z",
     "shell.execute_reply": "2022-01-08T20:55:50.262841Z",
     "shell.execute_reply.started": "2022-01-08T20:55:50.248259Z"
    }
   },
   "outputs": [],
   "source": [
    "# suppressing the chained operations warning\n",
    "\n",
    "pd.options.mode.chained_assignment = None"
   ]
  },
  {
   "cell_type": "code",
   "execution_count": 14,
   "metadata": {
    "execution": {
     "iopub.execute_input": "2022-01-08T20:55:50.264759Z",
     "iopub.status.busy": "2022-01-08T20:55:50.264387Z",
     "iopub.status.idle": "2022-01-08T20:55:50.335329Z",
     "shell.execute_reply": "2022-01-08T20:55:50.334799Z",
     "shell.execute_reply.started": "2022-01-08T20:55:50.264717Z"
    }
   },
   "outputs": [
    {
     "data": {
      "text/html": [
       "<div>\n",
       "<style scoped>\n",
       "    .dataframe tbody tr th:only-of-type {\n",
       "        vertical-align: middle;\n",
       "    }\n",
       "\n",
       "    .dataframe tbody tr th {\n",
       "        vertical-align: top;\n",
       "    }\n",
       "\n",
       "    .dataframe thead th {\n",
       "        text-align: right;\n",
       "    }\n",
       "</style>\n",
       "<table border=\"1\" class=\"dataframe\">\n",
       "  <thead>\n",
       "    <tr style=\"text-align: right;\">\n",
       "      <th></th>\n",
       "      <th>App</th>\n",
       "      <th>Category</th>\n",
       "      <th>Rating</th>\n",
       "      <th>Reviews</th>\n",
       "      <th>Size</th>\n",
       "      <th>Installs</th>\n",
       "      <th>Type</th>\n",
       "      <th>Price</th>\n",
       "      <th>Content Rating</th>\n",
       "      <th>Genres</th>\n",
       "      <th>Last Updated</th>\n",
       "      <th>Current Ver</th>\n",
       "      <th>Android Ver</th>\n",
       "    </tr>\n",
       "  </thead>\n",
       "  <tbody>\n",
       "    <tr>\n",
       "      <th>0</th>\n",
       "      <td>Photo Editor &amp; Candy Camera &amp; Grid &amp; ScrapBook</td>\n",
       "      <td>ART_AND_DESIGN</td>\n",
       "      <td>4.1</td>\n",
       "      <td>159</td>\n",
       "      <td>19000.000000</td>\n",
       "      <td>10,000+</td>\n",
       "      <td>Free</td>\n",
       "      <td>0</td>\n",
       "      <td>Everyone</td>\n",
       "      <td>Art &amp; Design</td>\n",
       "      <td>January 7, 2018</td>\n",
       "      <td>1.0.0</td>\n",
       "      <td>4.0.3 and up</td>\n",
       "    </tr>\n",
       "    <tr>\n",
       "      <th>1</th>\n",
       "      <td>Coloring book moana</td>\n",
       "      <td>ART_AND_DESIGN</td>\n",
       "      <td>3.9</td>\n",
       "      <td>967</td>\n",
       "      <td>14000.000000</td>\n",
       "      <td>500,000+</td>\n",
       "      <td>Free</td>\n",
       "      <td>0</td>\n",
       "      <td>Everyone</td>\n",
       "      <td>Art &amp; Design;Pretend Play</td>\n",
       "      <td>January 15, 2018</td>\n",
       "      <td>2.0.0</td>\n",
       "      <td>4.0.3 and up</td>\n",
       "    </tr>\n",
       "    <tr>\n",
       "      <th>2</th>\n",
       "      <td>U Launcher Lite – FREE Live Cool Themes, Hide ...</td>\n",
       "      <td>ART_AND_DESIGN</td>\n",
       "      <td>4.7</td>\n",
       "      <td>87510</td>\n",
       "      <td>8700.000000</td>\n",
       "      <td>5,000,000+</td>\n",
       "      <td>Free</td>\n",
       "      <td>0</td>\n",
       "      <td>Everyone</td>\n",
       "      <td>Art &amp; Design</td>\n",
       "      <td>August 1, 2018</td>\n",
       "      <td>1.2.4</td>\n",
       "      <td>4.0.3 and up</td>\n",
       "    </tr>\n",
       "    <tr>\n",
       "      <th>3</th>\n",
       "      <td>Sketch - Draw &amp; Paint</td>\n",
       "      <td>ART_AND_DESIGN</td>\n",
       "      <td>4.5</td>\n",
       "      <td>215644</td>\n",
       "      <td>25000.000000</td>\n",
       "      <td>50,000,000+</td>\n",
       "      <td>Free</td>\n",
       "      <td>0</td>\n",
       "      <td>Teen</td>\n",
       "      <td>Art &amp; Design</td>\n",
       "      <td>June 8, 2018</td>\n",
       "      <td>Varies with device</td>\n",
       "      <td>4.2 and up</td>\n",
       "    </tr>\n",
       "    <tr>\n",
       "      <th>4</th>\n",
       "      <td>Pixel Draw - Number Art Coloring Book</td>\n",
       "      <td>ART_AND_DESIGN</td>\n",
       "      <td>4.3</td>\n",
       "      <td>967</td>\n",
       "      <td>2800.000000</td>\n",
       "      <td>100,000+</td>\n",
       "      <td>Free</td>\n",
       "      <td>0</td>\n",
       "      <td>Everyone</td>\n",
       "      <td>Art &amp; Design;Creativity</td>\n",
       "      <td>June 20, 2018</td>\n",
       "      <td>1.1</td>\n",
       "      <td>4.4 and up</td>\n",
       "    </tr>\n",
       "    <tr>\n",
       "      <th>...</th>\n",
       "      <td>...</td>\n",
       "      <td>...</td>\n",
       "      <td>...</td>\n",
       "      <td>...</td>\n",
       "      <td>...</td>\n",
       "      <td>...</td>\n",
       "      <td>...</td>\n",
       "      <td>...</td>\n",
       "      <td>...</td>\n",
       "      <td>...</td>\n",
       "      <td>...</td>\n",
       "      <td>...</td>\n",
       "      <td>...</td>\n",
       "    </tr>\n",
       "    <tr>\n",
       "      <th>10836</th>\n",
       "      <td>Sya9a Maroc - FR</td>\n",
       "      <td>FAMILY</td>\n",
       "      <td>4.5</td>\n",
       "      <td>38</td>\n",
       "      <td>53000.000000</td>\n",
       "      <td>5,000+</td>\n",
       "      <td>Free</td>\n",
       "      <td>0</td>\n",
       "      <td>Everyone</td>\n",
       "      <td>Education</td>\n",
       "      <td>July 25, 2017</td>\n",
       "      <td>1.48</td>\n",
       "      <td>4.1 and up</td>\n",
       "    </tr>\n",
       "    <tr>\n",
       "      <th>10837</th>\n",
       "      <td>Fr. Mike Schmitz Audio Teachings</td>\n",
       "      <td>FAMILY</td>\n",
       "      <td>5.0</td>\n",
       "      <td>4</td>\n",
       "      <td>3600.000000</td>\n",
       "      <td>100+</td>\n",
       "      <td>Free</td>\n",
       "      <td>0</td>\n",
       "      <td>Everyone</td>\n",
       "      <td>Education</td>\n",
       "      <td>July 6, 2018</td>\n",
       "      <td>1.0</td>\n",
       "      <td>4.1 and up</td>\n",
       "    </tr>\n",
       "    <tr>\n",
       "      <th>10838</th>\n",
       "      <td>Parkinson Exercices FR</td>\n",
       "      <td>MEDICAL</td>\n",
       "      <td>NaN</td>\n",
       "      <td>3</td>\n",
       "      <td>9500.000000</td>\n",
       "      <td>1,000+</td>\n",
       "      <td>Free</td>\n",
       "      <td>0</td>\n",
       "      <td>Everyone</td>\n",
       "      <td>Medical</td>\n",
       "      <td>January 20, 2017</td>\n",
       "      <td>1.0</td>\n",
       "      <td>2.2 and up</td>\n",
       "    </tr>\n",
       "    <tr>\n",
       "      <th>10839</th>\n",
       "      <td>The SCP Foundation DB fr nn5n</td>\n",
       "      <td>BOOKS_AND_REFERENCE</td>\n",
       "      <td>4.5</td>\n",
       "      <td>114</td>\n",
       "      <td>21516.529524</td>\n",
       "      <td>1,000+</td>\n",
       "      <td>Free</td>\n",
       "      <td>0</td>\n",
       "      <td>Mature 17+</td>\n",
       "      <td>Books &amp; Reference</td>\n",
       "      <td>January 19, 2015</td>\n",
       "      <td>Varies with device</td>\n",
       "      <td>Varies with device</td>\n",
       "    </tr>\n",
       "    <tr>\n",
       "      <th>10840</th>\n",
       "      <td>iHoroscope - 2018 Daily Horoscope &amp; Astrology</td>\n",
       "      <td>LIFESTYLE</td>\n",
       "      <td>4.5</td>\n",
       "      <td>398307</td>\n",
       "      <td>19000.000000</td>\n",
       "      <td>10,000,000+</td>\n",
       "      <td>Free</td>\n",
       "      <td>0</td>\n",
       "      <td>Everyone</td>\n",
       "      <td>Lifestyle</td>\n",
       "      <td>July 25, 2018</td>\n",
       "      <td>Varies with device</td>\n",
       "      <td>Varies with device</td>\n",
       "    </tr>\n",
       "  </tbody>\n",
       "</table>\n",
       "<p>10841 rows × 13 columns</p>\n",
       "</div>"
      ],
      "text/plain": [
       "                                                     App             Category  \\\n",
       "0         Photo Editor & Candy Camera & Grid & ScrapBook       ART_AND_DESIGN   \n",
       "1                                    Coloring book moana       ART_AND_DESIGN   \n",
       "2      U Launcher Lite – FREE Live Cool Themes, Hide ...       ART_AND_DESIGN   \n",
       "3                                  Sketch - Draw & Paint       ART_AND_DESIGN   \n",
       "4                  Pixel Draw - Number Art Coloring Book       ART_AND_DESIGN   \n",
       "...                                                  ...                  ...   \n",
       "10836                                   Sya9a Maroc - FR               FAMILY   \n",
       "10837                   Fr. Mike Schmitz Audio Teachings               FAMILY   \n",
       "10838                             Parkinson Exercices FR              MEDICAL   \n",
       "10839                      The SCP Foundation DB fr nn5n  BOOKS_AND_REFERENCE   \n",
       "10840      iHoroscope - 2018 Daily Horoscope & Astrology            LIFESTYLE   \n",
       "\n",
       "       Rating Reviews          Size     Installs  Type Price Content Rating  \\\n",
       "0         4.1     159  19000.000000      10,000+  Free     0       Everyone   \n",
       "1         3.9     967  14000.000000     500,000+  Free     0       Everyone   \n",
       "2         4.7   87510   8700.000000   5,000,000+  Free     0       Everyone   \n",
       "3         4.5  215644  25000.000000  50,000,000+  Free     0           Teen   \n",
       "4         4.3     967   2800.000000     100,000+  Free     0       Everyone   \n",
       "...       ...     ...           ...          ...   ...   ...            ...   \n",
       "10836     4.5      38  53000.000000       5,000+  Free     0       Everyone   \n",
       "10837     5.0       4   3600.000000         100+  Free     0       Everyone   \n",
       "10838     NaN       3   9500.000000       1,000+  Free     0       Everyone   \n",
       "10839     4.5     114  21516.529524       1,000+  Free     0     Mature 17+   \n",
       "10840     4.5  398307  19000.000000  10,000,000+  Free     0       Everyone   \n",
       "\n",
       "                          Genres      Last Updated         Current Ver  \\\n",
       "0                   Art & Design   January 7, 2018               1.0.0   \n",
       "1      Art & Design;Pretend Play  January 15, 2018               2.0.0   \n",
       "2                   Art & Design    August 1, 2018               1.2.4   \n",
       "3                   Art & Design      June 8, 2018  Varies with device   \n",
       "4        Art & Design;Creativity     June 20, 2018                 1.1   \n",
       "...                          ...               ...                 ...   \n",
       "10836                  Education     July 25, 2017                1.48   \n",
       "10837                  Education      July 6, 2018                 1.0   \n",
       "10838                    Medical  January 20, 2017                 1.0   \n",
       "10839          Books & Reference  January 19, 2015  Varies with device   \n",
       "10840                  Lifestyle     July 25, 2018  Varies with device   \n",
       "\n",
       "              Android Ver  \n",
       "0            4.0.3 and up  \n",
       "1            4.0.3 and up  \n",
       "2            4.0.3 and up  \n",
       "3              4.2 and up  \n",
       "4              4.4 and up  \n",
       "...                   ...  \n",
       "10836          4.1 and up  \n",
       "10837          4.1 and up  \n",
       "10838          2.2 and up  \n",
       "10839  Varies with device  \n",
       "10840  Varies with device  \n",
       "\n",
       "[10841 rows x 13 columns]"
      ]
     },
     "execution_count": 14,
     "metadata": {},
     "output_type": "execute_result"
    }
   ],
   "source": [
    "# reading the dataa\n",
    "\n",
    "gplay = pd.read_csv(r'C:\\Users\\Hp\\Playstore Analysis Project\\googleplaystore.csv')\n",
    "gplay"
   ]
  },
  {
   "cell_type": "code",
   "execution_count": 15,
   "metadata": {
    "execution": {
     "iopub.execute_input": "2022-01-08T20:55:50.336692Z",
     "iopub.status.busy": "2022-01-08T20:55:50.336347Z",
     "iopub.status.idle": "2022-01-08T20:55:50.341922Z",
     "shell.execute_reply": "2022-01-08T20:55:50.340857Z",
     "shell.execute_reply.started": "2022-01-08T20:55:50.336636Z"
    }
   },
   "outputs": [
    {
     "data": {
      "text/plain": [
       "(10841, 13)"
      ]
     },
     "execution_count": 15,
     "metadata": {},
     "output_type": "execute_result"
    }
   ],
   "source": [
    "gplay.shape\n"
   ]
  },
  {
   "cell_type": "code",
   "execution_count": 16,
   "metadata": {
    "execution": {
     "iopub.execute_input": "2022-01-08T20:55:50.345018Z",
     "iopub.status.busy": "2022-01-08T20:55:50.344713Z",
     "iopub.status.idle": "2022-01-08T20:55:50.365832Z",
     "shell.execute_reply": "2022-01-08T20:55:50.365044Z",
     "shell.execute_reply.started": "2022-01-08T20:55:50.344981Z"
    }
   },
   "outputs": [
    {
     "name": "stdout",
     "output_type": "stream",
     "text": [
      "<class 'pandas.core.frame.DataFrame'>\n",
      "RangeIndex: 10841 entries, 0 to 10840\n",
      "Data columns (total 13 columns):\n",
      " #   Column          Non-Null Count  Dtype  \n",
      "---  ------          --------------  -----  \n",
      " 0   App             10841 non-null  object \n",
      " 1   Category        10841 non-null  object \n",
      " 2   Rating          9367 non-null   float64\n",
      " 3   Reviews         10841 non-null  object \n",
      " 4   Size            10841 non-null  float64\n",
      " 5   Installs        10841 non-null  object \n",
      " 6   Type            10840 non-null  object \n",
      " 7   Price           10841 non-null  object \n",
      " 8   Content Rating  10840 non-null  object \n",
      " 9   Genres          10841 non-null  object \n",
      " 10  Last Updated    10841 non-null  object \n",
      " 11  Current Ver     10833 non-null  object \n",
      " 12  Android Ver     10838 non-null  object \n",
      "dtypes: float64(2), object(11)\n",
      "memory usage: 1.1+ MB\n"
     ]
    }
   ],
   "source": [
    "# checking the data types of all the columns \n",
    "\n",
    "gplay.info()"
   ]
  },
  {
   "cell_type": "code",
   "execution_count": 17,
   "metadata": {
    "execution": {
     "iopub.execute_input": "2022-01-08T20:55:50.367184Z",
     "iopub.status.busy": "2022-01-08T20:55:50.366974Z",
     "iopub.status.idle": "2022-01-08T20:55:50.371891Z",
     "shell.execute_reply": "2022-01-08T20:55:50.371179Z",
     "shell.execute_reply.started": "2022-01-08T20:55:50.367159Z"
    }
   },
   "outputs": [],
   "source": [
    "def printinfo():\n",
    "    temp = pd.DataFrame(index = gplay.columns)\n",
    "    temp['data_type'] = gplay.dtypes\n",
    "    temp['null_count'] = gplay.isnull().sum()\n",
    "    temp['unique_count'] = gplay.nunique()\n",
    "    return temp"
   ]
  },
  {
   "cell_type": "code",
   "execution_count": 18,
   "metadata": {
    "execution": {
     "iopub.execute_input": "2022-01-08T20:55:50.373277Z",
     "iopub.status.busy": "2022-01-08T20:55:50.372772Z",
     "iopub.status.idle": "2022-01-08T20:55:50.411925Z",
     "shell.execute_reply": "2022-01-08T20:55:50.411328Z",
     "shell.execute_reply.started": "2022-01-08T20:55:50.373244Z"
    }
   },
   "outputs": [
    {
     "data": {
      "text/html": [
       "<div>\n",
       "<style scoped>\n",
       "    .dataframe tbody tr th:only-of-type {\n",
       "        vertical-align: middle;\n",
       "    }\n",
       "\n",
       "    .dataframe tbody tr th {\n",
       "        vertical-align: top;\n",
       "    }\n",
       "\n",
       "    .dataframe thead th {\n",
       "        text-align: right;\n",
       "    }\n",
       "</style>\n",
       "<table border=\"1\" class=\"dataframe\">\n",
       "  <thead>\n",
       "    <tr style=\"text-align: right;\">\n",
       "      <th></th>\n",
       "      <th>data_type</th>\n",
       "      <th>null_count</th>\n",
       "      <th>unique_count</th>\n",
       "    </tr>\n",
       "  </thead>\n",
       "  <tbody>\n",
       "    <tr>\n",
       "      <th>App</th>\n",
       "      <td>object</td>\n",
       "      <td>0</td>\n",
       "      <td>9660</td>\n",
       "    </tr>\n",
       "    <tr>\n",
       "      <th>Category</th>\n",
       "      <td>object</td>\n",
       "      <td>0</td>\n",
       "      <td>34</td>\n",
       "    </tr>\n",
       "    <tr>\n",
       "      <th>Rating</th>\n",
       "      <td>float64</td>\n",
       "      <td>1474</td>\n",
       "      <td>40</td>\n",
       "    </tr>\n",
       "    <tr>\n",
       "      <th>Reviews</th>\n",
       "      <td>object</td>\n",
       "      <td>0</td>\n",
       "      <td>6002</td>\n",
       "    </tr>\n",
       "    <tr>\n",
       "      <th>Size</th>\n",
       "      <td>float64</td>\n",
       "      <td>0</td>\n",
       "      <td>460</td>\n",
       "    </tr>\n",
       "    <tr>\n",
       "      <th>Installs</th>\n",
       "      <td>object</td>\n",
       "      <td>0</td>\n",
       "      <td>22</td>\n",
       "    </tr>\n",
       "    <tr>\n",
       "      <th>Type</th>\n",
       "      <td>object</td>\n",
       "      <td>1</td>\n",
       "      <td>3</td>\n",
       "    </tr>\n",
       "    <tr>\n",
       "      <th>Price</th>\n",
       "      <td>object</td>\n",
       "      <td>0</td>\n",
       "      <td>93</td>\n",
       "    </tr>\n",
       "    <tr>\n",
       "      <th>Content Rating</th>\n",
       "      <td>object</td>\n",
       "      <td>1</td>\n",
       "      <td>6</td>\n",
       "    </tr>\n",
       "    <tr>\n",
       "      <th>Genres</th>\n",
       "      <td>object</td>\n",
       "      <td>0</td>\n",
       "      <td>120</td>\n",
       "    </tr>\n",
       "    <tr>\n",
       "      <th>Last Updated</th>\n",
       "      <td>object</td>\n",
       "      <td>0</td>\n",
       "      <td>1378</td>\n",
       "    </tr>\n",
       "    <tr>\n",
       "      <th>Current Ver</th>\n",
       "      <td>object</td>\n",
       "      <td>8</td>\n",
       "      <td>2832</td>\n",
       "    </tr>\n",
       "    <tr>\n",
       "      <th>Android Ver</th>\n",
       "      <td>object</td>\n",
       "      <td>3</td>\n",
       "      <td>33</td>\n",
       "    </tr>\n",
       "  </tbody>\n",
       "</table>\n",
       "</div>"
      ],
      "text/plain": [
       "               data_type  null_count  unique_count\n",
       "App               object           0          9660\n",
       "Category          object           0            34\n",
       "Rating           float64        1474            40\n",
       "Reviews           object           0          6002\n",
       "Size             float64           0           460\n",
       "Installs          object           0            22\n",
       "Type              object           1             3\n",
       "Price             object           0            93\n",
       "Content Rating    object           1             6\n",
       "Genres            object           0           120\n",
       "Last Updated      object           0          1378\n",
       "Current Ver       object           8          2832\n",
       "Android Ver       object           3            33"
      ]
     },
     "execution_count": 18,
     "metadata": {},
     "output_type": "execute_result"
    }
   ],
   "source": [
    "# Lets call the function\n",
    "\n",
    "printinfo()"
   ]
  },
  {
   "cell_type": "markdown",
   "metadata": {},
   "source": [
    "## Exploratory Data Analysis"
   ]
  },
  {
   "cell_type": "markdown",
   "metadata": {},
   "source": [
    "### 1. gplay.Size column"
   ]
  },
  {
   "cell_type": "code",
   "execution_count": 19,
   "metadata": {
    "execution": {
     "iopub.execute_input": "2022-01-08T20:55:50.413417Z",
     "iopub.status.busy": "2022-01-08T20:55:50.41302Z",
     "iopub.status.idle": "2022-01-08T20:55:50.420943Z",
     "shell.execute_reply": "2022-01-08T20:55:50.420114Z",
     "shell.execute_reply.started": "2022-01-08T20:55:50.413378Z"
    }
   },
   "outputs": [
    {
     "data": {
      "text/plain": [
       "0        19000.000000\n",
       "1        14000.000000\n",
       "2         8700.000000\n",
       "3        25000.000000\n",
       "4         2800.000000\n",
       "             ...     \n",
       "10836    53000.000000\n",
       "10837     3600.000000\n",
       "10838     9500.000000\n",
       "10839    21516.529524\n",
       "10840    19000.000000\n",
       "Name: Size, Length: 10841, dtype: float64"
      ]
     },
     "execution_count": 19,
     "metadata": {},
     "output_type": "execute_result"
    }
   ],
   "source": [
    "gplay.Size"
   ]
  },
  {
   "cell_type": "code",
   "execution_count": 93,
   "metadata": {
    "execution": {
     "iopub.execute_input": "2022-01-08T20:55:50.423012Z",
     "iopub.status.busy": "2022-01-08T20:55:50.422257Z",
     "iopub.status.idle": "2022-01-08T20:55:50.432073Z",
     "shell.execute_reply": "2022-01-08T20:55:50.431305Z",
     "shell.execute_reply.started": "2022-01-08T20:55:50.422973Z"
    }
   },
   "outputs": [],
   "source": [
    "# scaling the size column from kb to mb\n",
    "\n",
    "gplay.Size = (gplay.Size/1024).round(1)"
   ]
  },
  {
   "cell_type": "markdown",
   "metadata": {},
   "source": [
    "### 2. gplay.Installs column"
   ]
  },
  {
   "cell_type": "code",
   "execution_count": 21,
   "metadata": {
    "execution": {
     "iopub.execute_input": "2022-01-08T20:55:50.43373Z",
     "iopub.status.busy": "2022-01-08T20:55:50.433518Z",
     "iopub.status.idle": "2022-01-08T20:55:50.446283Z",
     "shell.execute_reply": "2022-01-08T20:55:50.445494Z",
     "shell.execute_reply.started": "2022-01-08T20:55:50.433706Z"
    }
   },
   "outputs": [
    {
     "data": {
      "text/plain": [
       "0            10,000+\n",
       "1           500,000+\n",
       "2         5,000,000+\n",
       "3        50,000,000+\n",
       "4           100,000+\n",
       "            ...     \n",
       "10836         5,000+\n",
       "10837           100+\n",
       "10838         1,000+\n",
       "10839         1,000+\n",
       "10840    10,000,000+\n",
       "Name: Installs, Length: 10841, dtype: object"
      ]
     },
     "execution_count": 21,
     "metadata": {},
     "output_type": "execute_result"
    }
   ],
   "source": [
    "gplay.Installs"
   ]
  },
  {
   "cell_type": "code",
   "execution_count": 22,
   "metadata": {
    "execution": {
     "iopub.execute_input": "2022-01-08T20:55:50.447891Z",
     "iopub.status.busy": "2022-01-08T20:55:50.447537Z",
     "iopub.status.idle": "2022-01-08T20:55:50.458002Z",
     "shell.execute_reply": "2022-01-08T20:55:50.457455Z",
     "shell.execute_reply.started": "2022-01-08T20:55:50.447852Z"
    }
   },
   "outputs": [
    {
     "data": {
      "text/plain": [
       "1,000,000+        1579\n",
       "10,000,000+       1252\n",
       "100,000+          1169\n",
       "10,000+           1054\n",
       "1,000+             907\n",
       "5,000,000+         752\n",
       "100+               719\n",
       "500,000+           539\n",
       "50,000+            479\n",
       "5,000+             477\n",
       "100,000,000+       409\n",
       "10+                386\n",
       "500+               330\n",
       "50,000,000+        289\n",
       "50+                205\n",
       "5+                  82\n",
       "500,000,000+        72\n",
       "1+                  67\n",
       "1,000,000,000+      58\n",
       "0+                  14\n",
       "0                    1\n",
       "Free                 1\n",
       "Name: Installs, dtype: int64"
      ]
     },
     "execution_count": 22,
     "metadata": {},
     "output_type": "execute_result"
    }
   ],
   "source": [
    "# fixing the gplay.Installs columns\n",
    "\n",
    "gplay.Installs.value_counts()"
   ]
  },
  {
   "cell_type": "code",
   "execution_count": 23,
   "metadata": {
    "execution": {
     "iopub.execute_input": "2022-01-08T20:55:50.459333Z",
     "iopub.status.busy": "2022-01-08T20:55:50.459038Z",
     "iopub.status.idle": "2022-01-08T20:55:50.480412Z",
     "shell.execute_reply": "2022-01-08T20:55:50.479622Z",
     "shell.execute_reply.started": "2022-01-08T20:55:50.459307Z"
    }
   },
   "outputs": [],
   "source": [
    "insta = gplay.Installs.str.strip('+').str.replace(',','')\n",
    "installs = pd.to_numeric(insta, errors='coerce')        # errors ='coerce' will replace the incorrect value with NaN\n",
    "gplay.Installs = installs"
   ]
  },
  {
   "cell_type": "code",
   "execution_count": 24,
   "metadata": {
    "execution": {
     "iopub.execute_input": "2022-01-08T20:55:50.483323Z",
     "iopub.status.busy": "2022-01-08T20:55:50.483095Z",
     "iopub.status.idle": "2022-01-08T20:55:50.496702Z",
     "shell.execute_reply": "2022-01-08T20:55:50.496104Z",
     "shell.execute_reply.started": "2022-01-08T20:55:50.483296Z"
    }
   },
   "outputs": [
    {
     "data": {
      "text/plain": [
       "False    10840\n",
       "True         1\n",
       "Name: Installs, dtype: int64"
      ]
     },
     "execution_count": 24,
     "metadata": {},
     "output_type": "execute_result"
    }
   ],
   "source": [
    "gplay.Installs.isna().value_counts()     "
   ]
  },
  {
   "cell_type": "markdown",
   "metadata": {},
   "source": [
    "Now **gplay.Installs** is in correct format but there is one **NaN** value. We can drop the corresponding row because droping a single null value won't affect our analysis. "
   ]
  },
  {
   "cell_type": "code",
   "execution_count": 25,
   "metadata": {
    "execution": {
     "iopub.execute_input": "2022-01-08T20:55:50.498084Z",
     "iopub.status.busy": "2022-01-08T20:55:50.497735Z",
     "iopub.status.idle": "2022-01-08T20:55:50.503959Z",
     "shell.execute_reply": "2022-01-08T20:55:50.503143Z",
     "shell.execute_reply.started": "2022-01-08T20:55:50.498056Z"
    }
   },
   "outputs": [
    {
     "data": {
      "text/plain": [
       "(10841, 13)"
      ]
     },
     "execution_count": 25,
     "metadata": {},
     "output_type": "execute_result"
    }
   ],
   "source": [
    "gplay.shape    # shape of the dataframe before dropping a null value"
   ]
  },
  {
   "cell_type": "code",
   "execution_count": 26,
   "metadata": {
    "execution": {
     "iopub.execute_input": "2022-01-08T20:55:50.505799Z",
     "iopub.status.busy": "2022-01-08T20:55:50.505179Z",
     "iopub.status.idle": "2022-01-08T20:55:50.51518Z",
     "shell.execute_reply": "2022-01-08T20:55:50.514414Z",
     "shell.execute_reply.started": "2022-01-08T20:55:50.505766Z"
    }
   },
   "outputs": [],
   "source": [
    "gplay = gplay[~gplay.Installs.isna()]"
   ]
  },
  {
   "cell_type": "code",
   "execution_count": 27,
   "metadata": {
    "execution": {
     "iopub.execute_input": "2022-01-08T20:55:50.516406Z",
     "iopub.status.busy": "2022-01-08T20:55:50.516201Z",
     "iopub.status.idle": "2022-01-08T20:55:50.523066Z",
     "shell.execute_reply": "2022-01-08T20:55:50.52239Z",
     "shell.execute_reply.started": "2022-01-08T20:55:50.516383Z"
    }
   },
   "outputs": [
    {
     "data": {
      "text/plain": [
       "(10840, 13)"
      ]
     },
     "execution_count": 27,
     "metadata": {},
     "output_type": "execute_result"
    }
   ],
   "source": [
    "gplay.shape     # shape of the dataframe after droping"
   ]
  },
  {
   "cell_type": "markdown",
   "metadata": {},
   "source": [
    "### 3. gplay.Rating column"
   ]
  },
  {
   "cell_type": "code",
   "execution_count": 28,
   "metadata": {
    "execution": {
     "iopub.execute_input": "2022-01-08T20:55:50.524752Z",
     "iopub.status.busy": "2022-01-08T20:55:50.524282Z",
     "iopub.status.idle": "2022-01-08T20:55:50.535287Z",
     "shell.execute_reply": "2022-01-08T20:55:50.534556Z",
     "shell.execute_reply.started": "2022-01-08T20:55:50.524712Z"
    }
   },
   "outputs": [
    {
     "data": {
      "text/plain": [
       "False    9366\n",
       "True     1474\n",
       "Name: Rating, dtype: int64"
      ]
     },
     "execution_count": 28,
     "metadata": {},
     "output_type": "execute_result"
    }
   ],
   "source": [
    "gplay.Rating.isna().value_counts()"
   ]
  },
  {
   "cell_type": "markdown",
   "metadata": {
    "execution": {
     "iopub.execute_input": "2021-12-30T13:34:50.945611Z",
     "iopub.status.busy": "2021-12-30T13:34:50.945336Z",
     "iopub.status.idle": "2021-12-30T13:34:50.951335Z",
     "shell.execute_reply": "2021-12-30T13:34:50.950196Z",
     "shell.execute_reply.started": "2021-12-30T13:34:50.945583Z"
    }
   },
   "source": [
    "There are **1474 cells** in **gplay.Rating** column which are null."
   ]
  },
  {
   "cell_type": "code",
   "execution_count": 29,
   "metadata": {
    "execution": {
     "iopub.execute_input": "2022-01-08T20:55:50.53725Z",
     "iopub.status.busy": "2022-01-08T20:55:50.536746Z",
     "iopub.status.idle": "2022-01-08T20:55:50.548342Z",
     "shell.execute_reply": "2022-01-08T20:55:50.547507Z",
     "shell.execute_reply.started": "2022-01-08T20:55:50.537212Z"
    }
   },
   "outputs": [
    {
     "data": {
      "text/plain": [
       "4.4    1109\n",
       "4.3    1076\n",
       "4.5    1038\n",
       "4.2     952\n",
       "4.6     823\n",
       "4.1     708\n",
       "4.0     568\n",
       "4.7     499\n",
       "3.9     386\n",
       "3.8     303\n",
       "5.0     274\n",
       "3.7     239\n",
       "4.8     234\n",
       "3.6     174\n",
       "3.5     163\n",
       "3.4     128\n",
       "3.3     102\n",
       "4.9      87\n",
       "3.0      83\n",
       "3.1      69\n",
       "3.2      64\n",
       "2.9      45\n",
       "2.8      42\n",
       "2.7      25\n",
       "2.6      25\n",
       "2.5      21\n",
       "2.3      20\n",
       "2.4      19\n",
       "1.0      16\n",
       "2.2      14\n",
       "1.9      13\n",
       "2.0      12\n",
       "1.7       8\n",
       "1.8       8\n",
       "2.1       8\n",
       "1.6       4\n",
       "1.4       3\n",
       "1.5       3\n",
       "1.2       1\n",
       "Name: Rating, dtype: int64"
      ]
     },
     "execution_count": 29,
     "metadata": {},
     "output_type": "execute_result"
    }
   ],
   "source": [
    "gplay.Rating.value_counts()"
   ]
  },
  {
   "cell_type": "markdown",
   "metadata": {},
   "source": [
    "Now, we can fix the Rating column which contains a total of 1474 of missing values. Replacing the missing values with the Median value of that entire column."
   ]
  },
  {
   "cell_type": "code",
   "execution_count": 30,
   "metadata": {
    "execution": {
     "iopub.execute_input": "2022-01-08T20:55:50.549855Z",
     "iopub.status.busy": "2022-01-08T20:55:50.549287Z",
     "iopub.status.idle": "2022-01-08T20:55:50.554237Z",
     "shell.execute_reply": "2022-01-08T20:55:50.553446Z",
     "shell.execute_reply.started": "2022-01-08T20:55:50.549827Z"
    }
   },
   "outputs": [],
   "source": [
    "## the below code raises SettingCopyWarning\n",
    "\n",
    "# gplay.Rating.fillna(median, inplace=True)"
   ]
  },
  {
   "cell_type": "code",
   "execution_count": 31,
   "metadata": {
    "execution": {
     "iopub.execute_input": "2022-01-08T20:55:50.55538Z",
     "iopub.status.busy": "2022-01-08T20:55:50.555177Z",
     "iopub.status.idle": "2022-01-08T20:55:50.565541Z",
     "shell.execute_reply": "2022-01-08T20:55:50.564779Z",
     "shell.execute_reply.started": "2022-01-08T20:55:50.555355Z"
    }
   },
   "outputs": [],
   "source": [
    "median = gplay.Rating.median()\n",
    "\n",
    "# the below code won't raise any error\n",
    "gplay.Rating[:].fillna(value=median, inplace=True)"
   ]
  },
  {
   "cell_type": "code",
   "execution_count": 32,
   "metadata": {
    "execution": {
     "iopub.execute_input": "2022-01-08T20:55:50.567457Z",
     "iopub.status.busy": "2022-01-08T20:55:50.566793Z",
     "iopub.status.idle": "2022-01-08T20:55:50.575933Z",
     "shell.execute_reply": "2022-01-08T20:55:50.575123Z",
     "shell.execute_reply.started": "2022-01-08T20:55:50.567418Z"
    }
   },
   "outputs": [
    {
     "data": {
      "text/plain": [
       "0"
      ]
     },
     "execution_count": 32,
     "metadata": {},
     "output_type": "execute_result"
    }
   ],
   "source": [
    "gplay.Rating.isna().sum()"
   ]
  },
  {
   "cell_type": "markdown",
   "metadata": {},
   "source": [
    "### 4. gplay.Reviews column"
   ]
  },
  {
   "cell_type": "code",
   "execution_count": 33,
   "metadata": {
    "execution": {
     "iopub.execute_input": "2022-01-08T20:55:50.57773Z",
     "iopub.status.busy": "2022-01-08T20:55:50.577039Z",
     "iopub.status.idle": "2022-01-08T20:55:50.586455Z",
     "shell.execute_reply": "2022-01-08T20:55:50.58585Z",
     "shell.execute_reply.started": "2022-01-08T20:55:50.577701Z"
    }
   },
   "outputs": [],
   "source": [
    "gplay.Reviews = gplay.loc[:,'Reviews'].astype('int')"
   ]
  },
  {
   "cell_type": "markdown",
   "metadata": {},
   "source": [
    "### 5. gplay.Price column"
   ]
  },
  {
   "cell_type": "code",
   "execution_count": 34,
   "metadata": {
    "execution": {
     "iopub.execute_input": "2022-01-08T20:55:50.587943Z",
     "iopub.status.busy": "2022-01-08T20:55:50.587619Z",
     "iopub.status.idle": "2022-01-08T20:55:50.599108Z",
     "shell.execute_reply": "2022-01-08T20:55:50.598547Z",
     "shell.execute_reply.started": "2022-01-08T20:55:50.587916Z"
    }
   },
   "outputs": [
    {
     "data": {
      "text/plain": [
       "0         10040\n",
       "$0.99       148\n",
       "$2.99       129\n",
       "$1.99        73\n",
       "$4.99        72\n",
       "          ...  \n",
       "$19.90        1\n",
       "$1.75         1\n",
       "$14.00        1\n",
       "$4.85         1\n",
       "$1.04         1\n",
       "Name: Price, Length: 92, dtype: int64"
      ]
     },
     "execution_count": 34,
     "metadata": {},
     "output_type": "execute_result"
    }
   ],
   "source": [
    "gplay.Price.value_counts()"
   ]
  },
  {
   "cell_type": "code",
   "execution_count": 35,
   "metadata": {
    "execution": {
     "iopub.execute_input": "2022-01-08T20:55:50.600893Z",
     "iopub.status.busy": "2022-01-08T20:55:50.600218Z",
     "iopub.status.idle": "2022-01-08T20:55:50.609905Z",
     "shell.execute_reply": "2022-01-08T20:55:50.609108Z",
     "shell.execute_reply.started": "2022-01-08T20:55:50.60085Z"
    }
   },
   "outputs": [],
   "source": [
    "gplay.Price = gplay.Price.apply(lambda x: 0 if x == '0' else float(x[1:]))"
   ]
  },
  {
   "cell_type": "markdown",
   "metadata": {},
   "source": [
    "### 6. gplay.Type column"
   ]
  },
  {
   "cell_type": "code",
   "execution_count": 36,
   "metadata": {
    "execution": {
     "iopub.execute_input": "2022-01-08T20:55:50.611063Z",
     "iopub.status.busy": "2022-01-08T20:55:50.610832Z",
     "iopub.status.idle": "2022-01-08T20:55:50.634273Z",
     "shell.execute_reply": "2022-01-08T20:55:50.633674Z",
     "shell.execute_reply.started": "2022-01-08T20:55:50.611036Z"
    }
   },
   "outputs": [
    {
     "data": {
      "text/html": [
       "<div>\n",
       "<style scoped>\n",
       "    .dataframe tbody tr th:only-of-type {\n",
       "        vertical-align: middle;\n",
       "    }\n",
       "\n",
       "    .dataframe tbody tr th {\n",
       "        vertical-align: top;\n",
       "    }\n",
       "\n",
       "    .dataframe thead th {\n",
       "        text-align: right;\n",
       "    }\n",
       "</style>\n",
       "<table border=\"1\" class=\"dataframe\">\n",
       "  <thead>\n",
       "    <tr style=\"text-align: right;\">\n",
       "      <th></th>\n",
       "      <th>App</th>\n",
       "      <th>Category</th>\n",
       "      <th>Rating</th>\n",
       "      <th>Reviews</th>\n",
       "      <th>Size</th>\n",
       "      <th>Installs</th>\n",
       "      <th>Type</th>\n",
       "      <th>Price</th>\n",
       "      <th>Content Rating</th>\n",
       "      <th>Genres</th>\n",
       "      <th>Last Updated</th>\n",
       "      <th>Current Ver</th>\n",
       "      <th>Android Ver</th>\n",
       "    </tr>\n",
       "  </thead>\n",
       "  <tbody>\n",
       "    <tr>\n",
       "      <th>9148</th>\n",
       "      <td>Command &amp; Conquer: Rivals</td>\n",
       "      <td>FAMILY</td>\n",
       "      <td>4.3</td>\n",
       "      <td>0</td>\n",
       "      <td>21.0</td>\n",
       "      <td>0.0</td>\n",
       "      <td>NaN</td>\n",
       "      <td>0.0</td>\n",
       "      <td>Everyone 10+</td>\n",
       "      <td>Strategy</td>\n",
       "      <td>June 28, 2018</td>\n",
       "      <td>Varies with device</td>\n",
       "      <td>Varies with device</td>\n",
       "    </tr>\n",
       "  </tbody>\n",
       "</table>\n",
       "</div>"
      ],
      "text/plain": [
       "                            App Category  Rating  Reviews  Size  Installs  \\\n",
       "9148  Command & Conquer: Rivals   FAMILY     4.3        0  21.0       0.0   \n",
       "\n",
       "     Type  Price Content Rating    Genres   Last Updated         Current Ver  \\\n",
       "9148  NaN    0.0   Everyone 10+  Strategy  June 28, 2018  Varies with device   \n",
       "\n",
       "             Android Ver  \n",
       "9148  Varies with device  "
      ]
     },
     "execution_count": 36,
     "metadata": {},
     "output_type": "execute_result"
    }
   ],
   "source": [
    "gplay[gplay['Type'].isnull()]"
   ]
  },
  {
   "cell_type": "code",
   "execution_count": 37,
   "metadata": {
    "execution": {
     "iopub.execute_input": "2022-01-08T20:55:50.635736Z",
     "iopub.status.busy": "2022-01-08T20:55:50.635118Z",
     "iopub.status.idle": "2022-01-08T20:55:50.642957Z",
     "shell.execute_reply": "2022-01-08T20:55:50.64218Z",
     "shell.execute_reply.started": "2022-01-08T20:55:50.635701Z"
    }
   },
   "outputs": [
    {
     "data": {
      "text/plain": [
       "Free    10039\n",
       "Paid      800\n",
       "Name: Type, dtype: int64"
      ]
     },
     "execution_count": 37,
     "metadata": {},
     "output_type": "execute_result"
    }
   ],
   "source": [
    "gplay['Type'].value_counts()"
   ]
  },
  {
   "cell_type": "markdown",
   "metadata": {},
   "source": [
    "Replacing the mising value from our type column with 'free' as it has ocurred the most number of times."
   ]
  },
  {
   "cell_type": "code",
   "execution_count": 38,
   "metadata": {
    "execution": {
     "iopub.execute_input": "2022-01-08T20:55:50.644855Z",
     "iopub.status.busy": "2022-01-08T20:55:50.644124Z",
     "iopub.status.idle": "2022-01-08T20:55:50.653173Z",
     "shell.execute_reply": "2022-01-08T20:55:50.652673Z",
     "shell.execute_reply.started": "2022-01-08T20:55:50.644813Z"
    }
   },
   "outputs": [],
   "source": [
    "gplay.Type.fillna('Free', inplace = True)"
   ]
  },
  {
   "cell_type": "code",
   "execution_count": 39,
   "metadata": {
    "execution": {
     "iopub.execute_input": "2022-01-08T20:55:50.654777Z",
     "iopub.status.busy": "2022-01-08T20:55:50.654358Z",
     "iopub.status.idle": "2022-01-08T20:55:50.665285Z",
     "shell.execute_reply": "2022-01-08T20:55:50.664698Z",
     "shell.execute_reply.started": "2022-01-08T20:55:50.654739Z"
    }
   },
   "outputs": [
    {
     "data": {
      "text/plain": [
       "Free    10040\n",
       "Paid      800\n",
       "Name: Type, dtype: int64"
      ]
     },
     "execution_count": 39,
     "metadata": {},
     "output_type": "execute_result"
    }
   ],
   "source": [
    "gplay.Type.value_counts()"
   ]
  },
  {
   "cell_type": "markdown",
   "metadata": {},
   "source": [
    "Finally, after fixing all the missing values, we should have a look at our data frame, We defined a function as printinfo() . So, it’s time to use that function.\n"
   ]
  },
  {
   "cell_type": "code",
   "execution_count": 40,
   "metadata": {
    "execution": {
     "iopub.execute_input": "2022-01-08T20:55:50.6669Z",
     "iopub.status.busy": "2022-01-08T20:55:50.666469Z",
     "iopub.status.idle": "2022-01-08T20:55:50.696756Z",
     "shell.execute_reply": "2022-01-08T20:55:50.695875Z",
     "shell.execute_reply.started": "2022-01-08T20:55:50.66686Z"
    }
   },
   "outputs": [
    {
     "data": {
      "text/html": [
       "<div>\n",
       "<style scoped>\n",
       "    .dataframe tbody tr th:only-of-type {\n",
       "        vertical-align: middle;\n",
       "    }\n",
       "\n",
       "    .dataframe tbody tr th {\n",
       "        vertical-align: top;\n",
       "    }\n",
       "\n",
       "    .dataframe thead th {\n",
       "        text-align: right;\n",
       "    }\n",
       "</style>\n",
       "<table border=\"1\" class=\"dataframe\">\n",
       "  <thead>\n",
       "    <tr style=\"text-align: right;\">\n",
       "      <th></th>\n",
       "      <th>data_type</th>\n",
       "      <th>null_count</th>\n",
       "      <th>unique_count</th>\n",
       "    </tr>\n",
       "  </thead>\n",
       "  <tbody>\n",
       "    <tr>\n",
       "      <th>App</th>\n",
       "      <td>object</td>\n",
       "      <td>0</td>\n",
       "      <td>9659</td>\n",
       "    </tr>\n",
       "    <tr>\n",
       "      <th>Category</th>\n",
       "      <td>object</td>\n",
       "      <td>0</td>\n",
       "      <td>33</td>\n",
       "    </tr>\n",
       "    <tr>\n",
       "      <th>Rating</th>\n",
       "      <td>float64</td>\n",
       "      <td>0</td>\n",
       "      <td>39</td>\n",
       "    </tr>\n",
       "    <tr>\n",
       "      <th>Reviews</th>\n",
       "      <td>int32</td>\n",
       "      <td>0</td>\n",
       "      <td>6001</td>\n",
       "    </tr>\n",
       "    <tr>\n",
       "      <th>Size</th>\n",
       "      <td>float64</td>\n",
       "      <td>0</td>\n",
       "      <td>190</td>\n",
       "    </tr>\n",
       "    <tr>\n",
       "      <th>Installs</th>\n",
       "      <td>float64</td>\n",
       "      <td>0</td>\n",
       "      <td>20</td>\n",
       "    </tr>\n",
       "    <tr>\n",
       "      <th>Type</th>\n",
       "      <td>object</td>\n",
       "      <td>0</td>\n",
       "      <td>2</td>\n",
       "    </tr>\n",
       "    <tr>\n",
       "      <th>Price</th>\n",
       "      <td>float64</td>\n",
       "      <td>0</td>\n",
       "      <td>92</td>\n",
       "    </tr>\n",
       "    <tr>\n",
       "      <th>Content Rating</th>\n",
       "      <td>object</td>\n",
       "      <td>0</td>\n",
       "      <td>6</td>\n",
       "    </tr>\n",
       "    <tr>\n",
       "      <th>Genres</th>\n",
       "      <td>object</td>\n",
       "      <td>0</td>\n",
       "      <td>119</td>\n",
       "    </tr>\n",
       "    <tr>\n",
       "      <th>Last Updated</th>\n",
       "      <td>object</td>\n",
       "      <td>0</td>\n",
       "      <td>1377</td>\n",
       "    </tr>\n",
       "    <tr>\n",
       "      <th>Current Ver</th>\n",
       "      <td>object</td>\n",
       "      <td>8</td>\n",
       "      <td>2831</td>\n",
       "    </tr>\n",
       "    <tr>\n",
       "      <th>Android Ver</th>\n",
       "      <td>object</td>\n",
       "      <td>2</td>\n",
       "      <td>33</td>\n",
       "    </tr>\n",
       "  </tbody>\n",
       "</table>\n",
       "</div>"
      ],
      "text/plain": [
       "               data_type  null_count  unique_count\n",
       "App               object           0          9659\n",
       "Category          object           0            33\n",
       "Rating           float64           0            39\n",
       "Reviews            int32           0          6001\n",
       "Size             float64           0           190\n",
       "Installs         float64           0            20\n",
       "Type              object           0             2\n",
       "Price            float64           0            92\n",
       "Content Rating    object           0             6\n",
       "Genres            object           0           119\n",
       "Last Updated      object           0          1377\n",
       "Current Ver       object           8          2831\n",
       "Android Ver       object           2            33"
      ]
     },
     "execution_count": 40,
     "metadata": {},
     "output_type": "execute_result"
    }
   ],
   "source": [
    "printinfo()"
   ]
  },
  {
   "cell_type": "markdown",
   "metadata": {},
   "source": [
    "We have some of the unwanted columns which will be of not much use in the analysis process. So let's drop those columns."
   ]
  },
  {
   "cell_type": "code",
   "execution_count": 41,
   "metadata": {
    "execution": {
     "iopub.execute_input": "2022-01-08T20:55:50.698512Z",
     "iopub.status.busy": "2022-01-08T20:55:50.698237Z",
     "iopub.status.idle": "2022-01-08T20:55:50.704929Z",
     "shell.execute_reply": "2022-01-08T20:55:50.704193Z",
     "shell.execute_reply.started": "2022-01-08T20:55:50.698476Z"
    }
   },
   "outputs": [],
   "source": [
    "gplay.drop(['Current Ver','Last Updated', 'Android Ver'], axis = 1, inplace = True)"
   ]
  },
  {
   "cell_type": "code",
   "execution_count": 42,
   "metadata": {
    "execution": {
     "iopub.execute_input": "2022-01-08T20:55:50.706793Z",
     "iopub.status.busy": "2022-01-08T20:55:50.706191Z",
     "iopub.status.idle": "2022-01-08T20:55:50.733219Z",
     "shell.execute_reply": "2022-01-08T20:55:50.732579Z",
     "shell.execute_reply.started": "2022-01-08T20:55:50.70676Z"
    }
   },
   "outputs": [
    {
     "data": {
      "text/html": [
       "<div>\n",
       "<style scoped>\n",
       "    .dataframe tbody tr th:only-of-type {\n",
       "        vertical-align: middle;\n",
       "    }\n",
       "\n",
       "    .dataframe tbody tr th {\n",
       "        vertical-align: top;\n",
       "    }\n",
       "\n",
       "    .dataframe thead th {\n",
       "        text-align: right;\n",
       "    }\n",
       "</style>\n",
       "<table border=\"1\" class=\"dataframe\">\n",
       "  <thead>\n",
       "    <tr style=\"text-align: right;\">\n",
       "      <th></th>\n",
       "      <th>data_type</th>\n",
       "      <th>null_count</th>\n",
       "      <th>unique_count</th>\n",
       "    </tr>\n",
       "  </thead>\n",
       "  <tbody>\n",
       "    <tr>\n",
       "      <th>App</th>\n",
       "      <td>object</td>\n",
       "      <td>0</td>\n",
       "      <td>9659</td>\n",
       "    </tr>\n",
       "    <tr>\n",
       "      <th>Category</th>\n",
       "      <td>object</td>\n",
       "      <td>0</td>\n",
       "      <td>33</td>\n",
       "    </tr>\n",
       "    <tr>\n",
       "      <th>Rating</th>\n",
       "      <td>float64</td>\n",
       "      <td>0</td>\n",
       "      <td>39</td>\n",
       "    </tr>\n",
       "    <tr>\n",
       "      <th>Reviews</th>\n",
       "      <td>int32</td>\n",
       "      <td>0</td>\n",
       "      <td>6001</td>\n",
       "    </tr>\n",
       "    <tr>\n",
       "      <th>Size</th>\n",
       "      <td>float64</td>\n",
       "      <td>0</td>\n",
       "      <td>190</td>\n",
       "    </tr>\n",
       "    <tr>\n",
       "      <th>Installs</th>\n",
       "      <td>float64</td>\n",
       "      <td>0</td>\n",
       "      <td>20</td>\n",
       "    </tr>\n",
       "    <tr>\n",
       "      <th>Type</th>\n",
       "      <td>object</td>\n",
       "      <td>0</td>\n",
       "      <td>2</td>\n",
       "    </tr>\n",
       "    <tr>\n",
       "      <th>Price</th>\n",
       "      <td>float64</td>\n",
       "      <td>0</td>\n",
       "      <td>92</td>\n",
       "    </tr>\n",
       "    <tr>\n",
       "      <th>Content Rating</th>\n",
       "      <td>object</td>\n",
       "      <td>0</td>\n",
       "      <td>6</td>\n",
       "    </tr>\n",
       "    <tr>\n",
       "      <th>Genres</th>\n",
       "      <td>object</td>\n",
       "      <td>0</td>\n",
       "      <td>119</td>\n",
       "    </tr>\n",
       "  </tbody>\n",
       "</table>\n",
       "</div>"
      ],
      "text/plain": [
       "               data_type  null_count  unique_count\n",
       "App               object           0          9659\n",
       "Category          object           0            33\n",
       "Rating           float64           0            39\n",
       "Reviews            int32           0          6001\n",
       "Size             float64           0           190\n",
       "Installs         float64           0            20\n",
       "Type              object           0             2\n",
       "Price            float64           0            92\n",
       "Content Rating    object           0             6\n",
       "Genres            object           0           119"
      ]
     },
     "execution_count": 42,
     "metadata": {},
     "output_type": "execute_result"
    }
   ],
   "source": [
    "printinfo()"
   ]
  },
  {
   "cell_type": "markdown",
   "metadata": {},
   "source": [
    "All the columns have the null_count as zero, which indicates that now the data frame doesn’t contain any missing values.\n",
    "Now we are done with the data cleansing part and in a state to start the work for data preparation"
   ]
  },
  {
   "cell_type": "markdown",
   "metadata": {},
   "source": [
    "# Sanity Checks"
   ]
  },
  {
   "cell_type": "markdown",
   "metadata": {},
   "source": [
    "Used to check for errors within a dataset"
   ]
  },
  {
   "cell_type": "code",
   "execution_count": 43,
   "metadata": {
    "execution": {
     "iopub.execute_input": "2022-01-08T20:55:50.734638Z",
     "iopub.status.busy": "2022-01-08T20:55:50.734261Z",
     "iopub.status.idle": "2022-01-08T20:55:50.746528Z",
     "shell.execute_reply": "2022-01-08T20:55:50.745347Z",
     "shell.execute_reply.started": "2022-01-08T20:55:50.7346Z"
    }
   },
   "outputs": [
    {
     "data": {
      "text/html": [
       "<div>\n",
       "<style scoped>\n",
       "    .dataframe tbody tr th:only-of-type {\n",
       "        vertical-align: middle;\n",
       "    }\n",
       "\n",
       "    .dataframe tbody tr th {\n",
       "        vertical-align: top;\n",
       "    }\n",
       "\n",
       "    .dataframe thead th {\n",
       "        text-align: right;\n",
       "    }\n",
       "</style>\n",
       "<table border=\"1\" class=\"dataframe\">\n",
       "  <thead>\n",
       "    <tr style=\"text-align: right;\">\n",
       "      <th></th>\n",
       "      <th>App</th>\n",
       "      <th>Category</th>\n",
       "      <th>Rating</th>\n",
       "      <th>Reviews</th>\n",
       "      <th>Size</th>\n",
       "      <th>Installs</th>\n",
       "      <th>Type</th>\n",
       "      <th>Price</th>\n",
       "      <th>Content Rating</th>\n",
       "      <th>Genres</th>\n",
       "    </tr>\n",
       "  </thead>\n",
       "  <tbody>\n",
       "  </tbody>\n",
       "</table>\n",
       "</div>"
      ],
      "text/plain": [
       "Empty DataFrame\n",
       "Columns: [App, Category, Rating, Reviews, Size, Installs, Type, Price, Content Rating, Genres]\n",
       "Index: []"
      ]
     },
     "execution_count": 43,
     "metadata": {},
     "output_type": "execute_result"
    }
   ],
   "source": [
    "# sanity checks on the Rating Column:\n",
    "gplay[gplay.Rating<1] | gplay[gplay.Rating >5]"
   ]
  },
  {
   "cell_type": "code",
   "execution_count": 44,
   "metadata": {
    "execution": {
     "iopub.execute_input": "2022-01-08T20:55:50.748232Z",
     "iopub.status.busy": "2022-01-08T20:55:50.747794Z",
     "iopub.status.idle": "2022-01-08T20:55:50.756433Z",
     "shell.execute_reply": "2022-01-08T20:55:50.755566Z",
     "shell.execute_reply.started": "2022-01-08T20:55:50.74819Z"
    }
   },
   "outputs": [
    {
     "data": {
      "text/plain": [
       "False    10829\n",
       "True        11\n",
       "dtype: int64"
      ]
     },
     "execution_count": 44,
     "metadata": {},
     "output_type": "execute_result"
    }
   ],
   "source": [
    "# sanity checks on the Reviews column\n",
    "\n",
    "(gplay.Reviews > gplay.Installs).value_counts()"
   ]
  },
  {
   "cell_type": "markdown",
   "metadata": {
    "execution": {
     "iopub.execute_input": "2022-01-02T13:08:36.712224Z",
     "iopub.status.busy": "2022-01-02T13:08:36.711906Z",
     "iopub.status.idle": "2022-01-02T13:08:36.717628Z",
     "shell.execute_reply": "2022-01-02T13:08:36.716961Z",
     "shell.execute_reply.started": "2022-01-02T13:08:36.712191Z"
    }
   },
   "source": [
    "There are **11** such records where number of reviews are greater than the number of installs which is ambiguous.So we will drop these apps from our analysis."
   ]
  },
  {
   "cell_type": "code",
   "execution_count": 45,
   "metadata": {
    "execution": {
     "iopub.execute_input": "2022-01-08T20:55:50.758873Z",
     "iopub.status.busy": "2022-01-08T20:55:50.758284Z",
     "iopub.status.idle": "2022-01-08T20:55:50.777428Z",
     "shell.execute_reply": "2022-01-08T20:55:50.776904Z",
     "shell.execute_reply.started": "2022-01-08T20:55:50.758823Z"
    }
   },
   "outputs": [
    {
     "data": {
      "text/html": [
       "<div>\n",
       "<style scoped>\n",
       "    .dataframe tbody tr th:only-of-type {\n",
       "        vertical-align: middle;\n",
       "    }\n",
       "\n",
       "    .dataframe tbody tr th {\n",
       "        vertical-align: top;\n",
       "    }\n",
       "\n",
       "    .dataframe thead th {\n",
       "        text-align: right;\n",
       "    }\n",
       "</style>\n",
       "<table border=\"1\" class=\"dataframe\">\n",
       "  <thead>\n",
       "    <tr style=\"text-align: right;\">\n",
       "      <th></th>\n",
       "      <th>App</th>\n",
       "      <th>Category</th>\n",
       "      <th>Rating</th>\n",
       "      <th>Reviews</th>\n",
       "      <th>Size</th>\n",
       "      <th>Installs</th>\n",
       "      <th>Type</th>\n",
       "      <th>Price</th>\n",
       "      <th>Content Rating</th>\n",
       "      <th>Genres</th>\n",
       "    </tr>\n",
       "  </thead>\n",
       "  <tbody>\n",
       "    <tr>\n",
       "      <th>2454</th>\n",
       "      <td>KBA-EZ Health Guide</td>\n",
       "      <td>MEDICAL</td>\n",
       "      <td>5.0</td>\n",
       "      <td>4</td>\n",
       "      <td>24.4</td>\n",
       "      <td>1.0</td>\n",
       "      <td>Free</td>\n",
       "      <td>0.00</td>\n",
       "      <td>Everyone</td>\n",
       "      <td>Medical</td>\n",
       "    </tr>\n",
       "    <tr>\n",
       "      <th>4550</th>\n",
       "      <td>RMEduS - 음성인식을 활용한 R 프로그래밍 실습 시스템</td>\n",
       "      <td>FAMILY</td>\n",
       "      <td>4.3</td>\n",
       "      <td>4</td>\n",
       "      <td>62.5</td>\n",
       "      <td>1.0</td>\n",
       "      <td>Free</td>\n",
       "      <td>0.00</td>\n",
       "      <td>Everyone</td>\n",
       "      <td>Education</td>\n",
       "    </tr>\n",
       "    <tr>\n",
       "      <th>4663</th>\n",
       "      <td>Alarmy (Sleep If U Can) - Pro</td>\n",
       "      <td>LIFESTYLE</td>\n",
       "      <td>4.8</td>\n",
       "      <td>10249</td>\n",
       "      <td>21.0</td>\n",
       "      <td>10000.0</td>\n",
       "      <td>Paid</td>\n",
       "      <td>2.49</td>\n",
       "      <td>Everyone</td>\n",
       "      <td>Lifestyle</td>\n",
       "    </tr>\n",
       "    <tr>\n",
       "      <th>5812</th>\n",
       "      <td>AX Watch for WatchMaker</td>\n",
       "      <td>PERSONALIZATION</td>\n",
       "      <td>4.3</td>\n",
       "      <td>2</td>\n",
       "      <td>0.2</td>\n",
       "      <td>1.0</td>\n",
       "      <td>Paid</td>\n",
       "      <td>0.99</td>\n",
       "      <td>Everyone</td>\n",
       "      <td>Personalization</td>\n",
       "    </tr>\n",
       "    <tr>\n",
       "      <th>5917</th>\n",
       "      <td>Ra Ga Ba</td>\n",
       "      <td>GAME</td>\n",
       "      <td>5.0</td>\n",
       "      <td>2</td>\n",
       "      <td>19.5</td>\n",
       "      <td>1.0</td>\n",
       "      <td>Paid</td>\n",
       "      <td>1.49</td>\n",
       "      <td>Everyone</td>\n",
       "      <td>Arcade</td>\n",
       "    </tr>\n",
       "    <tr>\n",
       "      <th>6508</th>\n",
       "      <td>Sam.BN Pro</td>\n",
       "      <td>TOOLS</td>\n",
       "      <td>4.3</td>\n",
       "      <td>11</td>\n",
       "      <td>2.0</td>\n",
       "      <td>10.0</td>\n",
       "      <td>Paid</td>\n",
       "      <td>0.99</td>\n",
       "      <td>Everyone</td>\n",
       "      <td>Tools</td>\n",
       "    </tr>\n",
       "    <tr>\n",
       "      <th>6700</th>\n",
       "      <td>Brick Breaker BR</td>\n",
       "      <td>GAME</td>\n",
       "      <td>5.0</td>\n",
       "      <td>7</td>\n",
       "      <td>18.6</td>\n",
       "      <td>5.0</td>\n",
       "      <td>Free</td>\n",
       "      <td>0.00</td>\n",
       "      <td>Everyone</td>\n",
       "      <td>Arcade</td>\n",
       "    </tr>\n",
       "    <tr>\n",
       "      <th>7402</th>\n",
       "      <td>Trovami se ci riesci</td>\n",
       "      <td>GAME</td>\n",
       "      <td>5.0</td>\n",
       "      <td>11</td>\n",
       "      <td>6.0</td>\n",
       "      <td>10.0</td>\n",
       "      <td>Free</td>\n",
       "      <td>0.00</td>\n",
       "      <td>Everyone</td>\n",
       "      <td>Arcade</td>\n",
       "    </tr>\n",
       "    <tr>\n",
       "      <th>8591</th>\n",
       "      <td>DN Blog</td>\n",
       "      <td>SOCIAL</td>\n",
       "      <td>5.0</td>\n",
       "      <td>20</td>\n",
       "      <td>4.1</td>\n",
       "      <td>10.0</td>\n",
       "      <td>Free</td>\n",
       "      <td>0.00</td>\n",
       "      <td>Teen</td>\n",
       "      <td>Social</td>\n",
       "    </tr>\n",
       "    <tr>\n",
       "      <th>9096</th>\n",
       "      <td>DZ Puzzle</td>\n",
       "      <td>FAMILY</td>\n",
       "      <td>4.3</td>\n",
       "      <td>14</td>\n",
       "      <td>45.9</td>\n",
       "      <td>10.0</td>\n",
       "      <td>Paid</td>\n",
       "      <td>0.99</td>\n",
       "      <td>Everyone</td>\n",
       "      <td>Puzzle</td>\n",
       "    </tr>\n",
       "    <tr>\n",
       "      <th>10697</th>\n",
       "      <td>Mu.F.O.</td>\n",
       "      <td>GAME</td>\n",
       "      <td>5.0</td>\n",
       "      <td>2</td>\n",
       "      <td>15.6</td>\n",
       "      <td>1.0</td>\n",
       "      <td>Paid</td>\n",
       "      <td>0.99</td>\n",
       "      <td>Everyone</td>\n",
       "      <td>Arcade</td>\n",
       "    </tr>\n",
       "  </tbody>\n",
       "</table>\n",
       "</div>"
      ],
      "text/plain": [
       "                                     App         Category  Rating  Reviews  \\\n",
       "2454                 KBA-EZ Health Guide          MEDICAL     5.0        4   \n",
       "4550   RMEduS - 음성인식을 활용한 R 프로그래밍 실습 시스템           FAMILY     4.3        4   \n",
       "4663       Alarmy (Sleep If U Can) - Pro        LIFESTYLE     4.8    10249   \n",
       "5812             AX Watch for WatchMaker  PERSONALIZATION     4.3        2   \n",
       "5917                            Ra Ga Ba             GAME     5.0        2   \n",
       "6508                          Sam.BN Pro            TOOLS     4.3       11   \n",
       "6700                    Brick Breaker BR             GAME     5.0        7   \n",
       "7402                Trovami se ci riesci             GAME     5.0       11   \n",
       "8591                             DN Blog           SOCIAL     5.0       20   \n",
       "9096                           DZ Puzzle           FAMILY     4.3       14   \n",
       "10697                            Mu.F.O.             GAME     5.0        2   \n",
       "\n",
       "       Size  Installs  Type  Price Content Rating           Genres  \n",
       "2454   24.4       1.0  Free   0.00       Everyone          Medical  \n",
       "4550   62.5       1.0  Free   0.00       Everyone        Education  \n",
       "4663   21.0   10000.0  Paid   2.49       Everyone        Lifestyle  \n",
       "5812    0.2       1.0  Paid   0.99       Everyone  Personalization  \n",
       "5917   19.5       1.0  Paid   1.49       Everyone           Arcade  \n",
       "6508    2.0      10.0  Paid   0.99       Everyone            Tools  \n",
       "6700   18.6       5.0  Free   0.00       Everyone           Arcade  \n",
       "7402    6.0      10.0  Free   0.00       Everyone           Arcade  \n",
       "8591    4.1      10.0  Free   0.00           Teen           Social  \n",
       "9096   45.9      10.0  Paid   0.99       Everyone           Puzzle  \n",
       "10697  15.6       1.0  Paid   0.99       Everyone           Arcade  "
      ]
     },
     "execution_count": 45,
     "metadata": {},
     "output_type": "execute_result"
    }
   ],
   "source": [
    "gplay[gplay.Reviews > gplay.Installs]"
   ]
  },
  {
   "cell_type": "code",
   "execution_count": 46,
   "metadata": {
    "execution": {
     "iopub.execute_input": "2022-01-08T20:55:50.778871Z",
     "iopub.status.busy": "2022-01-08T20:55:50.778223Z",
     "iopub.status.idle": "2022-01-08T20:55:50.786552Z",
     "shell.execute_reply": "2022-01-08T20:55:50.785936Z",
     "shell.execute_reply.started": "2022-01-08T20:55:50.778842Z"
    }
   },
   "outputs": [
    {
     "data": {
      "text/plain": [
       "(10829, 10)"
      ]
     },
     "execution_count": 46,
     "metadata": {},
     "output_type": "execute_result"
    }
   ],
   "source": [
    "# droping the above rows from our gplay\n",
    "\n",
    "rowindex = gplay[gplay.Reviews > gplay.Installs].index\n",
    "gplay.drop(rowindex, inplace = True)     # droping the ambiguous rows\n",
    "gplay.shape"
   ]
  },
  {
   "cell_type": "code",
   "execution_count": 47,
   "metadata": {
    "execution": {
     "iopub.execute_input": "2022-01-08T20:55:50.788216Z",
     "iopub.status.busy": "2022-01-08T20:55:50.787742Z",
     "iopub.status.idle": "2022-01-08T20:55:50.797104Z",
     "shell.execute_reply": "2022-01-08T20:55:50.796363Z",
     "shell.execute_reply.started": "2022-01-08T20:55:50.788175Z"
    }
   },
   "outputs": [
    {
     "data": {
      "text/plain": [
       "Free    10035\n",
       "Paid      794\n",
       "Name: Type, dtype: int64"
      ]
     },
     "execution_count": 47,
     "metadata": {},
     "output_type": "execute_result"
    }
   ],
   "source": [
    "# sanity checks on prices of free apps\n",
    "\n",
    "gplay.Type.value_counts()"
   ]
  },
  {
   "cell_type": "code",
   "execution_count": 48,
   "metadata": {
    "execution": {
     "iopub.execute_input": "2022-01-08T20:55:50.802888Z",
     "iopub.status.busy": "2022-01-08T20:55:50.802691Z",
     "iopub.status.idle": "2022-01-08T20:55:50.809577Z",
     "shell.execute_reply": "2022-01-08T20:55:50.808982Z",
     "shell.execute_reply.started": "2022-01-08T20:55:50.802864Z"
    }
   },
   "outputs": [
    {
     "data": {
      "text/plain": [
       "0.00     10035\n",
       "0.99       144\n",
       "2.99       129\n",
       "1.99        73\n",
       "4.99        72\n",
       "         ...  \n",
       "19.90        1\n",
       "1.75         1\n",
       "14.00        1\n",
       "4.85         1\n",
       "1.04         1\n",
       "Name: Price, Length: 92, dtype: int64"
      ]
     },
     "execution_count": 48,
     "metadata": {},
     "output_type": "execute_result"
    }
   ],
   "source": [
    "gplay.Price.value_counts()"
   ]
  },
  {
   "cell_type": "code",
   "execution_count": 49,
   "metadata": {
    "execution": {
     "iopub.execute_input": "2022-01-08T20:55:50.810624Z",
     "iopub.status.busy": "2022-01-08T20:55:50.810439Z",
     "iopub.status.idle": "2022-01-08T20:55:50.824461Z",
     "shell.execute_reply": "2022-01-08T20:55:50.823875Z",
     "shell.execute_reply.started": "2022-01-08T20:55:50.810601Z"
    }
   },
   "outputs": [
    {
     "data": {
      "text/plain": [
       "False    10829\n",
       "dtype: int64"
      ]
     },
     "execution_count": 49,
     "metadata": {},
     "output_type": "execute_result"
    }
   ],
   "source": [
    "((gplay.Type == 'Free') & (gplay.Price > 0)).value_counts()"
   ]
  },
  {
   "cell_type": "markdown",
   "metadata": {},
   "source": [
    "Our Price column has no ambiguous data. "
   ]
  },
  {
   "cell_type": "code",
   "execution_count": 50,
   "metadata": {
    "execution": {
     "iopub.execute_input": "2022-01-08T20:55:50.826187Z",
     "iopub.status.busy": "2022-01-08T20:55:50.825477Z",
     "iopub.status.idle": "2022-01-08T20:55:50.848224Z",
     "shell.execute_reply": "2022-01-08T20:55:50.847663Z",
     "shell.execute_reply.started": "2022-01-08T20:55:50.826149Z"
    }
   },
   "outputs": [
    {
     "data": {
      "text/html": [
       "<div>\n",
       "<style scoped>\n",
       "    .dataframe tbody tr th:only-of-type {\n",
       "        vertical-align: middle;\n",
       "    }\n",
       "\n",
       "    .dataframe tbody tr th {\n",
       "        vertical-align: top;\n",
       "    }\n",
       "\n",
       "    .dataframe thead th {\n",
       "        text-align: right;\n",
       "    }\n",
       "</style>\n",
       "<table border=\"1\" class=\"dataframe\">\n",
       "  <thead>\n",
       "    <tr style=\"text-align: right;\">\n",
       "      <th></th>\n",
       "      <th>data_type</th>\n",
       "      <th>null_count</th>\n",
       "      <th>unique_count</th>\n",
       "    </tr>\n",
       "  </thead>\n",
       "  <tbody>\n",
       "    <tr>\n",
       "      <th>App</th>\n",
       "      <td>object</td>\n",
       "      <td>0</td>\n",
       "      <td>9648</td>\n",
       "    </tr>\n",
       "    <tr>\n",
       "      <th>Category</th>\n",
       "      <td>object</td>\n",
       "      <td>0</td>\n",
       "      <td>33</td>\n",
       "    </tr>\n",
       "    <tr>\n",
       "      <th>Rating</th>\n",
       "      <td>float64</td>\n",
       "      <td>0</td>\n",
       "      <td>39</td>\n",
       "    </tr>\n",
       "    <tr>\n",
       "      <th>Reviews</th>\n",
       "      <td>int32</td>\n",
       "      <td>0</td>\n",
       "      <td>6000</td>\n",
       "    </tr>\n",
       "    <tr>\n",
       "      <th>Size</th>\n",
       "      <td>float64</td>\n",
       "      <td>0</td>\n",
       "      <td>190</td>\n",
       "    </tr>\n",
       "    <tr>\n",
       "      <th>Installs</th>\n",
       "      <td>float64</td>\n",
       "      <td>0</td>\n",
       "      <td>20</td>\n",
       "    </tr>\n",
       "    <tr>\n",
       "      <th>Type</th>\n",
       "      <td>object</td>\n",
       "      <td>0</td>\n",
       "      <td>2</td>\n",
       "    </tr>\n",
       "    <tr>\n",
       "      <th>Price</th>\n",
       "      <td>float64</td>\n",
       "      <td>0</td>\n",
       "      <td>92</td>\n",
       "    </tr>\n",
       "    <tr>\n",
       "      <th>Content Rating</th>\n",
       "      <td>object</td>\n",
       "      <td>0</td>\n",
       "      <td>6</td>\n",
       "    </tr>\n",
       "    <tr>\n",
       "      <th>Genres</th>\n",
       "      <td>object</td>\n",
       "      <td>0</td>\n",
       "      <td>119</td>\n",
       "    </tr>\n",
       "  </tbody>\n",
       "</table>\n",
       "</div>"
      ],
      "text/plain": [
       "               data_type  null_count  unique_count\n",
       "App               object           0          9648\n",
       "Category          object           0            33\n",
       "Rating           float64           0            39\n",
       "Reviews            int32           0          6000\n",
       "Size             float64           0           190\n",
       "Installs         float64           0            20\n",
       "Type              object           0             2\n",
       "Price            float64           0            92\n",
       "Content Rating    object           0             6\n",
       "Genres            object           0           119"
      ]
     },
     "execution_count": 50,
     "metadata": {},
     "output_type": "execute_result"
    }
   ],
   "source": [
    "printinfo()"
   ]
  },
  {
   "cell_type": "markdown",
   "metadata": {},
   "source": [
    "# Duplicate Apps Checking :\n"
   ]
  },
  {
   "cell_type": "code",
   "execution_count": 51,
   "metadata": {
    "execution": {
     "iopub.execute_input": "2022-01-08T20:55:50.849631Z",
     "iopub.status.busy": "2022-01-08T20:55:50.849286Z",
     "iopub.status.idle": "2022-01-08T20:55:50.877999Z",
     "shell.execute_reply": "2022-01-08T20:55:50.877407Z",
     "shell.execute_reply.started": "2022-01-08T20:55:50.849604Z"
    }
   },
   "outputs": [
    {
     "data": {
      "text/html": [
       "<div>\n",
       "<style scoped>\n",
       "    .dataframe tbody tr th:only-of-type {\n",
       "        vertical-align: middle;\n",
       "    }\n",
       "\n",
       "    .dataframe tbody tr th {\n",
       "        vertical-align: top;\n",
       "    }\n",
       "\n",
       "    .dataframe thead th {\n",
       "        text-align: right;\n",
       "    }\n",
       "</style>\n",
       "<table border=\"1\" class=\"dataframe\">\n",
       "  <thead>\n",
       "    <tr style=\"text-align: right;\">\n",
       "      <th></th>\n",
       "      <th>App</th>\n",
       "      <th>Category</th>\n",
       "      <th>Rating</th>\n",
       "      <th>Reviews</th>\n",
       "      <th>Size</th>\n",
       "      <th>Installs</th>\n",
       "      <th>Type</th>\n",
       "      <th>Price</th>\n",
       "      <th>Content Rating</th>\n",
       "      <th>Genres</th>\n",
       "    </tr>\n",
       "  </thead>\n",
       "  <tbody>\n",
       "    <tr>\n",
       "      <th>229</th>\n",
       "      <td>Quick PDF Scanner + OCR FREE</td>\n",
       "      <td>BUSINESS</td>\n",
       "      <td>4.2</td>\n",
       "      <td>80805</td>\n",
       "      <td>21.0</td>\n",
       "      <td>5000000.0</td>\n",
       "      <td>Free</td>\n",
       "      <td>0.0</td>\n",
       "      <td>Everyone</td>\n",
       "      <td>Business</td>\n",
       "    </tr>\n",
       "    <tr>\n",
       "      <th>236</th>\n",
       "      <td>Box</td>\n",
       "      <td>BUSINESS</td>\n",
       "      <td>4.2</td>\n",
       "      <td>159872</td>\n",
       "      <td>21.0</td>\n",
       "      <td>10000000.0</td>\n",
       "      <td>Free</td>\n",
       "      <td>0.0</td>\n",
       "      <td>Everyone</td>\n",
       "      <td>Business</td>\n",
       "    </tr>\n",
       "    <tr>\n",
       "      <th>239</th>\n",
       "      <td>Google My Business</td>\n",
       "      <td>BUSINESS</td>\n",
       "      <td>4.4</td>\n",
       "      <td>70991</td>\n",
       "      <td>21.0</td>\n",
       "      <td>5000000.0</td>\n",
       "      <td>Free</td>\n",
       "      <td>0.0</td>\n",
       "      <td>Everyone</td>\n",
       "      <td>Business</td>\n",
       "    </tr>\n",
       "    <tr>\n",
       "      <th>256</th>\n",
       "      <td>ZOOM Cloud Meetings</td>\n",
       "      <td>BUSINESS</td>\n",
       "      <td>4.4</td>\n",
       "      <td>31614</td>\n",
       "      <td>36.1</td>\n",
       "      <td>10000000.0</td>\n",
       "      <td>Free</td>\n",
       "      <td>0.0</td>\n",
       "      <td>Everyone</td>\n",
       "      <td>Business</td>\n",
       "    </tr>\n",
       "    <tr>\n",
       "      <th>261</th>\n",
       "      <td>join.me - Simple Meetings</td>\n",
       "      <td>BUSINESS</td>\n",
       "      <td>4.0</td>\n",
       "      <td>6989</td>\n",
       "      <td>21.0</td>\n",
       "      <td>1000000.0</td>\n",
       "      <td>Free</td>\n",
       "      <td>0.0</td>\n",
       "      <td>Everyone</td>\n",
       "      <td>Business</td>\n",
       "    </tr>\n",
       "    <tr>\n",
       "      <th>...</th>\n",
       "      <td>...</td>\n",
       "      <td>...</td>\n",
       "      <td>...</td>\n",
       "      <td>...</td>\n",
       "      <td>...</td>\n",
       "      <td>...</td>\n",
       "      <td>...</td>\n",
       "      <td>...</td>\n",
       "      <td>...</td>\n",
       "      <td>...</td>\n",
       "    </tr>\n",
       "    <tr>\n",
       "      <th>8654</th>\n",
       "      <td>TickTick: To Do List with Reminder, Day Planner</td>\n",
       "      <td>PRODUCTIVITY</td>\n",
       "      <td>4.6</td>\n",
       "      <td>25370</td>\n",
       "      <td>21.0</td>\n",
       "      <td>1000000.0</td>\n",
       "      <td>Free</td>\n",
       "      <td>0.0</td>\n",
       "      <td>Everyone</td>\n",
       "      <td>Productivity</td>\n",
       "    </tr>\n",
       "    <tr>\n",
       "      <th>8658</th>\n",
       "      <td>ColorNote Notepad Notes</td>\n",
       "      <td>PRODUCTIVITY</td>\n",
       "      <td>4.6</td>\n",
       "      <td>2401017</td>\n",
       "      <td>21.0</td>\n",
       "      <td>100000000.0</td>\n",
       "      <td>Free</td>\n",
       "      <td>0.0</td>\n",
       "      <td>Everyone</td>\n",
       "      <td>Productivity</td>\n",
       "    </tr>\n",
       "    <tr>\n",
       "      <th>10049</th>\n",
       "      <td>Airway Ex - Intubate. Anesthetize. Train.</td>\n",
       "      <td>MEDICAL</td>\n",
       "      <td>4.3</td>\n",
       "      <td>123</td>\n",
       "      <td>84.0</td>\n",
       "      <td>10000.0</td>\n",
       "      <td>Free</td>\n",
       "      <td>0.0</td>\n",
       "      <td>Everyone</td>\n",
       "      <td>Medical</td>\n",
       "    </tr>\n",
       "    <tr>\n",
       "      <th>10473</th>\n",
       "      <td>osmino Wi-Fi: free WiFi</td>\n",
       "      <td>TOOLS</td>\n",
       "      <td>4.2</td>\n",
       "      <td>134203</td>\n",
       "      <td>4.0</td>\n",
       "      <td>10000000.0</td>\n",
       "      <td>Free</td>\n",
       "      <td>0.0</td>\n",
       "      <td>Everyone</td>\n",
       "      <td>Tools</td>\n",
       "    </tr>\n",
       "    <tr>\n",
       "      <th>10768</th>\n",
       "      <td>AAFP</td>\n",
       "      <td>MEDICAL</td>\n",
       "      <td>3.8</td>\n",
       "      <td>63</td>\n",
       "      <td>23.4</td>\n",
       "      <td>10000.0</td>\n",
       "      <td>Free</td>\n",
       "      <td>0.0</td>\n",
       "      <td>Everyone</td>\n",
       "      <td>Medical</td>\n",
       "    </tr>\n",
       "  </tbody>\n",
       "</table>\n",
       "<p>485 rows × 10 columns</p>\n",
       "</div>"
      ],
      "text/plain": [
       "                                                   App      Category  Rating  \\\n",
       "229                       Quick PDF Scanner + OCR FREE      BUSINESS     4.2   \n",
       "236                                                Box      BUSINESS     4.2   \n",
       "239                                 Google My Business      BUSINESS     4.4   \n",
       "256                                ZOOM Cloud Meetings      BUSINESS     4.4   \n",
       "261                          join.me - Simple Meetings      BUSINESS     4.0   \n",
       "...                                                ...           ...     ...   \n",
       "8654   TickTick: To Do List with Reminder, Day Planner  PRODUCTIVITY     4.6   \n",
       "8658                           ColorNote Notepad Notes  PRODUCTIVITY     4.6   \n",
       "10049        Airway Ex - Intubate. Anesthetize. Train.       MEDICAL     4.3   \n",
       "10473                          osmino Wi-Fi: free WiFi         TOOLS     4.2   \n",
       "10768                                             AAFP       MEDICAL     3.8   \n",
       "\n",
       "       Reviews  Size     Installs  Type  Price Content Rating        Genres  \n",
       "229      80805  21.0    5000000.0  Free    0.0       Everyone      Business  \n",
       "236     159872  21.0   10000000.0  Free    0.0       Everyone      Business  \n",
       "239      70991  21.0    5000000.0  Free    0.0       Everyone      Business  \n",
       "256      31614  36.1   10000000.0  Free    0.0       Everyone      Business  \n",
       "261       6989  21.0    1000000.0  Free    0.0       Everyone      Business  \n",
       "...        ...   ...          ...   ...    ...            ...           ...  \n",
       "8654     25370  21.0    1000000.0  Free    0.0       Everyone  Productivity  \n",
       "8658   2401017  21.0  100000000.0  Free    0.0       Everyone  Productivity  \n",
       "10049      123  84.0      10000.0  Free    0.0       Everyone       Medical  \n",
       "10473   134203   4.0   10000000.0  Free    0.0       Everyone         Tools  \n",
       "10768       63  23.4      10000.0  Free    0.0       Everyone       Medical  \n",
       "\n",
       "[485 rows x 10 columns]"
      ]
     },
     "execution_count": 51,
     "metadata": {},
     "output_type": "execute_result"
    }
   ],
   "source": [
    "# checking duplicate rows based on all column value\n",
    "gplay[gplay.duplicated()]"
   ]
  },
  {
   "cell_type": "markdown",
   "metadata": {},
   "source": [
    "We can `drop the above duplicate rows` from our dataframe."
   ]
  },
  {
   "cell_type": "code",
   "execution_count": 52,
   "metadata": {
    "execution": {
     "iopub.execute_input": "2022-01-08T20:55:50.879206Z",
     "iopub.status.busy": "2022-01-08T20:55:50.878921Z",
     "iopub.status.idle": "2022-01-08T20:55:50.892773Z",
     "shell.execute_reply": "2022-01-08T20:55:50.892085Z",
     "shell.execute_reply.started": "2022-01-08T20:55:50.879181Z"
    }
   },
   "outputs": [],
   "source": [
    "gplay.drop_duplicates(inplace  = True)"
   ]
  },
  {
   "cell_type": "code",
   "execution_count": 53,
   "metadata": {
    "execution": {
     "iopub.execute_input": "2022-01-08T20:55:50.894121Z",
     "iopub.status.busy": "2022-01-08T20:55:50.893935Z",
     "iopub.status.idle": "2022-01-08T20:55:50.899191Z",
     "shell.execute_reply": "2022-01-08T20:55:50.898445Z",
     "shell.execute_reply.started": "2022-01-08T20:55:50.894097Z"
    }
   },
   "outputs": [
    {
     "data": {
      "text/plain": [
       "(10344, 10)"
      ]
     },
     "execution_count": 53,
     "metadata": {},
     "output_type": "execute_result"
    }
   ],
   "source": [
    "gplay.shape"
   ]
  },
  {
   "cell_type": "markdown",
   "metadata": {},
   "source": [
    "## Now we can check for duplicate apps present in our dataframe :"
   ]
  },
  {
   "cell_type": "code",
   "execution_count": 54,
   "metadata": {
    "execution": {
     "iopub.execute_input": "2022-01-08T20:55:50.900772Z",
     "iopub.status.busy": "2022-01-08T20:55:50.900316Z",
     "iopub.status.idle": "2022-01-08T20:55:50.914463Z",
     "shell.execute_reply": "2022-01-08T20:55:50.913703Z",
     "shell.execute_reply.started": "2022-01-08T20:55:50.900732Z"
    }
   },
   "outputs": [
    {
     "data": {
      "text/plain": [
       "False    9648\n",
       "True      696\n",
       "dtype: int64"
      ]
     },
     "execution_count": 54,
     "metadata": {},
     "output_type": "execute_result"
    }
   ],
   "source": [
    "# checking the duplicates apps based on App column only\n",
    "\n",
    "gplay.duplicated('App').value_counts()"
   ]
  },
  {
   "cell_type": "markdown",
   "metadata": {},
   "source": [
    "There are **696** such apps which have same name on playstore."
   ]
  },
  {
   "cell_type": "code",
   "execution_count": 55,
   "metadata": {
    "execution": {
     "iopub.execute_input": "2022-01-08T20:55:50.915723Z",
     "iopub.status.busy": "2022-01-08T20:55:50.9155Z",
     "iopub.status.idle": "2022-01-08T20:55:50.943035Z",
     "shell.execute_reply": "2022-01-08T20:55:50.94208Z",
     "shell.execute_reply.started": "2022-01-08T20:55:50.915695Z"
    }
   },
   "outputs": [
    {
     "data": {
      "text/html": [
       "<div>\n",
       "<style scoped>\n",
       "    .dataframe tbody tr th:only-of-type {\n",
       "        vertical-align: middle;\n",
       "    }\n",
       "\n",
       "    .dataframe tbody tr th {\n",
       "        vertical-align: top;\n",
       "    }\n",
       "\n",
       "    .dataframe thead th {\n",
       "        text-align: right;\n",
       "    }\n",
       "</style>\n",
       "<table border=\"1\" class=\"dataframe\">\n",
       "  <thead>\n",
       "    <tr style=\"text-align: right;\">\n",
       "      <th></th>\n",
       "      <th>App</th>\n",
       "      <th>Category</th>\n",
       "      <th>Rating</th>\n",
       "      <th>Reviews</th>\n",
       "      <th>Size</th>\n",
       "      <th>Installs</th>\n",
       "      <th>Type</th>\n",
       "      <th>Price</th>\n",
       "      <th>Content Rating</th>\n",
       "      <th>Genres</th>\n",
       "    </tr>\n",
       "  </thead>\n",
       "  <tbody>\n",
       "    <tr>\n",
       "      <th>5415</th>\n",
       "      <td>365Scores - Live Scores</td>\n",
       "      <td>SPORTS</td>\n",
       "      <td>4.6</td>\n",
       "      <td>666246</td>\n",
       "      <td>24.4</td>\n",
       "      <td>10000000.0</td>\n",
       "      <td>Free</td>\n",
       "      <td>0.0</td>\n",
       "      <td>Everyone</td>\n",
       "      <td>Sports</td>\n",
       "    </tr>\n",
       "    <tr>\n",
       "      <th>1970</th>\n",
       "      <td>8 Ball Pool</td>\n",
       "      <td>GAME</td>\n",
       "      <td>4.5</td>\n",
       "      <td>14201604</td>\n",
       "      <td>50.8</td>\n",
       "      <td>100000000.0</td>\n",
       "      <td>Free</td>\n",
       "      <td>0.0</td>\n",
       "      <td>Everyone</td>\n",
       "      <td>Sports</td>\n",
       "    </tr>\n",
       "    <tr>\n",
       "      <th>1703</th>\n",
       "      <td>8 Ball Pool</td>\n",
       "      <td>GAME</td>\n",
       "      <td>4.5</td>\n",
       "      <td>14198602</td>\n",
       "      <td>50.8</td>\n",
       "      <td>100000000.0</td>\n",
       "      <td>Free</td>\n",
       "      <td>0.0</td>\n",
       "      <td>Everyone</td>\n",
       "      <td>Sports</td>\n",
       "    </tr>\n",
       "    <tr>\n",
       "      <th>1844</th>\n",
       "      <td>8 Ball Pool</td>\n",
       "      <td>GAME</td>\n",
       "      <td>4.5</td>\n",
       "      <td>14200550</td>\n",
       "      <td>50.8</td>\n",
       "      <td>100000000.0</td>\n",
       "      <td>Free</td>\n",
       "      <td>0.0</td>\n",
       "      <td>Everyone</td>\n",
       "      <td>Sports</td>\n",
       "    </tr>\n",
       "    <tr>\n",
       "      <th>1871</th>\n",
       "      <td>8 Ball Pool</td>\n",
       "      <td>GAME</td>\n",
       "      <td>4.5</td>\n",
       "      <td>14201891</td>\n",
       "      <td>50.8</td>\n",
       "      <td>100000000.0</td>\n",
       "      <td>Free</td>\n",
       "      <td>0.0</td>\n",
       "      <td>Everyone</td>\n",
       "      <td>Sports</td>\n",
       "    </tr>\n",
       "    <tr>\n",
       "      <th>...</th>\n",
       "      <td>...</td>\n",
       "      <td>...</td>\n",
       "      <td>...</td>\n",
       "      <td>...</td>\n",
       "      <td>...</td>\n",
       "      <td>...</td>\n",
       "      <td>...</td>\n",
       "      <td>...</td>\n",
       "      <td>...</td>\n",
       "      <td>...</td>\n",
       "    </tr>\n",
       "    <tr>\n",
       "      <th>1757</th>\n",
       "      <td>slither.io</td>\n",
       "      <td>GAME</td>\n",
       "      <td>4.4</td>\n",
       "      <td>5234810</td>\n",
       "      <td>21.0</td>\n",
       "      <td>100000000.0</td>\n",
       "      <td>Free</td>\n",
       "      <td>0.0</td>\n",
       "      <td>Everyone</td>\n",
       "      <td>Action</td>\n",
       "    </tr>\n",
       "    <tr>\n",
       "      <th>565</th>\n",
       "      <td>stranger chat - anonymous chat</td>\n",
       "      <td>DATING</td>\n",
       "      <td>3.5</td>\n",
       "      <td>13204</td>\n",
       "      <td>6.0</td>\n",
       "      <td>1000000.0</td>\n",
       "      <td>Free</td>\n",
       "      <td>0.0</td>\n",
       "      <td>Mature 17+</td>\n",
       "      <td>Dating</td>\n",
       "    </tr>\n",
       "    <tr>\n",
       "      <th>2637</th>\n",
       "      <td>textPlus: Free Text &amp; Calls</td>\n",
       "      <td>SOCIAL</td>\n",
       "      <td>4.1</td>\n",
       "      <td>382121</td>\n",
       "      <td>27.3</td>\n",
       "      <td>10000000.0</td>\n",
       "      <td>Free</td>\n",
       "      <td>0.0</td>\n",
       "      <td>Everyone</td>\n",
       "      <td>Social</td>\n",
       "    </tr>\n",
       "    <tr>\n",
       "      <th>3055</th>\n",
       "      <td>theScore: Live Sports Scores, News, Stats &amp; Vi...</td>\n",
       "      <td>SPORTS</td>\n",
       "      <td>4.4</td>\n",
       "      <td>133833</td>\n",
       "      <td>33.2</td>\n",
       "      <td>10000000.0</td>\n",
       "      <td>Free</td>\n",
       "      <td>0.0</td>\n",
       "      <td>Everyone 10+</td>\n",
       "      <td>Sports</td>\n",
       "    </tr>\n",
       "    <tr>\n",
       "      <th>8291</th>\n",
       "      <td>wetter.com - Weather and Radar</td>\n",
       "      <td>WEATHER</td>\n",
       "      <td>4.2</td>\n",
       "      <td>189310</td>\n",
       "      <td>37.1</td>\n",
       "      <td>10000000.0</td>\n",
       "      <td>Free</td>\n",
       "      <td>0.0</td>\n",
       "      <td>Everyone</td>\n",
       "      <td>Weather</td>\n",
       "    </tr>\n",
       "  </tbody>\n",
       "</table>\n",
       "<p>696 rows × 10 columns</p>\n",
       "</div>"
      ],
      "text/plain": [
       "                                                    App Category  Rating  \\\n",
       "5415                            365Scores - Live Scores   SPORTS     4.6   \n",
       "1970                                        8 Ball Pool     GAME     4.5   \n",
       "1703                                        8 Ball Pool     GAME     4.5   \n",
       "1844                                        8 Ball Pool     GAME     4.5   \n",
       "1871                                        8 Ball Pool     GAME     4.5   \n",
       "...                                                 ...      ...     ...   \n",
       "1757                                         slither.io     GAME     4.4   \n",
       "565                      stranger chat - anonymous chat   DATING     3.5   \n",
       "2637                        textPlus: Free Text & Calls   SOCIAL     4.1   \n",
       "3055  theScore: Live Sports Scores, News, Stats & Vi...   SPORTS     4.4   \n",
       "8291                     wetter.com - Weather and Radar  WEATHER     4.2   \n",
       "\n",
       "       Reviews  Size     Installs  Type  Price Content Rating   Genres  \n",
       "5415    666246  24.4   10000000.0  Free    0.0       Everyone   Sports  \n",
       "1970  14201604  50.8  100000000.0  Free    0.0       Everyone   Sports  \n",
       "1703  14198602  50.8  100000000.0  Free    0.0       Everyone   Sports  \n",
       "1844  14200550  50.8  100000000.0  Free    0.0       Everyone   Sports  \n",
       "1871  14201891  50.8  100000000.0  Free    0.0       Everyone   Sports  \n",
       "...        ...   ...          ...   ...    ...            ...      ...  \n",
       "1757   5234810  21.0  100000000.0  Free    0.0       Everyone   Action  \n",
       "565      13204   6.0    1000000.0  Free    0.0     Mature 17+   Dating  \n",
       "2637    382121  27.3   10000000.0  Free    0.0       Everyone   Social  \n",
       "3055    133833  33.2   10000000.0  Free    0.0   Everyone 10+   Sports  \n",
       "8291    189310  37.1   10000000.0  Free    0.0       Everyone  Weather  \n",
       "\n",
       "[696 rows x 10 columns]"
      ]
     },
     "execution_count": 55,
     "metadata": {},
     "output_type": "execute_result"
    }
   ],
   "source": [
    "# getting the dataframe of duplicates apps name\n",
    "\n",
    "gplay[gplay.duplicated('App')].sort_values(by='App')"
   ]
  },
  {
   "cell_type": "code",
   "execution_count": 56,
   "metadata": {
    "execution": {
     "iopub.execute_input": "2022-01-08T20:55:50.944743Z",
     "iopub.status.busy": "2022-01-08T20:55:50.944446Z",
     "iopub.status.idle": "2022-01-08T20:55:50.955151Z",
     "shell.execute_reply": "2022-01-08T20:55:50.954356Z",
     "shell.execute_reply.started": "2022-01-08T20:55:50.944706Z"
    }
   },
   "outputs": [
    {
     "data": {
      "text/plain": [
       "(9648, 10)"
      ]
     },
     "execution_count": 56,
     "metadata": {},
     "output_type": "execute_result"
    }
   ],
   "source": [
    "# We can drop the above rows from our dataframe\n",
    "\n",
    "gplay.drop_duplicates('App', inplace = True)\n",
    "gplay.shape"
   ]
  },
  {
   "cell_type": "markdown",
   "metadata": {},
   "source": [
    "# Exploratory Analysis and Visualization"
   ]
  },
  {
   "cell_type": "code",
   "execution_count": 57,
   "metadata": {
    "execution": {
     "iopub.execute_input": "2022-01-08T20:55:50.957878Z",
     "iopub.status.busy": "2022-01-08T20:55:50.957434Z",
     "iopub.status.idle": "2022-01-08T20:55:50.981104Z",
     "shell.execute_reply": "2022-01-08T20:55:50.980315Z",
     "shell.execute_reply.started": "2022-01-08T20:55:50.957846Z"
    }
   },
   "outputs": [
    {
     "data": {
      "text/html": [
       "<div>\n",
       "<style scoped>\n",
       "    .dataframe tbody tr th:only-of-type {\n",
       "        vertical-align: middle;\n",
       "    }\n",
       "\n",
       "    .dataframe tbody tr th {\n",
       "        vertical-align: top;\n",
       "    }\n",
       "\n",
       "    .dataframe thead th {\n",
       "        text-align: right;\n",
       "    }\n",
       "</style>\n",
       "<table border=\"1\" class=\"dataframe\">\n",
       "  <thead>\n",
       "    <tr style=\"text-align: right;\">\n",
       "      <th></th>\n",
       "      <th>Rating</th>\n",
       "      <th>Reviews</th>\n",
       "      <th>Size</th>\n",
       "      <th>Installs</th>\n",
       "      <th>Price</th>\n",
       "    </tr>\n",
       "  </thead>\n",
       "  <tbody>\n",
       "    <tr>\n",
       "      <th>count</th>\n",
       "      <td>9648.000000</td>\n",
       "      <td>9.648000e+03</td>\n",
       "      <td>9648.000000</td>\n",
       "      <td>9.648000e+03</td>\n",
       "      <td>9648.000000</td>\n",
       "    </tr>\n",
       "    <tr>\n",
       "      <th>mean</th>\n",
       "      <td>4.191833</td>\n",
       "      <td>2.168384e+05</td>\n",
       "      <td>20.053597</td>\n",
       "      <td>7.786373e+06</td>\n",
       "      <td>1.099729</td>\n",
       "    </tr>\n",
       "    <tr>\n",
       "      <th>std</th>\n",
       "      <td>0.496228</td>\n",
       "      <td>1.832349e+06</td>\n",
       "      <td>19.922682</td>\n",
       "      <td>5.378828e+07</td>\n",
       "      <td>16.861732</td>\n",
       "    </tr>\n",
       "    <tr>\n",
       "      <th>min</th>\n",
       "      <td>1.000000</td>\n",
       "      <td>0.000000e+00</td>\n",
       "      <td>0.000000</td>\n",
       "      <td>0.000000e+00</td>\n",
       "      <td>0.000000</td>\n",
       "    </tr>\n",
       "    <tr>\n",
       "      <th>25%</th>\n",
       "      <td>4.000000</td>\n",
       "      <td>2.500000e+01</td>\n",
       "      <td>5.200000</td>\n",
       "      <td>1.000000e+03</td>\n",
       "      <td>0.000000</td>\n",
       "    </tr>\n",
       "    <tr>\n",
       "      <th>50%</th>\n",
       "      <td>4.300000</td>\n",
       "      <td>9.695000e+02</td>\n",
       "      <td>15.600000</td>\n",
       "      <td>1.000000e+05</td>\n",
       "      <td>0.000000</td>\n",
       "    </tr>\n",
       "    <tr>\n",
       "      <th>75%</th>\n",
       "      <td>4.500000</td>\n",
       "      <td>2.944925e+04</td>\n",
       "      <td>24.400000</td>\n",
       "      <td>1.000000e+06</td>\n",
       "      <td>0.000000</td>\n",
       "    </tr>\n",
       "    <tr>\n",
       "      <th>max</th>\n",
       "      <td>5.000000</td>\n",
       "      <td>7.815831e+07</td>\n",
       "      <td>97.700000</td>\n",
       "      <td>1.000000e+09</td>\n",
       "      <td>400.000000</td>\n",
       "    </tr>\n",
       "  </tbody>\n",
       "</table>\n",
       "</div>"
      ],
      "text/plain": [
       "            Rating       Reviews         Size      Installs        Price\n",
       "count  9648.000000  9.648000e+03  9648.000000  9.648000e+03  9648.000000\n",
       "mean      4.191833  2.168384e+05    20.053597  7.786373e+06     1.099729\n",
       "std       0.496228  1.832349e+06    19.922682  5.378828e+07    16.861732\n",
       "min       1.000000  0.000000e+00     0.000000  0.000000e+00     0.000000\n",
       "25%       4.000000  2.500000e+01     5.200000  1.000000e+03     0.000000\n",
       "50%       4.300000  9.695000e+02    15.600000  1.000000e+05     0.000000\n",
       "75%       4.500000  2.944925e+04    24.400000  1.000000e+06     0.000000\n",
       "max       5.000000  7.815831e+07    97.700000  1.000000e+09   400.000000"
      ]
     },
     "execution_count": 57,
     "metadata": {},
     "output_type": "execute_result"
    }
   ],
   "source": [
    "# Create a box plot for the price column\n",
    "\n",
    "gplay.describe()"
   ]
  },
  {
   "cell_type": "code",
   "execution_count": 58,
   "metadata": {
    "execution": {
     "iopub.execute_input": "2022-01-08T20:55:50.982596Z",
     "iopub.status.busy": "2022-01-08T20:55:50.982305Z",
     "iopub.status.idle": "2022-01-08T20:55:50.990174Z",
     "shell.execute_reply": "2022-01-08T20:55:50.98942Z",
     "shell.execute_reply.started": "2022-01-08T20:55:50.982558Z"
    }
   },
   "outputs": [
    {
     "data": {
      "text/plain": [
       "False    9631\n",
       "True       17\n",
       "Name: Price, dtype: int64"
      ]
     },
     "execution_count": 58,
     "metadata": {},
     "output_type": "execute_result"
    }
   ],
   "source": [
    "# Checking the apps with price more than 200\n",
    "\n",
    "(gplay.Price>200).value_counts()"
   ]
  },
  {
   "cell_type": "code",
   "execution_count": 59,
   "metadata": {
    "execution": {
     "iopub.execute_input": "2022-01-08T20:55:50.992087Z",
     "iopub.status.busy": "2022-01-08T20:55:50.991612Z",
     "iopub.status.idle": "2022-01-08T20:55:51.013542Z",
     "shell.execute_reply": "2022-01-08T20:55:51.01284Z",
     "shell.execute_reply.started": "2022-01-08T20:55:50.992049Z"
    }
   },
   "outputs": [
    {
     "data": {
      "text/html": [
       "<div>\n",
       "<style scoped>\n",
       "    .dataframe tbody tr th:only-of-type {\n",
       "        vertical-align: middle;\n",
       "    }\n",
       "\n",
       "    .dataframe tbody tr th {\n",
       "        vertical-align: top;\n",
       "    }\n",
       "\n",
       "    .dataframe thead th {\n",
       "        text-align: right;\n",
       "    }\n",
       "</style>\n",
       "<table border=\"1\" class=\"dataframe\">\n",
       "  <thead>\n",
       "    <tr style=\"text-align: right;\">\n",
       "      <th></th>\n",
       "      <th>App</th>\n",
       "      <th>Category</th>\n",
       "      <th>Rating</th>\n",
       "      <th>Reviews</th>\n",
       "      <th>Size</th>\n",
       "      <th>Installs</th>\n",
       "      <th>Type</th>\n",
       "      <th>Price</th>\n",
       "      <th>Content Rating</th>\n",
       "      <th>Genres</th>\n",
       "    </tr>\n",
       "  </thead>\n",
       "  <tbody>\n",
       "    <tr>\n",
       "      <th>4197</th>\n",
       "      <td>most expensive app (H)</td>\n",
       "      <td>FAMILY</td>\n",
       "      <td>4.3</td>\n",
       "      <td>6</td>\n",
       "      <td>1.5</td>\n",
       "      <td>100.0</td>\n",
       "      <td>Paid</td>\n",
       "      <td>399.99</td>\n",
       "      <td>Everyone</td>\n",
       "      <td>Entertainment</td>\n",
       "    </tr>\n",
       "    <tr>\n",
       "      <th>4362</th>\n",
       "      <td>💎 I'm rich</td>\n",
       "      <td>LIFESTYLE</td>\n",
       "      <td>3.8</td>\n",
       "      <td>718</td>\n",
       "      <td>25.4</td>\n",
       "      <td>10000.0</td>\n",
       "      <td>Paid</td>\n",
       "      <td>399.99</td>\n",
       "      <td>Everyone</td>\n",
       "      <td>Lifestyle</td>\n",
       "    </tr>\n",
       "    <tr>\n",
       "      <th>4367</th>\n",
       "      <td>I'm Rich - Trump Edition</td>\n",
       "      <td>LIFESTYLE</td>\n",
       "      <td>3.6</td>\n",
       "      <td>275</td>\n",
       "      <td>7.1</td>\n",
       "      <td>10000.0</td>\n",
       "      <td>Paid</td>\n",
       "      <td>400.00</td>\n",
       "      <td>Everyone</td>\n",
       "      <td>Lifestyle</td>\n",
       "    </tr>\n",
       "    <tr>\n",
       "      <th>5351</th>\n",
       "      <td>I am rich</td>\n",
       "      <td>LIFESTYLE</td>\n",
       "      <td>3.8</td>\n",
       "      <td>3547</td>\n",
       "      <td>1.8</td>\n",
       "      <td>100000.0</td>\n",
       "      <td>Paid</td>\n",
       "      <td>399.99</td>\n",
       "      <td>Everyone</td>\n",
       "      <td>Lifestyle</td>\n",
       "    </tr>\n",
       "    <tr>\n",
       "      <th>5354</th>\n",
       "      <td>I am Rich Plus</td>\n",
       "      <td>FAMILY</td>\n",
       "      <td>4.0</td>\n",
       "      <td>856</td>\n",
       "      <td>8.5</td>\n",
       "      <td>10000.0</td>\n",
       "      <td>Paid</td>\n",
       "      <td>399.99</td>\n",
       "      <td>Everyone</td>\n",
       "      <td>Entertainment</td>\n",
       "    </tr>\n",
       "    <tr>\n",
       "      <th>5355</th>\n",
       "      <td>I am rich VIP</td>\n",
       "      <td>LIFESTYLE</td>\n",
       "      <td>3.8</td>\n",
       "      <td>411</td>\n",
       "      <td>2.5</td>\n",
       "      <td>10000.0</td>\n",
       "      <td>Paid</td>\n",
       "      <td>299.99</td>\n",
       "      <td>Everyone</td>\n",
       "      <td>Lifestyle</td>\n",
       "    </tr>\n",
       "    <tr>\n",
       "      <th>5356</th>\n",
       "      <td>I Am Rich Premium</td>\n",
       "      <td>FINANCE</td>\n",
       "      <td>4.1</td>\n",
       "      <td>1867</td>\n",
       "      <td>4.6</td>\n",
       "      <td>50000.0</td>\n",
       "      <td>Paid</td>\n",
       "      <td>399.99</td>\n",
       "      <td>Everyone</td>\n",
       "      <td>Finance</td>\n",
       "    </tr>\n",
       "    <tr>\n",
       "      <th>5357</th>\n",
       "      <td>I am extremely Rich</td>\n",
       "      <td>LIFESTYLE</td>\n",
       "      <td>2.9</td>\n",
       "      <td>41</td>\n",
       "      <td>2.8</td>\n",
       "      <td>1000.0</td>\n",
       "      <td>Paid</td>\n",
       "      <td>379.99</td>\n",
       "      <td>Everyone</td>\n",
       "      <td>Lifestyle</td>\n",
       "    </tr>\n",
       "    <tr>\n",
       "      <th>5358</th>\n",
       "      <td>I am Rich!</td>\n",
       "      <td>FINANCE</td>\n",
       "      <td>3.8</td>\n",
       "      <td>93</td>\n",
       "      <td>21.5</td>\n",
       "      <td>1000.0</td>\n",
       "      <td>Paid</td>\n",
       "      <td>399.99</td>\n",
       "      <td>Everyone</td>\n",
       "      <td>Finance</td>\n",
       "    </tr>\n",
       "    <tr>\n",
       "      <th>5359</th>\n",
       "      <td>I am rich(premium)</td>\n",
       "      <td>FINANCE</td>\n",
       "      <td>3.5</td>\n",
       "      <td>472</td>\n",
       "      <td>0.9</td>\n",
       "      <td>5000.0</td>\n",
       "      <td>Paid</td>\n",
       "      <td>399.99</td>\n",
       "      <td>Everyone</td>\n",
       "      <td>Finance</td>\n",
       "    </tr>\n",
       "    <tr>\n",
       "      <th>5362</th>\n",
       "      <td>I Am Rich Pro</td>\n",
       "      <td>FAMILY</td>\n",
       "      <td>4.4</td>\n",
       "      <td>201</td>\n",
       "      <td>2.6</td>\n",
       "      <td>5000.0</td>\n",
       "      <td>Paid</td>\n",
       "      <td>399.99</td>\n",
       "      <td>Everyone</td>\n",
       "      <td>Entertainment</td>\n",
       "    </tr>\n",
       "    <tr>\n",
       "      <th>5364</th>\n",
       "      <td>I am rich (Most expensive app)</td>\n",
       "      <td>FINANCE</td>\n",
       "      <td>4.1</td>\n",
       "      <td>129</td>\n",
       "      <td>2.6</td>\n",
       "      <td>1000.0</td>\n",
       "      <td>Paid</td>\n",
       "      <td>399.99</td>\n",
       "      <td>Teen</td>\n",
       "      <td>Finance</td>\n",
       "    </tr>\n",
       "    <tr>\n",
       "      <th>5366</th>\n",
       "      <td>I Am Rich</td>\n",
       "      <td>FAMILY</td>\n",
       "      <td>3.6</td>\n",
       "      <td>217</td>\n",
       "      <td>4.8</td>\n",
       "      <td>10000.0</td>\n",
       "      <td>Paid</td>\n",
       "      <td>389.99</td>\n",
       "      <td>Everyone</td>\n",
       "      <td>Entertainment</td>\n",
       "    </tr>\n",
       "    <tr>\n",
       "      <th>5369</th>\n",
       "      <td>I am Rich</td>\n",
       "      <td>FINANCE</td>\n",
       "      <td>4.3</td>\n",
       "      <td>180</td>\n",
       "      <td>3.7</td>\n",
       "      <td>5000.0</td>\n",
       "      <td>Paid</td>\n",
       "      <td>399.99</td>\n",
       "      <td>Everyone</td>\n",
       "      <td>Finance</td>\n",
       "    </tr>\n",
       "    <tr>\n",
       "      <th>5373</th>\n",
       "      <td>I AM RICH PRO PLUS</td>\n",
       "      <td>FINANCE</td>\n",
       "      <td>4.0</td>\n",
       "      <td>36</td>\n",
       "      <td>40.0</td>\n",
       "      <td>1000.0</td>\n",
       "      <td>Paid</td>\n",
       "      <td>399.99</td>\n",
       "      <td>Everyone</td>\n",
       "      <td>Finance</td>\n",
       "    </tr>\n",
       "    <tr>\n",
       "      <th>9917</th>\n",
       "      <td>Eu Sou Rico</td>\n",
       "      <td>FINANCE</td>\n",
       "      <td>4.3</td>\n",
       "      <td>0</td>\n",
       "      <td>1.4</td>\n",
       "      <td>0.0</td>\n",
       "      <td>Paid</td>\n",
       "      <td>394.99</td>\n",
       "      <td>Everyone</td>\n",
       "      <td>Finance</td>\n",
       "    </tr>\n",
       "    <tr>\n",
       "      <th>9934</th>\n",
       "      <td>I'm Rich/Eu sou Rico/أنا غني/我很有錢</td>\n",
       "      <td>LIFESTYLE</td>\n",
       "      <td>4.3</td>\n",
       "      <td>0</td>\n",
       "      <td>39.1</td>\n",
       "      <td>0.0</td>\n",
       "      <td>Paid</td>\n",
       "      <td>399.99</td>\n",
       "      <td>Everyone</td>\n",
       "      <td>Lifestyle</td>\n",
       "    </tr>\n",
       "  </tbody>\n",
       "</table>\n",
       "</div>"
      ],
      "text/plain": [
       "                                    App   Category  Rating  Reviews  Size  \\\n",
       "4197             most expensive app (H)     FAMILY     4.3        6   1.5   \n",
       "4362                         💎 I'm rich  LIFESTYLE     3.8      718  25.4   \n",
       "4367           I'm Rich - Trump Edition  LIFESTYLE     3.6      275   7.1   \n",
       "5351                          I am rich  LIFESTYLE     3.8     3547   1.8   \n",
       "5354                     I am Rich Plus     FAMILY     4.0      856   8.5   \n",
       "5355                      I am rich VIP  LIFESTYLE     3.8      411   2.5   \n",
       "5356                  I Am Rich Premium    FINANCE     4.1     1867   4.6   \n",
       "5357                I am extremely Rich  LIFESTYLE     2.9       41   2.8   \n",
       "5358                         I am Rich!    FINANCE     3.8       93  21.5   \n",
       "5359                 I am rich(premium)    FINANCE     3.5      472   0.9   \n",
       "5362                      I Am Rich Pro     FAMILY     4.4      201   2.6   \n",
       "5364     I am rich (Most expensive app)    FINANCE     4.1      129   2.6   \n",
       "5366                          I Am Rich     FAMILY     3.6      217   4.8   \n",
       "5369                          I am Rich    FINANCE     4.3      180   3.7   \n",
       "5373                 I AM RICH PRO PLUS    FINANCE     4.0       36  40.0   \n",
       "9917                        Eu Sou Rico    FINANCE     4.3        0   1.4   \n",
       "9934  I'm Rich/Eu sou Rico/أنا غني/我很有錢  LIFESTYLE     4.3        0  39.1   \n",
       "\n",
       "      Installs  Type   Price Content Rating         Genres  \n",
       "4197     100.0  Paid  399.99       Everyone  Entertainment  \n",
       "4362   10000.0  Paid  399.99       Everyone      Lifestyle  \n",
       "4367   10000.0  Paid  400.00       Everyone      Lifestyle  \n",
       "5351  100000.0  Paid  399.99       Everyone      Lifestyle  \n",
       "5354   10000.0  Paid  399.99       Everyone  Entertainment  \n",
       "5355   10000.0  Paid  299.99       Everyone      Lifestyle  \n",
       "5356   50000.0  Paid  399.99       Everyone        Finance  \n",
       "5357    1000.0  Paid  379.99       Everyone      Lifestyle  \n",
       "5358    1000.0  Paid  399.99       Everyone        Finance  \n",
       "5359    5000.0  Paid  399.99       Everyone        Finance  \n",
       "5362    5000.0  Paid  399.99       Everyone  Entertainment  \n",
       "5364    1000.0  Paid  399.99           Teen        Finance  \n",
       "5366   10000.0  Paid  389.99       Everyone  Entertainment  \n",
       "5369    5000.0  Paid  399.99       Everyone        Finance  \n",
       "5373    1000.0  Paid  399.99       Everyone        Finance  \n",
       "9917       0.0  Paid  394.99       Everyone        Finance  \n",
       "9934       0.0  Paid  399.99       Everyone      Lifestyle  "
      ]
     },
     "execution_count": 59,
     "metadata": {},
     "output_type": "execute_result"
    }
   ],
   "source": [
    "gplay[(gplay.Price>200)]"
   ]
  },
  {
   "cell_type": "code",
   "execution_count": 60,
   "metadata": {
    "execution": {
     "iopub.execute_input": "2022-01-08T20:55:51.014934Z",
     "iopub.status.busy": "2022-01-08T20:55:51.014616Z",
     "iopub.status.idle": "2022-01-08T20:55:51.038128Z",
     "shell.execute_reply": "2022-01-08T20:55:51.037528Z",
     "shell.execute_reply.started": "2022-01-08T20:55:51.014907Z"
    }
   },
   "outputs": [
    {
     "data": {
      "text/html": [
       "<div>\n",
       "<style scoped>\n",
       "    .dataframe tbody tr th:only-of-type {\n",
       "        vertical-align: middle;\n",
       "    }\n",
       "\n",
       "    .dataframe tbody tr th {\n",
       "        vertical-align: top;\n",
       "    }\n",
       "\n",
       "    .dataframe thead th {\n",
       "        text-align: right;\n",
       "    }\n",
       "</style>\n",
       "<table border=\"1\" class=\"dataframe\">\n",
       "  <thead>\n",
       "    <tr style=\"text-align: right;\">\n",
       "      <th></th>\n",
       "      <th>App</th>\n",
       "      <th>Category</th>\n",
       "      <th>Rating</th>\n",
       "      <th>Reviews</th>\n",
       "      <th>Size</th>\n",
       "      <th>Installs</th>\n",
       "      <th>Type</th>\n",
       "      <th>Price</th>\n",
       "      <th>Content Rating</th>\n",
       "      <th>Genres</th>\n",
       "    </tr>\n",
       "  </thead>\n",
       "  <tbody>\n",
       "    <tr>\n",
       "      <th>4197</th>\n",
       "      <td>most expensive app (H)</td>\n",
       "      <td>FAMILY</td>\n",
       "      <td>4.3</td>\n",
       "      <td>6</td>\n",
       "      <td>1.5</td>\n",
       "      <td>100.0</td>\n",
       "      <td>Paid</td>\n",
       "      <td>399.99</td>\n",
       "      <td>Everyone</td>\n",
       "      <td>Entertainment</td>\n",
       "    </tr>\n",
       "    <tr>\n",
       "      <th>4367</th>\n",
       "      <td>I'm Rich - Trump Edition</td>\n",
       "      <td>LIFESTYLE</td>\n",
       "      <td>3.6</td>\n",
       "      <td>275</td>\n",
       "      <td>7.1</td>\n",
       "      <td>10000.0</td>\n",
       "      <td>Paid</td>\n",
       "      <td>400.00</td>\n",
       "      <td>Everyone</td>\n",
       "      <td>Lifestyle</td>\n",
       "    </tr>\n",
       "    <tr>\n",
       "      <th>5355</th>\n",
       "      <td>I am rich VIP</td>\n",
       "      <td>LIFESTYLE</td>\n",
       "      <td>3.8</td>\n",
       "      <td>411</td>\n",
       "      <td>2.5</td>\n",
       "      <td>10000.0</td>\n",
       "      <td>Paid</td>\n",
       "      <td>299.99</td>\n",
       "      <td>Everyone</td>\n",
       "      <td>Lifestyle</td>\n",
       "    </tr>\n",
       "    <tr>\n",
       "      <th>5357</th>\n",
       "      <td>I am extremely Rich</td>\n",
       "      <td>LIFESTYLE</td>\n",
       "      <td>2.9</td>\n",
       "      <td>41</td>\n",
       "      <td>2.8</td>\n",
       "      <td>1000.0</td>\n",
       "      <td>Paid</td>\n",
       "      <td>379.99</td>\n",
       "      <td>Everyone</td>\n",
       "      <td>Lifestyle</td>\n",
       "    </tr>\n",
       "    <tr>\n",
       "      <th>5358</th>\n",
       "      <td>I am Rich!</td>\n",
       "      <td>FINANCE</td>\n",
       "      <td>3.8</td>\n",
       "      <td>93</td>\n",
       "      <td>21.5</td>\n",
       "      <td>1000.0</td>\n",
       "      <td>Paid</td>\n",
       "      <td>399.99</td>\n",
       "      <td>Everyone</td>\n",
       "      <td>Finance</td>\n",
       "    </tr>\n",
       "    <tr>\n",
       "      <th>5359</th>\n",
       "      <td>I am rich(premium)</td>\n",
       "      <td>FINANCE</td>\n",
       "      <td>3.5</td>\n",
       "      <td>472</td>\n",
       "      <td>0.9</td>\n",
       "      <td>5000.0</td>\n",
       "      <td>Paid</td>\n",
       "      <td>399.99</td>\n",
       "      <td>Everyone</td>\n",
       "      <td>Finance</td>\n",
       "    </tr>\n",
       "    <tr>\n",
       "      <th>5362</th>\n",
       "      <td>I Am Rich Pro</td>\n",
       "      <td>FAMILY</td>\n",
       "      <td>4.4</td>\n",
       "      <td>201</td>\n",
       "      <td>2.6</td>\n",
       "      <td>5000.0</td>\n",
       "      <td>Paid</td>\n",
       "      <td>399.99</td>\n",
       "      <td>Everyone</td>\n",
       "      <td>Entertainment</td>\n",
       "    </tr>\n",
       "    <tr>\n",
       "      <th>5364</th>\n",
       "      <td>I am rich (Most expensive app)</td>\n",
       "      <td>FINANCE</td>\n",
       "      <td>4.1</td>\n",
       "      <td>129</td>\n",
       "      <td>2.6</td>\n",
       "      <td>1000.0</td>\n",
       "      <td>Paid</td>\n",
       "      <td>399.99</td>\n",
       "      <td>Teen</td>\n",
       "      <td>Finance</td>\n",
       "    </tr>\n",
       "    <tr>\n",
       "      <th>5366</th>\n",
       "      <td>I Am Rich</td>\n",
       "      <td>FAMILY</td>\n",
       "      <td>3.6</td>\n",
       "      <td>217</td>\n",
       "      <td>4.8</td>\n",
       "      <td>10000.0</td>\n",
       "      <td>Paid</td>\n",
       "      <td>389.99</td>\n",
       "      <td>Everyone</td>\n",
       "      <td>Entertainment</td>\n",
       "    </tr>\n",
       "    <tr>\n",
       "      <th>5369</th>\n",
       "      <td>I am Rich</td>\n",
       "      <td>FINANCE</td>\n",
       "      <td>4.3</td>\n",
       "      <td>180</td>\n",
       "      <td>3.7</td>\n",
       "      <td>5000.0</td>\n",
       "      <td>Paid</td>\n",
       "      <td>399.99</td>\n",
       "      <td>Everyone</td>\n",
       "      <td>Finance</td>\n",
       "    </tr>\n",
       "    <tr>\n",
       "      <th>5373</th>\n",
       "      <td>I AM RICH PRO PLUS</td>\n",
       "      <td>FINANCE</td>\n",
       "      <td>4.0</td>\n",
       "      <td>36</td>\n",
       "      <td>40.0</td>\n",
       "      <td>1000.0</td>\n",
       "      <td>Paid</td>\n",
       "      <td>399.99</td>\n",
       "      <td>Everyone</td>\n",
       "      <td>Finance</td>\n",
       "    </tr>\n",
       "    <tr>\n",
       "      <th>9917</th>\n",
       "      <td>Eu Sou Rico</td>\n",
       "      <td>FINANCE</td>\n",
       "      <td>4.3</td>\n",
       "      <td>0</td>\n",
       "      <td>1.4</td>\n",
       "      <td>0.0</td>\n",
       "      <td>Paid</td>\n",
       "      <td>394.99</td>\n",
       "      <td>Everyone</td>\n",
       "      <td>Finance</td>\n",
       "    </tr>\n",
       "    <tr>\n",
       "      <th>9934</th>\n",
       "      <td>I'm Rich/Eu sou Rico/أنا غني/我很有錢</td>\n",
       "      <td>LIFESTYLE</td>\n",
       "      <td>4.3</td>\n",
       "      <td>0</td>\n",
       "      <td>39.1</td>\n",
       "      <td>0.0</td>\n",
       "      <td>Paid</td>\n",
       "      <td>399.99</td>\n",
       "      <td>Everyone</td>\n",
       "      <td>Lifestyle</td>\n",
       "    </tr>\n",
       "  </tbody>\n",
       "</table>\n",
       "</div>"
      ],
      "text/plain": [
       "                                    App   Category  Rating  Reviews  Size  \\\n",
       "4197             most expensive app (H)     FAMILY     4.3        6   1.5   \n",
       "4367           I'm Rich - Trump Edition  LIFESTYLE     3.6      275   7.1   \n",
       "5355                      I am rich VIP  LIFESTYLE     3.8      411   2.5   \n",
       "5357                I am extremely Rich  LIFESTYLE     2.9       41   2.8   \n",
       "5358                         I am Rich!    FINANCE     3.8       93  21.5   \n",
       "5359                 I am rich(premium)    FINANCE     3.5      472   0.9   \n",
       "5362                      I Am Rich Pro     FAMILY     4.4      201   2.6   \n",
       "5364     I am rich (Most expensive app)    FINANCE     4.1      129   2.6   \n",
       "5366                          I Am Rich     FAMILY     3.6      217   4.8   \n",
       "5369                          I am Rich    FINANCE     4.3      180   3.7   \n",
       "5373                 I AM RICH PRO PLUS    FINANCE     4.0       36  40.0   \n",
       "9917                        Eu Sou Rico    FINANCE     4.3        0   1.4   \n",
       "9934  I'm Rich/Eu sou Rico/أنا غني/我很有錢  LIFESTYLE     4.3        0  39.1   \n",
       "\n",
       "      Installs  Type   Price Content Rating         Genres  \n",
       "4197     100.0  Paid  399.99       Everyone  Entertainment  \n",
       "4367   10000.0  Paid  400.00       Everyone      Lifestyle  \n",
       "5355   10000.0  Paid  299.99       Everyone      Lifestyle  \n",
       "5357    1000.0  Paid  379.99       Everyone      Lifestyle  \n",
       "5358    1000.0  Paid  399.99       Everyone        Finance  \n",
       "5359    5000.0  Paid  399.99       Everyone        Finance  \n",
       "5362    5000.0  Paid  399.99       Everyone  Entertainment  \n",
       "5364    1000.0  Paid  399.99           Teen        Finance  \n",
       "5366   10000.0  Paid  389.99       Everyone  Entertainment  \n",
       "5369    5000.0  Paid  399.99       Everyone        Finance  \n",
       "5373    1000.0  Paid  399.99       Everyone        Finance  \n",
       "9917       0.0  Paid  394.99       Everyone        Finance  \n",
       "9934       0.0  Paid  399.99       Everyone      Lifestyle  "
      ]
     },
     "execution_count": 60,
     "metadata": {},
     "output_type": "execute_result"
    }
   ],
   "source": [
    "gplay[(gplay.Price>200) & (gplay.Installs<=10000) & (gplay.Reviews<=500)]"
   ]
  },
  {
   "cell_type": "code",
   "execution_count": 61,
   "metadata": {
    "execution": {
     "iopub.execute_input": "2022-01-08T20:55:51.03954Z",
     "iopub.status.busy": "2022-01-08T20:55:51.039199Z",
     "iopub.status.idle": "2022-01-08T20:55:51.049876Z",
     "shell.execute_reply": "2022-01-08T20:55:51.049224Z",
     "shell.execute_reply.started": "2022-01-08T20:55:51.039511Z"
    }
   },
   "outputs": [],
   "source": [
    "# cleaning the Price column considering other variables\n",
    "\n",
    "gplay = gplay[~((gplay.Price>200) & (gplay.Installs<=10000) & (gplay.Reviews<=500))]"
   ]
  },
  {
   "cell_type": "markdown",
   "metadata": {},
   "source": [
    "## BOXPLOT :"
   ]
  },
  {
   "cell_type": "code",
   "execution_count": 62,
   "metadata": {
    "execution": {
     "iopub.execute_input": "2022-01-08T20:55:51.051461Z",
     "iopub.status.busy": "2022-01-08T20:55:51.051119Z",
     "iopub.status.idle": "2022-01-08T20:55:51.05763Z",
     "shell.execute_reply": "2022-01-08T20:55:51.056967Z",
     "shell.execute_reply.started": "2022-01-08T20:55:51.051422Z"
    }
   },
   "outputs": [],
   "source": [
    "import matplotlib.pyplot as plt"
   ]
  },
  {
   "cell_type": "code",
   "execution_count": 63,
   "metadata": {
    "execution": {
     "iopub.execute_input": "2022-01-08T20:55:51.058898Z",
     "iopub.status.busy": "2022-01-08T20:55:51.058628Z",
     "iopub.status.idle": "2022-01-08T20:55:51.242509Z",
     "shell.execute_reply": "2022-01-08T20:55:51.241698Z",
     "shell.execute_reply.started": "2022-01-08T20:55:51.058861Z"
    }
   },
   "outputs": [
    {
     "name": "stdout",
     "output_type": "stream",
     "text": [
      "count    9635.000000\n",
      "mean        0.575538\n",
      "std         8.933478\n",
      "min         0.000000\n",
      "25%         0.000000\n",
      "50%         0.000000\n",
      "75%         0.000000\n",
      "max       399.990000\n",
      "Name: Price, dtype: float64\n",
      "\n",
      "\n"
     ]
    },
    {
     "data": {
      "image/png": "[encoded data removed]",
      "text/plain": [
       "<Figure size 648x360 with 1 Axes>"
      ]
     },
     "metadata": {
      "needs_background": "light"
     },
     "output_type": "display_data"
    }
   ],
   "source": [
    "# creating a boxplot for paid apps\n",
    "\n",
    "print(gplay.Price.describe(), end = '\\n\\n\\n')\n",
    "gplay[gplay.Price>0].Price.plot.box()\n",
    "plt.show()"
   ]
  },
  {
   "cell_type": "code",
   "execution_count": 64,
   "metadata": {
    "execution": {
     "iopub.execute_input": "2022-01-08T20:55:51.244041Z",
     "iopub.status.busy": "2022-01-08T20:55:51.24361Z",
     "iopub.status.idle": "2022-01-08T20:55:51.258814Z",
     "shell.execute_reply": "2022-01-08T20:55:51.257964Z",
     "shell.execute_reply.started": "2022-01-08T20:55:51.244007Z"
    }
   },
   "outputs": [
    {
     "data": {
      "text/html": [
       "<div>\n",
       "<style scoped>\n",
       "    .dataframe tbody tr th:only-of-type {\n",
       "        vertical-align: middle;\n",
       "    }\n",
       "\n",
       "    .dataframe tbody tr th {\n",
       "        vertical-align: top;\n",
       "    }\n",
       "\n",
       "    .dataframe thead th {\n",
       "        text-align: right;\n",
       "    }\n",
       "</style>\n",
       "<table border=\"1\" class=\"dataframe\">\n",
       "  <thead>\n",
       "    <tr style=\"text-align: right;\">\n",
       "      <th></th>\n",
       "      <th>App</th>\n",
       "      <th>Category</th>\n",
       "      <th>Rating</th>\n",
       "      <th>Reviews</th>\n",
       "      <th>Size</th>\n",
       "      <th>Installs</th>\n",
       "      <th>Type</th>\n",
       "      <th>Price</th>\n",
       "      <th>Content Rating</th>\n",
       "      <th>Genres</th>\n",
       "    </tr>\n",
       "  </thead>\n",
       "  <tbody>\n",
       "    <tr>\n",
       "      <th>4362</th>\n",
       "      <td>💎 I'm rich</td>\n",
       "      <td>LIFESTYLE</td>\n",
       "      <td>3.8</td>\n",
       "      <td>718</td>\n",
       "      <td>25.4</td>\n",
       "      <td>10000.0</td>\n",
       "      <td>Paid</td>\n",
       "      <td>399.99</td>\n",
       "      <td>Everyone</td>\n",
       "      <td>Lifestyle</td>\n",
       "    </tr>\n",
       "    <tr>\n",
       "      <th>5351</th>\n",
       "      <td>I am rich</td>\n",
       "      <td>LIFESTYLE</td>\n",
       "      <td>3.8</td>\n",
       "      <td>3547</td>\n",
       "      <td>1.8</td>\n",
       "      <td>100000.0</td>\n",
       "      <td>Paid</td>\n",
       "      <td>399.99</td>\n",
       "      <td>Everyone</td>\n",
       "      <td>Lifestyle</td>\n",
       "    </tr>\n",
       "    <tr>\n",
       "      <th>5354</th>\n",
       "      <td>I am Rich Plus</td>\n",
       "      <td>FAMILY</td>\n",
       "      <td>4.0</td>\n",
       "      <td>856</td>\n",
       "      <td>8.5</td>\n",
       "      <td>10000.0</td>\n",
       "      <td>Paid</td>\n",
       "      <td>399.99</td>\n",
       "      <td>Everyone</td>\n",
       "      <td>Entertainment</td>\n",
       "    </tr>\n",
       "    <tr>\n",
       "      <th>5356</th>\n",
       "      <td>I Am Rich Premium</td>\n",
       "      <td>FINANCE</td>\n",
       "      <td>4.1</td>\n",
       "      <td>1867</td>\n",
       "      <td>4.6</td>\n",
       "      <td>50000.0</td>\n",
       "      <td>Paid</td>\n",
       "      <td>399.99</td>\n",
       "      <td>Everyone</td>\n",
       "      <td>Finance</td>\n",
       "    </tr>\n",
       "  </tbody>\n",
       "</table>\n",
       "</div>"
      ],
      "text/plain": [
       "                    App   Category  Rating  Reviews  Size  Installs  Type  \\\n",
       "4362         💎 I'm rich  LIFESTYLE     3.8      718  25.4   10000.0  Paid   \n",
       "5351          I am rich  LIFESTYLE     3.8     3547   1.8  100000.0  Paid   \n",
       "5354     I am Rich Plus     FAMILY     4.0      856   8.5   10000.0  Paid   \n",
       "5356  I Am Rich Premium    FINANCE     4.1     1867   4.6   50000.0  Paid   \n",
       "\n",
       "       Price Content Rating         Genres  \n",
       "4362  399.99       Everyone      Lifestyle  \n",
       "5351  399.99       Everyone      Lifestyle  \n",
       "5354  399.99       Everyone  Entertainment  \n",
       "5356  399.99       Everyone        Finance  "
      ]
     },
     "execution_count": 64,
     "metadata": {},
     "output_type": "execute_result"
    }
   ],
   "source": [
    "# Check the apps with price more than 200\n",
    "\n",
    "gplay[gplay.Price>200]"
   ]
  },
  {
   "cell_type": "code",
   "execution_count": 65,
   "metadata": {
    "execution": {
     "iopub.execute_input": "2022-01-08T20:55:51.260824Z",
     "iopub.status.busy": "2022-01-08T20:55:51.260388Z",
     "iopub.status.idle": "2022-01-08T20:55:51.271087Z",
     "shell.execute_reply": "2022-01-08T20:55:51.270366Z",
     "shell.execute_reply.started": "2022-01-08T20:55:51.260793Z"
    }
   },
   "outputs": [
    {
     "data": {
      "text/plain": [
       "(9631, 10)"
      ]
     },
     "execution_count": 65,
     "metadata": {},
     "output_type": "execute_result"
    }
   ],
   "source": [
    "# cleaning the Price Column again\n",
    "\n",
    "gplay = gplay[gplay.Price<=200]\n",
    "gplay.shape"
   ]
  },
  {
   "cell_type": "markdown",
   "metadata": {},
   "source": [
    "## Histograms:"
   ]
  },
  {
   "cell_type": "code",
   "execution_count": 66,
   "metadata": {
    "execution": {
     "iopub.execute_input": "2022-01-08T20:55:51.272865Z",
     "iopub.status.busy": "2022-01-08T20:55:51.272078Z",
     "iopub.status.idle": "2022-01-08T20:55:51.517727Z",
     "shell.execute_reply": "2022-01-08T20:55:51.516973Z",
     "shell.execute_reply.started": "2022-01-08T20:55:51.272822Z"
    }
   },
   "outputs": [
    {
     "data": {
      "image/png": "[encoded data removed]",
      "text/plain": [
       "<Figure size 648x360 with 1 Axes>"
      ]
     },
     "metadata": {
      "needs_background": "light"
     },
     "output_type": "display_data"
    }
   ],
   "source": [
    "# Creating a histogram of the Reviews\n",
    "\n",
    "plt.hist(gplay.Reviews)\n",
    "plt.grid(axis='y')\n",
    "plt.show()"
   ]
  },
  {
   "cell_type": "code",
   "execution_count": 67,
   "metadata": {
    "execution": {
     "iopub.execute_input": "2022-01-08T20:55:51.51902Z",
     "iopub.status.busy": "2022-01-08T20:55:51.518802Z",
     "iopub.status.idle": "2022-01-08T20:55:51.691078Z",
     "shell.execute_reply": "2022-01-08T20:55:51.690327Z",
     "shell.execute_reply.started": "2022-01-08T20:55:51.518991Z"
    }
   },
   "outputs": [
    {
     "data": {
      "image/png": "[encoded data removed]",
      "text/plain": [
       "<Figure size 648x360 with 1 Axes>"
      ]
     },
     "metadata": {
      "needs_background": "light"
     },
     "output_type": "display_data"
    }
   ],
   "source": [
    "plt.boxplot(gplay.Reviews)\n",
    "plt.show()"
   ]
  },
  {
   "cell_type": "markdown",
   "metadata": {},
   "source": [
    "\n",
    "# Categories with the most number of Apps\n"
   ]
  },
  {
   "cell_type": "code",
   "execution_count": 68,
   "metadata": {
    "execution": {
     "iopub.execute_input": "2022-01-08T20:55:51.69276Z",
     "iopub.status.busy": "2022-01-08T20:55:51.692315Z",
     "iopub.status.idle": "2022-01-08T20:55:51.701113Z",
     "shell.execute_reply": "2022-01-08T20:55:51.700339Z",
     "shell.execute_reply.started": "2022-01-08T20:55:51.69272Z"
    }
   },
   "outputs": [
    {
     "data": {
      "text/plain": [
       "FAMILY                 1826\n",
       "GAME                    955\n",
       "TOOLS                   826\n",
       "BUSINESS                420\n",
       "MEDICAL                 394\n",
       "PERSONALIZATION         375\n",
       "PRODUCTIVITY            374\n",
       "LIFESTYLE               362\n",
       "FINANCE                 338\n",
       "SPORTS                  325\n",
       "COMMUNICATION           315\n",
       "HEALTH_AND_FITNESS      288\n",
       "PHOTOGRAPHY             281\n",
       "NEWS_AND_MAGAZINES      254\n",
       "SOCIAL                  238\n",
       "BOOKS_AND_REFERENCE     222\n",
       "TRAVEL_AND_LOCAL        219\n",
       "SHOPPING                202\n",
       "DATING                  171\n",
       "VIDEO_PLAYERS           163\n",
       "MAPS_AND_NAVIGATION     131\n",
       "EDUCATION               119\n",
       "FOOD_AND_DRINK          112\n",
       "ENTERTAINMENT           102\n",
       "AUTO_AND_VEHICLES        85\n",
       "LIBRARIES_AND_DEMO       84\n",
       "WEATHER                  79\n",
       "HOUSE_AND_HOME           74\n",
       "EVENTS                   64\n",
       "ART_AND_DESIGN           64\n",
       "PARENTING                60\n",
       "COMICS                   56\n",
       "BEAUTY                   53\n",
       "Name: Category, dtype: int64"
      ]
     },
     "execution_count": 68,
     "metadata": {},
     "output_type": "execute_result"
    }
   ],
   "source": [
    "gplay.Category.value_counts()"
   ]
  },
  {
   "cell_type": "code",
   "execution_count": 69,
   "metadata": {
    "_kg_hide-input": true,
    "execution": {
     "iopub.execute_input": "2022-01-08T20:55:51.702598Z",
     "iopub.status.busy": "2022-01-08T20:55:51.702213Z",
     "iopub.status.idle": "2022-01-08T20:55:51.711989Z",
     "shell.execute_reply": "2022-01-08T20:55:51.711338Z",
     "shell.execute_reply.started": "2022-01-08T20:55:51.702568Z"
    }
   },
   "outputs": [],
   "source": [
    "yValues = gplay['Category'].value_counts().index\n",
    "xValues = gplay['Category'].value_counts().values"
   ]
  },
  {
   "cell_type": "code",
   "execution_count": 70,
   "metadata": {
    "execution": {
     "iopub.execute_input": "2022-01-08T20:55:51.713388Z",
     "iopub.status.busy": "2022-01-08T20:55:51.71295Z",
     "iopub.status.idle": "2022-01-08T20:55:52.1791Z",
     "shell.execute_reply": "2022-01-08T20:55:52.178511Z",
     "shell.execute_reply.started": "2022-01-08T20:55:51.713348Z"
    }
   },
   "outputs": [
    {
     "data": {
      "image/png": "[encoded data removed]",
      "text/plain": [
       "<Figure size 1080x720 with 1 Axes>"
      ]
     },
     "metadata": {
      "needs_background": "light"
     },
     "output_type": "display_data"
    }
   ],
   "source": [
    "plt.figure(figsize=(15,10))\n",
    "plt.xlabel(\"Count\")\n",
    "plt.ylabel(\"Category\")\n",
    "\n",
    "graph = sns.barplot(x=xValues,y=yValues, palette= \"husl\")\n",
    "graph.set_title(\"Top categories on Google Playstore\", fontsize = 25)\n",
    "plt.show()"
   ]
  },
  {
   "cell_type": "markdown",
   "metadata": {},
   "source": [
    "**Family** category has the most number of installs on google play store followed by **Game** & **Tools** category."
   ]
  },
  {
   "cell_type": "markdown",
   "metadata": {},
   "source": [
    "# **Content** category with the most apps\n"
   ]
  },
  {
   "cell_type": "code",
   "execution_count": 71,
   "metadata": {
    "execution": {
     "iopub.execute_input": "2022-01-08T20:55:52.180833Z",
     "iopub.status.busy": "2022-01-08T20:55:52.180401Z",
     "iopub.status.idle": "2022-01-08T20:55:52.188041Z",
     "shell.execute_reply": "2022-01-08T20:55:52.187179Z",
     "shell.execute_reply.started": "2022-01-08T20:55:52.180802Z"
    }
   },
   "outputs": [
    {
     "data": {
      "text/plain": [
       "Everyone           7877\n",
       "Teen               1034\n",
       "Mature 17+          393\n",
       "Everyone 10+        322\n",
       "Adults only 18+       3\n",
       "Unrated               2\n",
       "Name: Content Rating, dtype: int64"
      ]
     },
     "execution_count": 71,
     "metadata": {},
     "output_type": "execute_result"
    }
   ],
   "source": [
    "gplay['Content Rating'].value_counts()"
   ]
  },
  {
   "cell_type": "code",
   "execution_count": 72,
   "metadata": {
    "execution": {
     "iopub.execute_input": "2022-01-08T20:55:52.189144Z",
     "iopub.status.busy": "2022-01-08T20:55:52.18894Z",
     "iopub.status.idle": "2022-01-08T20:55:52.198595Z",
     "shell.execute_reply": "2022-01-08T20:55:52.198063Z",
     "shell.execute_reply.started": "2022-01-08T20:55:52.189121Z"
    }
   },
   "outputs": [],
   "source": [
    "x2 = gplay['Content Rating'].value_counts().index\n",
    "y2 = gplay['Content Rating'].value_counts().values"
   ]
  },
  {
   "cell_type": "code",
   "execution_count": 73,
   "metadata": {
    "execution": {
     "iopub.execute_input": "2022-01-08T20:55:52.199976Z",
     "iopub.status.busy": "2022-01-08T20:55:52.199345Z",
     "iopub.status.idle": "2022-01-08T20:55:52.422372Z",
     "shell.execute_reply": "2022-01-08T20:55:52.421531Z",
     "shell.execute_reply.started": "2022-01-08T20:55:52.199949Z"
    }
   },
   "outputs": [
    {
     "data": {
      "image/png": "[encoded data removed]",
      "text/plain": [
       "<Figure size 576x360 with 1 Axes>"
      ]
     },
     "metadata": {
      "needs_background": "light"
     },
     "output_type": "display_data"
    }
   ],
   "source": [
    "plt.figure(figsize=(8,5))\n",
    "plt.bar(x2,y2,width=0.8,color=['#15244C','#FFFF48','#292734','#EF2920','#CD202D','#ECC5F2'])\n",
    "plt.title('Content Rating',size = 20)\n",
    "plt.ylabel('Apps(Count)')\n",
    "plt.xlabel('Content Rating')\n",
    "plt.xticks(rotation=45)\n",
    "plt.show()"
   ]
  },
  {
   "cell_type": "markdown",
   "metadata": {},
   "source": [
    "From the above plots we can clearly see that **Everyone** category has the most number of apps on play store."
   ]
  },
  {
   "cell_type": "markdown",
   "metadata": {},
   "source": [
    "\n",
    "# Playstore Apps rating distribution"
   ]
  },
  {
   "cell_type": "code",
   "execution_count": 74,
   "metadata": {
    "execution": {
     "iopub.execute_input": "2022-01-08T20:55:52.423712Z",
     "iopub.status.busy": "2022-01-08T20:55:52.423495Z",
     "iopub.status.idle": "2022-01-08T20:55:52.432819Z",
     "shell.execute_reply": "2022-01-08T20:55:52.432064Z",
     "shell.execute_reply.started": "2022-01-08T20:55:52.423684Z"
    }
   },
   "outputs": [
    {
     "data": {
      "text/plain": [
       "count    9631.000000\n",
       "mean        4.192316\n",
       "std         0.496284\n",
       "min         1.000000\n",
       "25%         4.000000\n",
       "50%         4.300000\n",
       "75%         4.500000\n",
       "max         5.000000\n",
       "Name: Rating, dtype: float64"
      ]
     },
     "execution_count": 74,
     "metadata": {},
     "output_type": "execute_result"
    }
   ],
   "source": [
    "gplay.Rating.describe()"
   ]
  },
  {
   "cell_type": "code",
   "execution_count": 75,
   "metadata": {
    "execution": {
     "iopub.execute_input": "2022-01-08T20:55:52.434258Z",
     "iopub.status.busy": "2022-01-08T20:55:52.434005Z",
     "iopub.status.idle": "2022-01-08T20:55:52.725316Z",
     "shell.execute_reply": "2022-01-08T20:55:52.724601Z",
     "shell.execute_reply.started": "2022-01-08T20:55:52.434205Z"
    }
   },
   "outputs": [
    {
     "data": {
      "image/png": "[encoded data removed]",
      "text/plain": [
       "<Figure size 864x504 with 1 Axes>"
      ]
     },
     "metadata": {
      "needs_background": "light"
     },
     "output_type": "display_data"
    }
   ],
   "source": [
    "plt.figure(figsize=(12,7))\n",
    "plt.xlabel('Rating')\n",
    "plt.ylabel('Frequency')\n",
    "sns.kdeplot(gplay.Rating, color='Blue', shade=True)\n",
    "plt.title('Distribution of Rating', size=20)\n",
    "plt.show()"
   ]
  },
  {
   "cell_type": "markdown",
   "metadata": {
    "execution": {
     "iopub.execute_input": "2022-01-05T14:47:07.583585Z",
     "iopub.status.busy": "2022-01-05T14:47:07.583163Z",
     "iopub.status.idle": "2022-01-05T14:47:07.589712Z",
     "shell.execute_reply": "2022-01-05T14:47:07.58864Z",
     "shell.execute_reply.started": "2022-01-05T14:47:07.583549Z"
    }
   },
   "source": [
    "From the above graph we come to conclusion that most of the apps in google playstore are rated in between **3.5** to **4.8**."
   ]
  },
  {
   "cell_type": "markdown",
   "metadata": {},
   "source": [
    "# Pie Chart of percentage of Paid and Free apps"
   ]
  },
  {
   "cell_type": "code",
   "execution_count": 76,
   "metadata": {
    "execution": {
     "iopub.execute_input": "2022-01-08T20:55:52.727303Z",
     "iopub.status.busy": "2022-01-08T20:55:52.72702Z",
     "iopub.status.idle": "2022-01-08T20:55:52.842875Z",
     "shell.execute_reply": "2022-01-08T20:55:52.842076Z",
     "shell.execute_reply.started": "2022-01-08T20:55:52.727265Z"
    }
   },
   "outputs": [
    {
     "data": {
      "image/png": "[encoded data removed]",
      "text/plain": [
       "<Figure size 504x504 with 1 Axes>"
      ]
     },
     "metadata": {},
     "output_type": "display_data"
    }
   ],
   "source": [
    "plt.figure(figsize=(7,7))\n",
    "labels = gplay.Type.value_counts(sort=True).index\n",
    "sizes = gplay.Type.value_counts(sort=True)\n",
    "colors = ['#fcba03','red']\n",
    "explode = (0.2,0)\n",
    "plt.pie(sizes, explode, labels, colors, autopct='%1.1f%%', shadow=True, startangle=90)\n",
    "plt.title('Percent of Free Vs Paid Apps in store', size = 20)\n",
    "plt.show()"
   ]
  },
  {
   "cell_type": "markdown",
   "metadata": {},
   "source": [
    "From the above graph we can see that `92%(Approx.)` of apps in google play store are free and `8%(Approx.)` are paid."
   ]
  },
  {
   "cell_type": "markdown",
   "metadata": {},
   "source": [
    "# App categories with the most installs"
   ]
  },
  {
   "cell_type": "code",
   "execution_count": 77,
   "metadata": {
    "execution": {
     "iopub.execute_input": "2022-01-08T20:55:52.844677Z",
     "iopub.status.busy": "2022-01-08T20:55:52.84438Z",
     "iopub.status.idle": "2022-01-08T20:55:52.856216Z",
     "shell.execute_reply": "2022-01-08T20:55:52.855691Z",
     "shell.execute_reply.started": "2022-01-08T20:55:52.844624Z"
    }
   },
   "outputs": [
    {
     "data": {
      "text/plain": [
       "Category\n",
       "EVENTS                 1.597316e+07\n",
       "BEAUTY                 2.719705e+07\n",
       "PARENTING              3.152111e+07\n",
       "MEDICAL                3.819318e+07\n",
       "COMICS                 4.498115e+07\n",
       "LIBRARIES_AND_DEMO     5.299591e+07\n",
       "AUTO_AND_VEHICLES      5.313021e+07\n",
       "HOUSE_AND_HOME         9.721246e+07\n",
       "ART_AND_DESIGN         1.143381e+08\n",
       "DATING                 1.409261e+08\n",
       "FOOD_AND_DRINK         2.117988e+08\n",
       "EDUCATION              3.529520e+08\n",
       "WEATHER                3.611005e+08\n",
       "FINANCE                4.552857e+08\n",
       "MAPS_AND_NAVIGATION    5.032819e+08\n",
       "LIFESTYLE              5.036825e+08\n",
       "BUSINESS               6.971649e+08\n",
       "SPORTS                 1.096474e+09\n",
       "HEALTH_AND_FITNESS     1.144023e+09\n",
       "SHOPPING               1.400349e+09\n",
       "PERSONALIZATION        1.532495e+09\n",
       "BOOKS_AND_REFERENCE    1.665970e+09\n",
       "ENTERTAINMENT          2.113660e+09\n",
       "NEWS_AND_MAGAZINES     2.369218e+09\n",
       "TRAVEL_AND_LOCAL       2.894887e+09\n",
       "VIDEO_PLAYERS          3.926903e+09\n",
       "FAMILY                 4.427916e+09\n",
       "PHOTOGRAPHY            4.649148e+09\n",
       "SOCIAL                 5.487868e+09\n",
       "PRODUCTIVITY           5.793091e+09\n",
       "TOOLS                  8.001772e+09\n",
       "COMMUNICATION          1.103828e+10\n",
       "GAME                   1.387892e+10\n",
       "Name: Installs, dtype: float64"
      ]
     },
     "execution_count": 77,
     "metadata": {},
     "output_type": "execute_result"
    }
   ],
   "source": [
    "# series groupby objects\n",
    "gplay.groupby('Category').Installs.sum().sort_values()    "
   ]
  },
  {
   "cell_type": "code",
   "execution_count": 78,
   "metadata": {
    "execution": {
     "iopub.execute_input": "2022-01-08T20:55:52.857523Z",
     "iopub.status.busy": "2022-01-08T20:55:52.857305Z",
     "iopub.status.idle": "2022-01-08T20:55:52.864713Z",
     "shell.execute_reply": "2022-01-08T20:55:52.864126Z",
     "shell.execute_reply.started": "2022-01-08T20:55:52.85749Z"
    }
   },
   "outputs": [],
   "source": [
    "# dataframe groupby objects\n",
    "highest_installs = gplay.groupby('Category')[['Installs']].sum().sort_values(by='Installs', ascending=False)"
   ]
  },
  {
   "cell_type": "code",
   "execution_count": 79,
   "metadata": {
    "execution": {
     "iopub.execute_input": "2022-01-08T20:55:52.866589Z",
     "iopub.status.busy": "2022-01-08T20:55:52.866091Z",
     "iopub.status.idle": "2022-01-08T20:55:52.876766Z",
     "shell.execute_reply": "2022-01-08T20:55:52.876019Z",
     "shell.execute_reply.started": "2022-01-08T20:55:52.866548Z"
    }
   },
   "outputs": [
    {
     "data": {
      "text/html": [
       "<div>\n",
       "<style scoped>\n",
       "    .dataframe tbody tr th:only-of-type {\n",
       "        vertical-align: middle;\n",
       "    }\n",
       "\n",
       "    .dataframe tbody tr th {\n",
       "        vertical-align: top;\n",
       "    }\n",
       "\n",
       "    .dataframe thead th {\n",
       "        text-align: right;\n",
       "    }\n",
       "</style>\n",
       "<table border=\"1\" class=\"dataframe\">\n",
       "  <thead>\n",
       "    <tr style=\"text-align: right;\">\n",
       "      <th></th>\n",
       "      <th>Installs</th>\n",
       "    </tr>\n",
       "    <tr>\n",
       "      <th>Category</th>\n",
       "      <th></th>\n",
       "    </tr>\n",
       "  </thead>\n",
       "  <tbody>\n",
       "    <tr>\n",
       "      <th>GAME</th>\n",
       "      <td>1.387892e+10</td>\n",
       "    </tr>\n",
       "    <tr>\n",
       "      <th>COMMUNICATION</th>\n",
       "      <td>1.103828e+10</td>\n",
       "    </tr>\n",
       "    <tr>\n",
       "      <th>TOOLS</th>\n",
       "      <td>8.001772e+09</td>\n",
       "    </tr>\n",
       "    <tr>\n",
       "      <th>PRODUCTIVITY</th>\n",
       "      <td>5.793091e+09</td>\n",
       "    </tr>\n",
       "    <tr>\n",
       "      <th>SOCIAL</th>\n",
       "      <td>5.487868e+09</td>\n",
       "    </tr>\n",
       "  </tbody>\n",
       "</table>\n",
       "</div>"
      ],
      "text/plain": [
       "                   Installs\n",
       "Category                   \n",
       "GAME           1.387892e+10\n",
       "COMMUNICATION  1.103828e+10\n",
       "TOOLS          8.001772e+09\n",
       "PRODUCTIVITY   5.793091e+09\n",
       "SOCIAL         5.487868e+09"
      ]
     },
     "execution_count": 79,
     "metadata": {},
     "output_type": "execute_result"
    }
   ],
   "source": [
    "highest_installs.head()"
   ]
  },
  {
   "cell_type": "code",
   "execution_count": 80,
   "metadata": {
    "execution": {
     "iopub.execute_input": "2022-01-08T20:55:52.879109Z",
     "iopub.status.busy": "2022-01-08T20:55:52.878492Z",
     "iopub.status.idle": "2022-01-08T20:55:53.520496Z",
     "shell.execute_reply": "2022-01-08T20:55:53.519695Z",
     "shell.execute_reply.started": "2022-01-08T20:55:52.879071Z"
    }
   },
   "outputs": [
    {
     "data": {
      "image/png": "[encoded data removed]",
      "text/plain": [
       "<Figure size 1080x864 with 1 Axes>"
      ]
     },
     "metadata": {
      "needs_background": "light"
     },
     "output_type": "display_data"
    }
   ],
   "source": [
    "x3 = highest_installs.values\n",
    "x3 = x3.reshape(-1)\n",
    "y3 = highest_installs.index\n",
    "\n",
    "plt.figure(figsize=(15,12))\n",
    "plt.xlabel('Installs')\n",
    "plt.ylabel('Category')\n",
    "\n",
    "graph = sns.barplot(x=x3,y=y3, alpha=0.9, palette = 'rocket')\n",
    "graph.set_title('Highest Number of Installs', fontsize=25)\n",
    "\n",
    "plt.show()"
   ]
  },
  {
   "cell_type": "markdown",
   "metadata": {},
   "source": [
    "From the above graph, it can be interpreted that the top categories with highest installs are `Productivity`,`News_And_Magazines`,`Game`,`Family` and `Tools`."
   ]
  },
  {
   "cell_type": "markdown",
   "metadata": {},
   "source": [
    "# Top 10 installed apps in each category"
   ]
  },
  {
   "cell_type": "code",
   "execution_count": 94,
   "metadata": {
    "execution": {
     "iopub.execute_input": "2022-01-08T20:55:53.521852Z",
     "iopub.status.busy": "2022-01-08T20:55:53.521618Z",
     "iopub.status.idle": "2022-01-08T20:55:53.541987Z",
     "shell.execute_reply": "2022-01-08T20:55:53.541241Z",
     "shell.execute_reply.started": "2022-01-08T20:55:53.521827Z"
    }
   },
   "outputs": [
    {
     "data": {
      "text/html": [
       "<div>\n",
       "<style scoped>\n",
       "    .dataframe tbody tr th:only-of-type {\n",
       "        vertical-align: middle;\n",
       "    }\n",
       "\n",
       "    .dataframe tbody tr th {\n",
       "        vertical-align: top;\n",
       "    }\n",
       "\n",
       "    .dataframe thead th {\n",
       "        text-align: right;\n",
       "    }\n",
       "</style>\n",
       "<table border=\"1\" class=\"dataframe\">\n",
       "  <thead>\n",
       "    <tr style=\"text-align: right;\">\n",
       "      <th></th>\n",
       "      <th>App</th>\n",
       "      <th>Category</th>\n",
       "      <th>Rating</th>\n",
       "      <th>Reviews</th>\n",
       "      <th>Size</th>\n",
       "      <th>Installs</th>\n",
       "      <th>Type</th>\n",
       "      <th>Price</th>\n",
       "      <th>Content Rating</th>\n",
       "      <th>Genres</th>\n",
       "    </tr>\n",
       "  </thead>\n",
       "  <tbody>\n",
       "    <tr>\n",
       "      <th>4111</th>\n",
       "      <td>Talking Tom Cat 2</td>\n",
       "      <td>FAMILY</td>\n",
       "      <td>4.3</td>\n",
       "      <td>3213548</td>\n",
       "      <td>0.1</td>\n",
       "      <td>100000000.0</td>\n",
       "      <td>Free</td>\n",
       "      <td>0.0</td>\n",
       "      <td>Everyone 10+</td>\n",
       "      <td>Entertainment</td>\n",
       "    </tr>\n",
       "    <tr>\n",
       "      <th>4329</th>\n",
       "      <td>Tom Loves Angela</td>\n",
       "      <td>FAMILY</td>\n",
       "      <td>4.1</td>\n",
       "      <td>1111915</td>\n",
       "      <td>0.0</td>\n",
       "      <td>100000000.0</td>\n",
       "      <td>Free</td>\n",
       "      <td>0.0</td>\n",
       "      <td>Everyone</td>\n",
       "      <td>Entertainment</td>\n",
       "    </tr>\n",
       "    <tr>\n",
       "      <th>4247</th>\n",
       "      <td>Talking Tom Cat</td>\n",
       "      <td>FAMILY</td>\n",
       "      <td>4.3</td>\n",
       "      <td>1838090</td>\n",
       "      <td>0.0</td>\n",
       "      <td>100000000.0</td>\n",
       "      <td>Free</td>\n",
       "      <td>0.0</td>\n",
       "      <td>Everyone 10+</td>\n",
       "      <td>Casual</td>\n",
       "    </tr>\n",
       "    <tr>\n",
       "      <th>6849</th>\n",
       "      <td>Bubble Witch 2 Saga</td>\n",
       "      <td>FAMILY</td>\n",
       "      <td>4.3</td>\n",
       "      <td>2838064</td>\n",
       "      <td>0.0</td>\n",
       "      <td>100000000.0</td>\n",
       "      <td>Free</td>\n",
       "      <td>0.0</td>\n",
       "      <td>Everyone</td>\n",
       "      <td>Casual</td>\n",
       "    </tr>\n",
       "    <tr>\n",
       "      <th>4229</th>\n",
       "      <td>Where's My Water? Free</td>\n",
       "      <td>FAMILY</td>\n",
       "      <td>4.4</td>\n",
       "      <td>1372013</td>\n",
       "      <td>0.1</td>\n",
       "      <td>100000000.0</td>\n",
       "      <td>Free</td>\n",
       "      <td>0.0</td>\n",
       "      <td>Everyone</td>\n",
       "      <td>Puzzle;Brain Games</td>\n",
       "    </tr>\n",
       "    <tr>\n",
       "      <th>4797</th>\n",
       "      <td>Talking Tom &amp; Ben News</td>\n",
       "      <td>FAMILY</td>\n",
       "      <td>4.4</td>\n",
       "      <td>1131937</td>\n",
       "      <td>0.0</td>\n",
       "      <td>100000000.0</td>\n",
       "      <td>Free</td>\n",
       "      <td>0.0</td>\n",
       "      <td>Everyone</td>\n",
       "      <td>Entertainment</td>\n",
       "    </tr>\n",
       "    <tr>\n",
       "      <th>4217</th>\n",
       "      <td>Talking Ginger</td>\n",
       "      <td>FAMILY</td>\n",
       "      <td>4.2</td>\n",
       "      <td>1752017</td>\n",
       "      <td>0.0</td>\n",
       "      <td>100000000.0</td>\n",
       "      <td>Free</td>\n",
       "      <td>0.0</td>\n",
       "      <td>Everyone</td>\n",
       "      <td>Entertainment</td>\n",
       "    </tr>\n",
       "    <tr>\n",
       "      <th>3975</th>\n",
       "      <td>Hay Day</td>\n",
       "      <td>FAMILY</td>\n",
       "      <td>4.5</td>\n",
       "      <td>10053186</td>\n",
       "      <td>0.1</td>\n",
       "      <td>100000000.0</td>\n",
       "      <td>Free</td>\n",
       "      <td>0.0</td>\n",
       "      <td>Everyone</td>\n",
       "      <td>Casual</td>\n",
       "    </tr>\n",
       "    <tr>\n",
       "      <th>6269</th>\n",
       "      <td>Bitmoji – Your Personal Emoji</td>\n",
       "      <td>FAMILY</td>\n",
       "      <td>4.6</td>\n",
       "      <td>2312084</td>\n",
       "      <td>0.0</td>\n",
       "      <td>100000000.0</td>\n",
       "      <td>Free</td>\n",
       "      <td>0.0</td>\n",
       "      <td>Teen</td>\n",
       "      <td>Entertainment</td>\n",
       "    </tr>\n",
       "    <tr>\n",
       "      <th>4126</th>\n",
       "      <td>Dumb Ways to Die 2: The Games</td>\n",
       "      <td>FAMILY</td>\n",
       "      <td>4.2</td>\n",
       "      <td>1671658</td>\n",
       "      <td>0.0</td>\n",
       "      <td>50000000.0</td>\n",
       "      <td>Free</td>\n",
       "      <td>0.0</td>\n",
       "      <td>Teen</td>\n",
       "      <td>Casual</td>\n",
       "    </tr>\n",
       "  </tbody>\n",
       "</table>\n",
       "</div>"
      ],
      "text/plain": [
       "                                App Category  Rating   Reviews  Size  \\\n",
       "4111              Talking Tom Cat 2   FAMILY     4.3   3213548   0.1   \n",
       "4329               Tom Loves Angela   FAMILY     4.1   1111915   0.0   \n",
       "4247                Talking Tom Cat   FAMILY     4.3   1838090   0.0   \n",
       "6849            Bubble Witch 2 Saga   FAMILY     4.3   2838064   0.0   \n",
       "4229         Where's My Water? Free   FAMILY     4.4   1372013   0.1   \n",
       "4797         Talking Tom & Ben News   FAMILY     4.4   1131937   0.0   \n",
       "4217                 Talking Ginger   FAMILY     4.2   1752017   0.0   \n",
       "3975                        Hay Day   FAMILY     4.5  10053186   0.1   \n",
       "6269  Bitmoji – Your Personal Emoji   FAMILY     4.6   2312084   0.0   \n",
       "4126  Dumb Ways to Die 2: The Games   FAMILY     4.2   1671658   0.0   \n",
       "\n",
       "         Installs  Type  Price Content Rating              Genres  \n",
       "4111  100000000.0  Free    0.0   Everyone 10+       Entertainment  \n",
       "4329  100000000.0  Free    0.0       Everyone       Entertainment  \n",
       "4247  100000000.0  Free    0.0   Everyone 10+              Casual  \n",
       "6849  100000000.0  Free    0.0       Everyone              Casual  \n",
       "4229  100000000.0  Free    0.0       Everyone  Puzzle;Brain Games  \n",
       "4797  100000000.0  Free    0.0       Everyone       Entertainment  \n",
       "4217  100000000.0  Free    0.0       Everyone       Entertainment  \n",
       "3975  100000000.0  Free    0.0       Everyone              Casual  \n",
       "6269  100000000.0  Free    0.0           Teen       Entertainment  \n",
       "4126   50000000.0  Free    0.0           Teen              Casual  "
      ]
     },
     "execution_count": 94,
     "metadata": {},
     "output_type": "execute_result"
    }
   ],
   "source": [
    "gplay[gplay.Category == 'FAMILY'].sort_values(by='Installs', ascending=False).head(10)"
   ]
  },
  {
   "cell_type": "code",
   "execution_count": 82,
   "metadata": {
    "execution": {
     "iopub.execute_input": "2022-01-08T20:55:53.54331Z",
     "iopub.status.busy": "2022-01-08T20:55:53.543116Z",
     "iopub.status.idle": "2022-01-08T20:55:53.838194Z",
     "shell.execute_reply": "2022-01-08T20:55:53.837424Z",
     "shell.execute_reply.started": "2022-01-08T20:55:53.543287Z"
    }
   },
   "outputs": [
    {
     "data": {
      "image/png": "[encoded data removed]",
      "text/plain": [
       "<Figure size 864x504 with 1 Axes>"
      ]
     },
     "metadata": {
      "needs_background": "light"
     },
     "output_type": "display_data"
    }
   ],
   "source": [
    "# Creating a function to write the above code for every category for which I want to know the top 10 apps\n",
    "\n",
    "def top10installed(cat):\n",
    "    global plt\n",
    "    top10 = gplay[gplay.Category == cat.upper()].sort_values(by=\"Installs\", ascending = False).head(10)\n",
    "    \n",
    "    plt.figure(figsize=(12,7))\n",
    "    graph=sns.barplot(x=top10.App, y = top10.Installs, palette = 'viridis')\n",
    "    graph.set_xticklabels(graph.get_xticklabels(), rotation= 45, horizontalalignment='right')\n",
    "    graph.set_xlabel(\"App Names\", size = 20)\n",
    "    graph.set_ylabel('Total Installs of Apps', size = 20)\n",
    "    graph.set_title(f\"Top 10 {cat} category Apps\", size = 20)\n",
    "    \n",
    "    plt.show()\n",
    "\n",
    "top10installed('Sports')"
   ]
  },
  {
   "cell_type": "markdown",
   "metadata": {},
   "source": [
    "# Top 10 expensive paid apps in playstore"
   ]
  },
  {
   "cell_type": "code",
   "execution_count": 83,
   "metadata": {
    "execution": {
     "iopub.execute_input": "2022-01-08T20:55:53.839599Z",
     "iopub.status.busy": "2022-01-08T20:55:53.83939Z",
     "iopub.status.idle": "2022-01-08T20:55:53.852524Z",
     "shell.execute_reply": "2022-01-08T20:55:53.851773Z",
     "shell.execute_reply.started": "2022-01-08T20:55:53.839572Z"
    }
   },
   "outputs": [
    {
     "data": {
      "text/html": [
       "<div>\n",
       "<style scoped>\n",
       "    .dataframe tbody tr th:only-of-type {\n",
       "        vertical-align: middle;\n",
       "    }\n",
       "\n",
       "    .dataframe tbody tr th {\n",
       "        vertical-align: top;\n",
       "    }\n",
       "\n",
       "    .dataframe thead th {\n",
       "        text-align: right;\n",
       "    }\n",
       "</style>\n",
       "<table border=\"1\" class=\"dataframe\">\n",
       "  <thead>\n",
       "    <tr style=\"text-align: right;\">\n",
       "      <th></th>\n",
       "      <th>App</th>\n",
       "      <th>Price</th>\n",
       "    </tr>\n",
       "  </thead>\n",
       "  <tbody>\n",
       "    <tr>\n",
       "      <th>9719</th>\n",
       "      <td>EP Cook Book</td>\n",
       "      <td>200.00</td>\n",
       "    </tr>\n",
       "    <tr>\n",
       "      <th>6692</th>\n",
       "      <td>cronometra-br</td>\n",
       "      <td>154.99</td>\n",
       "    </tr>\n",
       "    <tr>\n",
       "      <th>6624</th>\n",
       "      <td>BP Fitness Lead Scanner</td>\n",
       "      <td>109.99</td>\n",
       "    </tr>\n",
       "    <tr>\n",
       "      <th>9730</th>\n",
       "      <td>Lean EQ</td>\n",
       "      <td>89.99</td>\n",
       "    </tr>\n",
       "    <tr>\n",
       "      <th>2253</th>\n",
       "      <td>Vargo Anesthesia Mega App</td>\n",
       "      <td>79.99</td>\n",
       "    </tr>\n",
       "    <tr>\n",
       "      <th>2390</th>\n",
       "      <td>Language Therapy: Aphasia</td>\n",
       "      <td>74.99</td>\n",
       "    </tr>\n",
       "    <tr>\n",
       "      <th>6559</th>\n",
       "      <td>Dr.Dice - Sic bo analyzer</td>\n",
       "      <td>46.99</td>\n",
       "    </tr>\n",
       "    <tr>\n",
       "      <th>4134</th>\n",
       "      <td>Norwegian For Kids &amp; Babies F</td>\n",
       "      <td>39.99</td>\n",
       "    </tr>\n",
       "    <tr>\n",
       "      <th>2414</th>\n",
       "      <td>LTC AS Legal</td>\n",
       "      <td>39.99</td>\n",
       "    </tr>\n",
       "    <tr>\n",
       "      <th>5360</th>\n",
       "      <td>I am Rich Person</td>\n",
       "      <td>37.99</td>\n",
       "    </tr>\n",
       "  </tbody>\n",
       "</table>\n",
       "</div>"
      ],
      "text/plain": [
       "                                App   Price\n",
       "9719                   EP Cook Book  200.00\n",
       "6692                  cronometra-br  154.99\n",
       "6624        BP Fitness Lead Scanner  109.99\n",
       "9730                        Lean EQ   89.99\n",
       "2253      Vargo Anesthesia Mega App   79.99\n",
       "2390      Language Therapy: Aphasia   74.99\n",
       "6559      Dr.Dice - Sic bo analyzer   46.99\n",
       "4134  Norwegian For Kids & Babies F   39.99\n",
       "2414                   LTC AS Legal   39.99\n",
       "5360               I am Rich Person   37.99"
      ]
     },
     "execution_count": 83,
     "metadata": {},
     "output_type": "execute_result"
    }
   ],
   "source": [
    "top10expensive=gplay[['App','Price']].sort_values(by = \"Price\",ascending=False).head(10)\n",
    "top10expensive"
   ]
  },
  {
   "cell_type": "code",
   "execution_count": 84,
   "metadata": {
    "execution": {
     "iopub.execute_input": "2022-01-08T20:55:53.854669Z",
     "iopub.status.busy": "2022-01-08T20:55:53.854151Z",
     "iopub.status.idle": "2022-01-08T20:55:54.162525Z",
     "shell.execute_reply": "2022-01-08T20:55:54.161955Z",
     "shell.execute_reply.started": "2022-01-08T20:55:53.854608Z"
    }
   },
   "outputs": [
    {
     "data": {
      "image/png": "[encoded data removed]",
      "text/plain": [
       "<Figure size 1080x576 with 1 Axes>"
      ]
     },
     "metadata": {
      "needs_background": "light"
     },
     "output_type": "display_data"
    }
   ],
   "source": [
    "labels = top10expensive.App\n",
    "prices = top10expensive.Price\n",
    "\n",
    "plt.figure(figsize=(15,8))\n",
    "ax=sns.barplot(x = labels, y = prices, palette='twilight_shifted')\n",
    "ax.set_title('Top 10 Most Expensive Apps')\n",
    "plt.xticks(rotation = 90)\n",
    "plt.show()"
   ]
  },
  {
   "cell_type": "markdown",
   "metadata": {},
   "source": [
    "Above are the top 10 most expensive apps on playstore. `LTC AS Legal` is the most expensive app on playstore."
   ]
  },
  {
   "cell_type": "markdown",
   "metadata": {},
   "source": [
    "# Apps with the most reviews"
   ]
  },
  {
   "cell_type": "code",
   "execution_count": 85,
   "metadata": {
    "execution": {
     "iopub.execute_input": "2022-01-08T20:55:54.164171Z",
     "iopub.status.busy": "2022-01-08T20:55:54.163453Z",
     "iopub.status.idle": "2022-01-08T20:55:54.184902Z",
     "shell.execute_reply": "2022-01-08T20:55:54.184091Z",
     "shell.execute_reply.started": "2022-01-08T20:55:54.164137Z"
    }
   },
   "outputs": [
    {
     "data": {
      "text/html": [
       "<div>\n",
       "<style scoped>\n",
       "    .dataframe tbody tr th:only-of-type {\n",
       "        vertical-align: middle;\n",
       "    }\n",
       "\n",
       "    .dataframe tbody tr th {\n",
       "        vertical-align: top;\n",
       "    }\n",
       "\n",
       "    .dataframe thead th {\n",
       "        text-align: right;\n",
       "    }\n",
       "</style>\n",
       "<table border=\"1\" class=\"dataframe\">\n",
       "  <thead>\n",
       "    <tr style=\"text-align: right;\">\n",
       "      <th></th>\n",
       "      <th>App</th>\n",
       "      <th>Category</th>\n",
       "      <th>Rating</th>\n",
       "      <th>Reviews</th>\n",
       "      <th>Size</th>\n",
       "      <th>Installs</th>\n",
       "      <th>Type</th>\n",
       "      <th>Price</th>\n",
       "      <th>Content Rating</th>\n",
       "      <th>Genres</th>\n",
       "    </tr>\n",
       "  </thead>\n",
       "  <tbody>\n",
       "    <tr>\n",
       "      <th>2544</th>\n",
       "      <td>Facebook</td>\n",
       "      <td>SOCIAL</td>\n",
       "      <td>4.1</td>\n",
       "      <td>78158306</td>\n",
       "      <td>21.0</td>\n",
       "      <td>1.000000e+09</td>\n",
       "      <td>Free</td>\n",
       "      <td>0.0</td>\n",
       "      <td>Teen</td>\n",
       "      <td>Social</td>\n",
       "    </tr>\n",
       "    <tr>\n",
       "      <th>336</th>\n",
       "      <td>WhatsApp Messenger</td>\n",
       "      <td>COMMUNICATION</td>\n",
       "      <td>4.4</td>\n",
       "      <td>69119316</td>\n",
       "      <td>21.0</td>\n",
       "      <td>1.000000e+09</td>\n",
       "      <td>Free</td>\n",
       "      <td>0.0</td>\n",
       "      <td>Everyone</td>\n",
       "      <td>Communication</td>\n",
       "    </tr>\n",
       "    <tr>\n",
       "      <th>2545</th>\n",
       "      <td>Instagram</td>\n",
       "      <td>SOCIAL</td>\n",
       "      <td>4.5</td>\n",
       "      <td>66577313</td>\n",
       "      <td>21.0</td>\n",
       "      <td>1.000000e+09</td>\n",
       "      <td>Free</td>\n",
       "      <td>0.0</td>\n",
       "      <td>Teen</td>\n",
       "      <td>Social</td>\n",
       "    </tr>\n",
       "    <tr>\n",
       "      <th>335</th>\n",
       "      <td>Messenger – Text and Video Chat for Free</td>\n",
       "      <td>COMMUNICATION</td>\n",
       "      <td>4.0</td>\n",
       "      <td>56642847</td>\n",
       "      <td>21.0</td>\n",
       "      <td>1.000000e+09</td>\n",
       "      <td>Free</td>\n",
       "      <td>0.0</td>\n",
       "      <td>Everyone</td>\n",
       "      <td>Communication</td>\n",
       "    </tr>\n",
       "    <tr>\n",
       "      <th>1670</th>\n",
       "      <td>Clash of Clans</td>\n",
       "      <td>GAME</td>\n",
       "      <td>4.6</td>\n",
       "      <td>44891723</td>\n",
       "      <td>95.7</td>\n",
       "      <td>1.000000e+08</td>\n",
       "      <td>Free</td>\n",
       "      <td>0.0</td>\n",
       "      <td>Everyone 10+</td>\n",
       "      <td>Strategy</td>\n",
       "    </tr>\n",
       "    <tr>\n",
       "      <th>4005</th>\n",
       "      <td>Clean Master- Space Cleaner &amp; Antivirus</td>\n",
       "      <td>TOOLS</td>\n",
       "      <td>4.7</td>\n",
       "      <td>42916526</td>\n",
       "      <td>21.0</td>\n",
       "      <td>5.000000e+08</td>\n",
       "      <td>Free</td>\n",
       "      <td>0.0</td>\n",
       "      <td>Everyone</td>\n",
       "      <td>Tools</td>\n",
       "    </tr>\n",
       "    <tr>\n",
       "      <th>1654</th>\n",
       "      <td>Subway Surfers</td>\n",
       "      <td>GAME</td>\n",
       "      <td>4.5</td>\n",
       "      <td>27722264</td>\n",
       "      <td>74.2</td>\n",
       "      <td>1.000000e+09</td>\n",
       "      <td>Free</td>\n",
       "      <td>0.0</td>\n",
       "      <td>Everyone 10+</td>\n",
       "      <td>Arcade</td>\n",
       "    </tr>\n",
       "    <tr>\n",
       "      <th>3665</th>\n",
       "      <td>YouTube</td>\n",
       "      <td>VIDEO_PLAYERS</td>\n",
       "      <td>4.3</td>\n",
       "      <td>25655305</td>\n",
       "      <td>21.0</td>\n",
       "      <td>1.000000e+09</td>\n",
       "      <td>Free</td>\n",
       "      <td>0.0</td>\n",
       "      <td>Teen</td>\n",
       "      <td>Video Players &amp; Editors</td>\n",
       "    </tr>\n",
       "    <tr>\n",
       "      <th>7536</th>\n",
       "      <td>Security Master - Antivirus, VPN, AppLock, Boo...</td>\n",
       "      <td>TOOLS</td>\n",
       "      <td>4.7</td>\n",
       "      <td>24900999</td>\n",
       "      <td>21.0</td>\n",
       "      <td>5.000000e+08</td>\n",
       "      <td>Free</td>\n",
       "      <td>0.0</td>\n",
       "      <td>Everyone</td>\n",
       "      <td>Tools</td>\n",
       "    </tr>\n",
       "    <tr>\n",
       "      <th>1660</th>\n",
       "      <td>Clash Royale</td>\n",
       "      <td>GAME</td>\n",
       "      <td>4.6</td>\n",
       "      <td>23133508</td>\n",
       "      <td>94.7</td>\n",
       "      <td>1.000000e+08</td>\n",
       "      <td>Free</td>\n",
       "      <td>0.0</td>\n",
       "      <td>Everyone 10+</td>\n",
       "      <td>Strategy</td>\n",
       "    </tr>\n",
       "  </tbody>\n",
       "</table>\n",
       "</div>"
      ],
      "text/plain": [
       "                                                    App       Category  \\\n",
       "2544                                           Facebook         SOCIAL   \n",
       "336                                  WhatsApp Messenger  COMMUNICATION   \n",
       "2545                                          Instagram         SOCIAL   \n",
       "335            Messenger – Text and Video Chat for Free  COMMUNICATION   \n",
       "1670                                     Clash of Clans           GAME   \n",
       "4005            Clean Master- Space Cleaner & Antivirus          TOOLS   \n",
       "1654                                     Subway Surfers           GAME   \n",
       "3665                                            YouTube  VIDEO_PLAYERS   \n",
       "7536  Security Master - Antivirus, VPN, AppLock, Boo...          TOOLS   \n",
       "1660                                       Clash Royale           GAME   \n",
       "\n",
       "      Rating   Reviews  Size      Installs  Type  Price Content Rating  \\\n",
       "2544     4.1  78158306  21.0  1.000000e+09  Free    0.0           Teen   \n",
       "336      4.4  69119316  21.0  1.000000e+09  Free    0.0       Everyone   \n",
       "2545     4.5  66577313  21.0  1.000000e+09  Free    0.0           Teen   \n",
       "335      4.0  56642847  21.0  1.000000e+09  Free    0.0       Everyone   \n",
       "1670     4.6  44891723  95.7  1.000000e+08  Free    0.0   Everyone 10+   \n",
       "4005     4.7  42916526  21.0  5.000000e+08  Free    0.0       Everyone   \n",
       "1654     4.5  27722264  74.2  1.000000e+09  Free    0.0   Everyone 10+   \n",
       "3665     4.3  25655305  21.0  1.000000e+09  Free    0.0           Teen   \n",
       "7536     4.7  24900999  21.0  5.000000e+08  Free    0.0       Everyone   \n",
       "1660     4.6  23133508  94.7  1.000000e+08  Free    0.0   Everyone 10+   \n",
       "\n",
       "                       Genres  \n",
       "2544                   Social  \n",
       "336             Communication  \n",
       "2545                   Social  \n",
       "335             Communication  \n",
       "1670                 Strategy  \n",
       "4005                    Tools  \n",
       "1654                   Arcade  \n",
       "3665  Video Players & Editors  \n",
       "7536                    Tools  \n",
       "1660                 Strategy  "
      ]
     },
     "execution_count": 85,
     "metadata": {},
     "output_type": "execute_result"
    }
   ],
   "source": [
    "highestRev = gplay.sort_values(by='Reviews', ascending=False).head(10)\n",
    "highestRev"
   ]
  },
  {
   "cell_type": "code",
   "execution_count": 86,
   "metadata": {
    "execution": {
     "iopub.execute_input": "2022-01-08T20:55:54.186497Z",
     "iopub.status.busy": "2022-01-08T20:55:54.186218Z",
     "iopub.status.idle": "2022-01-08T20:55:54.477357Z",
     "shell.execute_reply": "2022-01-08T20:55:54.476563Z",
     "shell.execute_reply.started": "2022-01-08T20:55:54.186469Z"
    }
   },
   "outputs": [
    {
     "data": {
      "image/png": "[encoded data removed]",
      "text/plain": [
       "<Figure size 720x432 with 1 Axes>"
      ]
     },
     "metadata": {
      "needs_background": "light"
     },
     "output_type": "display_data"
    }
   ],
   "source": [
    "# plotting the bar chart for the above graph\n",
    "\n",
    "plt.figure(figsize=(10,6))\n",
    "ax = sns.barplot(x = highestRev.App,y = highestRev.Reviews)\n",
    "ax.set_title(\"Highest Review Apps\")\n",
    "plt.xticks(rotation=90)\n",
    "plt.show()"
   ]
  },
  {
   "cell_type": "markdown",
   "metadata": {},
   "source": [
    "`Facebook` is the app with maximum number of reviews on playstore."
   ]
  },
  {
   "cell_type": "markdown",
   "metadata": {
    "execution": {
     "iopub.execute_input": "2022-01-07T20:15:05.887646Z",
     "iopub.status.busy": "2022-01-07T20:15:05.887185Z",
     "iopub.status.idle": "2022-01-07T20:15:05.892374Z",
     "shell.execute_reply": "2022-01-07T20:15:05.891189Z",
     "shell.execute_reply.started": "2022-01-07T20:15:05.887608Z"
    }
   },
   "source": [
    "# Count of apps in each genre"
   ]
  },
  {
   "cell_type": "code",
   "execution_count": 87,
   "metadata": {
    "execution": {
     "iopub.execute_input": "2022-01-08T20:55:54.4789Z",
     "iopub.status.busy": "2022-01-08T20:55:54.478417Z",
     "iopub.status.idle": "2022-01-08T20:55:54.48693Z",
     "shell.execute_reply": "2022-01-08T20:55:54.486063Z",
     "shell.execute_reply.started": "2022-01-08T20:55:54.47887Z"
    }
   },
   "outputs": [
    {
     "data": {
      "text/plain": [
       "Tools                              825\n",
       "Entertainment                      557\n",
       "Education                          509\n",
       "Business                           420\n",
       "Medical                            394\n",
       "                                  ... \n",
       "Art & Design;Pretend Play            1\n",
       "Lifestyle;Pretend Play               1\n",
       "Comics;Creativity                    1\n",
       "Art & Design;Action & Adventure      1\n",
       "Strategy;Creativity                  1\n",
       "Name: Genres, Length: 118, dtype: int64"
      ]
     },
     "execution_count": 87,
     "metadata": {},
     "output_type": "execute_result"
    }
   ],
   "source": [
    "# Using the value_counts function on gplay.Genres column to get the count of apps in every genre\n",
    "\n",
    "gplay.Genres.value_counts()"
   ]
  },
  {
   "cell_type": "code",
   "execution_count": 88,
   "metadata": {
    "execution": {
     "iopub.execute_input": "2022-01-08T20:55:54.488985Z",
     "iopub.status.busy": "2022-01-08T20:55:54.488353Z",
     "iopub.status.idle": "2022-01-08T20:55:56.037451Z",
     "shell.execute_reply": "2022-01-08T20:55:56.036728Z",
     "shell.execute_reply.started": "2022-01-08T20:55:54.488956Z"
    }
   },
   "outputs": [
    {
     "data": {
      "image/png": "[encoded data removed]",
      "text/plain": [
       "<Figure size 1080x504 with 1 Axes>"
      ]
     },
     "metadata": {
      "needs_background": "light"
     },
     "output_type": "display_data"
    }
   ],
   "source": [
    "genreCount = gplay.Genres.value_counts(ascending=False).head(50)    # selecting top 50 apps with maximum count\n",
    "x = genreCount.index\n",
    "y = genreCount.values\n",
    "\n",
    "plt.figure(figsize=(15,7))\n",
    "ax=sns.barplot(x = x,y=y, palette = 'deep')\n",
    "ax.set_title('Count of Apps in different Genres')\n",
    "plt.xticks(rotation=90)\n",
    "plt.show()"
   ]
  },
  {
   "cell_type": "markdown",
   "metadata": {},
   "source": [
    "From the above visualization we can see that **Tools** has the maximum number Apps followed by **Entertainment, Education, Business and Medical**."
   ]
  },
  {
   "cell_type": "markdown",
   "metadata": {},
   "source": [
    "# Highest earning apps"
   ]
  },
  {
   "cell_type": "code",
   "execution_count": 89,
   "metadata": {
    "execution": {
     "iopub.execute_input": "2022-01-08T20:55:56.039286Z",
     "iopub.status.busy": "2022-01-08T20:55:56.038808Z",
     "iopub.status.idle": "2022-01-08T20:55:56.064209Z",
     "shell.execute_reply": "2022-01-08T20:55:56.063398Z",
     "shell.execute_reply.started": "2022-01-08T20:55:56.039249Z"
    }
   },
   "outputs": [
    {
     "data": {
      "text/html": [
       "<div>\n",
       "<style scoped>\n",
       "    .dataframe tbody tr th:only-of-type {\n",
       "        vertical-align: middle;\n",
       "    }\n",
       "\n",
       "    .dataframe tbody tr th {\n",
       "        vertical-align: top;\n",
       "    }\n",
       "\n",
       "    .dataframe thead th {\n",
       "        text-align: right;\n",
       "    }\n",
       "</style>\n",
       "<table border=\"1\" class=\"dataframe\">\n",
       "  <thead>\n",
       "    <tr style=\"text-align: right;\">\n",
       "      <th></th>\n",
       "      <th>App</th>\n",
       "      <th>Installs</th>\n",
       "      <th>Price</th>\n",
       "      <th>Earning</th>\n",
       "    </tr>\n",
       "  </thead>\n",
       "  <tbody>\n",
       "    <tr>\n",
       "      <th>0</th>\n",
       "      <td>Photo Editor &amp; Candy Camera &amp; Grid &amp; ScrapBook</td>\n",
       "      <td>10000.0</td>\n",
       "      <td>0.0</td>\n",
       "      <td>0.0</td>\n",
       "    </tr>\n",
       "    <tr>\n",
       "      <th>1</th>\n",
       "      <td>Coloring book moana</td>\n",
       "      <td>500000.0</td>\n",
       "      <td>0.0</td>\n",
       "      <td>0.0</td>\n",
       "    </tr>\n",
       "    <tr>\n",
       "      <th>2</th>\n",
       "      <td>U Launcher Lite – FREE Live Cool Themes, Hide ...</td>\n",
       "      <td>5000000.0</td>\n",
       "      <td>0.0</td>\n",
       "      <td>0.0</td>\n",
       "    </tr>\n",
       "    <tr>\n",
       "      <th>3</th>\n",
       "      <td>Sketch - Draw &amp; Paint</td>\n",
       "      <td>50000000.0</td>\n",
       "      <td>0.0</td>\n",
       "      <td>0.0</td>\n",
       "    </tr>\n",
       "    <tr>\n",
       "      <th>4</th>\n",
       "      <td>Pixel Draw - Number Art Coloring Book</td>\n",
       "      <td>100000.0</td>\n",
       "      <td>0.0</td>\n",
       "      <td>0.0</td>\n",
       "    </tr>\n",
       "    <tr>\n",
       "      <th>...</th>\n",
       "      <td>...</td>\n",
       "      <td>...</td>\n",
       "      <td>...</td>\n",
       "      <td>...</td>\n",
       "    </tr>\n",
       "    <tr>\n",
       "      <th>10836</th>\n",
       "      <td>Sya9a Maroc - FR</td>\n",
       "      <td>5000.0</td>\n",
       "      <td>0.0</td>\n",
       "      <td>0.0</td>\n",
       "    </tr>\n",
       "    <tr>\n",
       "      <th>10837</th>\n",
       "      <td>Fr. Mike Schmitz Audio Teachings</td>\n",
       "      <td>100.0</td>\n",
       "      <td>0.0</td>\n",
       "      <td>0.0</td>\n",
       "    </tr>\n",
       "    <tr>\n",
       "      <th>10838</th>\n",
       "      <td>Parkinson Exercices FR</td>\n",
       "      <td>1000.0</td>\n",
       "      <td>0.0</td>\n",
       "      <td>0.0</td>\n",
       "    </tr>\n",
       "    <tr>\n",
       "      <th>10839</th>\n",
       "      <td>The SCP Foundation DB fr nn5n</td>\n",
       "      <td>1000.0</td>\n",
       "      <td>0.0</td>\n",
       "      <td>0.0</td>\n",
       "    </tr>\n",
       "    <tr>\n",
       "      <th>10840</th>\n",
       "      <td>iHoroscope - 2018 Daily Horoscope &amp; Astrology</td>\n",
       "      <td>10000000.0</td>\n",
       "      <td>0.0</td>\n",
       "      <td>0.0</td>\n",
       "    </tr>\n",
       "  </tbody>\n",
       "</table>\n",
       "<p>9631 rows × 4 columns</p>\n",
       "</div>"
      ],
      "text/plain": [
       "                                                     App    Installs  Price  \\\n",
       "0         Photo Editor & Candy Camera & Grid & ScrapBook     10000.0    0.0   \n",
       "1                                    Coloring book moana    500000.0    0.0   \n",
       "2      U Launcher Lite – FREE Live Cool Themes, Hide ...   5000000.0    0.0   \n",
       "3                                  Sketch - Draw & Paint  50000000.0    0.0   \n",
       "4                  Pixel Draw - Number Art Coloring Book    100000.0    0.0   \n",
       "...                                                  ...         ...    ...   \n",
       "10836                                   Sya9a Maroc - FR      5000.0    0.0   \n",
       "10837                   Fr. Mike Schmitz Audio Teachings       100.0    0.0   \n",
       "10838                             Parkinson Exercices FR      1000.0    0.0   \n",
       "10839                      The SCP Foundation DB fr nn5n      1000.0    0.0   \n",
       "10840      iHoroscope - 2018 Daily Horoscope & Astrology  10000000.0    0.0   \n",
       "\n",
       "       Earning  \n",
       "0          0.0  \n",
       "1          0.0  \n",
       "2          0.0  \n",
       "3          0.0  \n",
       "4          0.0  \n",
       "...        ...  \n",
       "10836      0.0  \n",
       "10837      0.0  \n",
       "10838      0.0  \n",
       "10839      0.0  \n",
       "10840      0.0  \n",
       "\n",
       "[9631 rows x 4 columns]"
      ]
     },
     "execution_count": 89,
     "metadata": {},
     "output_type": "execute_result"
    }
   ],
   "source": [
    "earning = gplay[['App','Installs','Price']]\n",
    "earning['Earning'] = gplay.Installs * gplay.Price\n",
    "earning"
   ]
  },
  {
   "cell_type": "code",
   "execution_count": 90,
   "metadata": {
    "execution": {
     "iopub.execute_input": "2022-01-08T20:55:56.065525Z",
     "iopub.status.busy": "2022-01-08T20:55:56.065295Z",
     "iopub.status.idle": "2022-01-08T20:55:56.071402Z",
     "shell.execute_reply": "2022-01-08T20:55:56.070567Z",
     "shell.execute_reply.started": "2022-01-08T20:55:56.065489Z"
    }
   },
   "outputs": [],
   "source": [
    "earning['Earning']=earning.Earning.astype('i')"
   ]
  },
  {
   "cell_type": "code",
   "execution_count": 91,
   "metadata": {
    "execution": {
     "iopub.execute_input": "2022-01-08T20:55:56.073343Z",
     "iopub.status.busy": "2022-01-08T20:55:56.07288Z",
     "iopub.status.idle": "2022-01-08T20:55:56.090979Z",
     "shell.execute_reply": "2022-01-08T20:55:56.090084Z",
     "shell.execute_reply.started": "2022-01-08T20:55:56.073307Z"
    }
   },
   "outputs": [
    {
     "data": {
      "text/html": [
       "<div>\n",
       "<style scoped>\n",
       "    .dataframe tbody tr th:only-of-type {\n",
       "        vertical-align: middle;\n",
       "    }\n",
       "\n",
       "    .dataframe tbody tr th {\n",
       "        vertical-align: top;\n",
       "    }\n",
       "\n",
       "    .dataframe thead th {\n",
       "        text-align: right;\n",
       "    }\n",
       "</style>\n",
       "<table border=\"1\" class=\"dataframe\">\n",
       "  <thead>\n",
       "    <tr style=\"text-align: right;\">\n",
       "      <th></th>\n",
       "      <th>App</th>\n",
       "      <th>Installs</th>\n",
       "      <th>Price</th>\n",
       "      <th>Earning</th>\n",
       "    </tr>\n",
       "  </thead>\n",
       "  <tbody>\n",
       "    <tr>\n",
       "      <th>2241</th>\n",
       "      <td>Minecraft</td>\n",
       "      <td>10000000.0</td>\n",
       "      <td>6.99</td>\n",
       "      <td>69900000</td>\n",
       "    </tr>\n",
       "    <tr>\n",
       "      <th>4034</th>\n",
       "      <td>Hitman Sniper</td>\n",
       "      <td>10000000.0</td>\n",
       "      <td>0.99</td>\n",
       "      <td>9900000</td>\n",
       "    </tr>\n",
       "    <tr>\n",
       "      <th>7417</th>\n",
       "      <td>Grand Theft Auto: San Andreas</td>\n",
       "      <td>1000000.0</td>\n",
       "      <td>6.99</td>\n",
       "      <td>6990000</td>\n",
       "    </tr>\n",
       "    <tr>\n",
       "      <th>2883</th>\n",
       "      <td>Facetune - For Free</td>\n",
       "      <td>1000000.0</td>\n",
       "      <td>5.99</td>\n",
       "      <td>5990000</td>\n",
       "    </tr>\n",
       "    <tr>\n",
       "      <th>5578</th>\n",
       "      <td>Sleep as Android Unlock</td>\n",
       "      <td>1000000.0</td>\n",
       "      <td>5.99</td>\n",
       "      <td>5990000</td>\n",
       "    </tr>\n",
       "    <tr>\n",
       "      <th>8804</th>\n",
       "      <td>DraStic DS Emulator</td>\n",
       "      <td>1000000.0</td>\n",
       "      <td>4.99</td>\n",
       "      <td>4990000</td>\n",
       "    </tr>\n",
       "    <tr>\n",
       "      <th>4133</th>\n",
       "      <td>Weather Live</td>\n",
       "      <td>500000.0</td>\n",
       "      <td>5.99</td>\n",
       "      <td>2995000</td>\n",
       "    </tr>\n",
       "    <tr>\n",
       "      <th>5631</th>\n",
       "      <td>Five Nights at Freddy's</td>\n",
       "      <td>1000000.0</td>\n",
       "      <td>2.99</td>\n",
       "      <td>2990000</td>\n",
       "    </tr>\n",
       "    <tr>\n",
       "      <th>9941</th>\n",
       "      <td>Tasker</td>\n",
       "      <td>1000000.0</td>\n",
       "      <td>2.99</td>\n",
       "      <td>2990000</td>\n",
       "    </tr>\n",
       "    <tr>\n",
       "      <th>2242</th>\n",
       "      <td>Card Wars - Adventure Time</td>\n",
       "      <td>1000000.0</td>\n",
       "      <td>2.99</td>\n",
       "      <td>2990000</td>\n",
       "    </tr>\n",
       "  </tbody>\n",
       "</table>\n",
       "</div>"
      ],
      "text/plain": [
       "                                App    Installs  Price   Earning\n",
       "2241                      Minecraft  10000000.0   6.99  69900000\n",
       "4034                  Hitman Sniper  10000000.0   0.99   9900000\n",
       "7417  Grand Theft Auto: San Andreas   1000000.0   6.99   6990000\n",
       "2883            Facetune - For Free   1000000.0   5.99   5990000\n",
       "5578        Sleep as Android Unlock   1000000.0   5.99   5990000\n",
       "8804            DraStic DS Emulator   1000000.0   4.99   4990000\n",
       "4133                   Weather Live    500000.0   5.99   2995000\n",
       "5631        Five Nights at Freddy's   1000000.0   2.99   2990000\n",
       "9941                         Tasker   1000000.0   2.99   2990000\n",
       "2242     Card Wars - Adventure Time   1000000.0   2.99   2990000"
      ]
     },
     "execution_count": 91,
     "metadata": {},
     "output_type": "execute_result"
    }
   ],
   "source": [
    "highestEarning = earning.sort_values(by='Earning',ascending=False).head(10)\n",
    "highestEarning"
   ]
  },
  {
   "cell_type": "code",
   "execution_count": 92,
   "metadata": {
    "execution": {
     "iopub.execute_input": "2022-01-08T20:55:56.093302Z",
     "iopub.status.busy": "2022-01-08T20:55:56.092364Z",
     "iopub.status.idle": "2022-01-08T20:55:56.401576Z",
     "shell.execute_reply": "2022-01-08T20:55:56.400619Z",
     "shell.execute_reply.started": "2022-01-08T20:55:56.09325Z"
    }
   },
   "outputs": [
    {
     "data": {
      "image/png": "[encoded data removed]",
      "text/plain": [
       "<Figure size 864x504 with 1 Axes>"
      ]
     },
     "metadata": {
      "needs_background": "light"
     },
     "output_type": "display_data"
    }
   ],
   "source": [
    "labels=highestEarning.App\n",
    "values=highestEarning.Earning\n",
    "\n",
    "plt.figure(figsize=(12,7))           \n",
    "sns.barplot(x=labels, y=values)\n",
    "plt.xticks(rotation=90)\n",
    "plt.show()"
   ]
  },
  {
   "cell_type": "markdown",
   "metadata": {
    "execution": {
     "iopub.execute_input": "2022-01-08T19:54:57.102401Z",
     "iopub.status.busy": "2022-01-08T19:54:57.101226Z",
     "iopub.status.idle": "2022-01-08T19:54:57.109184Z",
     "shell.execute_reply": "2022-01-08T19:54:57.107934Z",
     "shell.execute_reply.started": "2022-01-08T19:54:57.10234Z"
    }
   },
   "source": [
    "The top five apps with highest earnings found on google playstore are:-\n",
    "1. Minecraft\n",
    "2. Hitman Sniper\n",
    "3. Grand Theft Auto: San Andreas\n",
    "4. Facetune-For Free\n",
    "5. Sleep as Android Unlock"
   ]
  }
 ],
 "metadata": {
  "kernelspec": {
   "display_name": "Python 3",
   "language": "python",
   "name": "python3"
  },
  "language_info": {
   "codemirror_mode": {
    "name": "ipython",
    "version": 3
   },
   "file_extension": ".py",
   "mimetype": "text/x-python",
   "name": "python",
   "nbconvert_exporter": "python",
   "pygments_lexer": "ipython3",
   "version": "3.8.8"
  }
 },
 "nbformat": 4,
 "nbformat_minor": 4
}
